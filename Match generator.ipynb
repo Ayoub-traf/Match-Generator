{
  "nbformat": 4,
  "nbformat_minor": 0,
  "metadata": {
    "colab": {
      "provenance": []
    },
    "kernelspec": {
      "name": "python3",
      "display_name": "Python 3"
    },
    "language_info": {
      "name": "python"
    }
  },
  "cells": [
    {
      "cell_type": "code",
      "source": [
        "import pandas as pd\n",
        "import numpy as np\n",
        "from sdv.metadata import SingleTableMetadata\n",
        "from sdv.single_table import CTGANSynthesizer\n",
        "import plotly.express as px\n",
        "import plotly.graph_objects as go\n",
        "import seaborn as sns\n",
        "import matplotlib.pyplot as plt\n",
        "import warnings\n",
        "warnings.filterwarnings(\"ignore\")"
      ],
      "metadata": {
        "id": "xLTNPMGgQG94"
      },
      "execution_count": null,
      "outputs": []
    },
    {
      "cell_type": "code",
      "source": [
        "match_1 = pd.read_json('/content/drive/MyDrive/footbar/match_1.json')\n",
        "match_2 = pd.read_json('/content/drive/MyDrive/footbar/match_2.json')\n",
        "match_concat = pd.concat([match_1, match_2], ignore_index=True)"
      ],
      "metadata": {
        "id": "Dwkd0dK8QNmc"
      },
      "execution_count": null,
      "outputs": []
    },
    {
      "cell_type": "markdown",
      "source": [
        "# Exploratory Data Analysis"
      ],
      "metadata": {
        "id": "9hIr-ql9qrBM"
      }
    },
    {
      "cell_type": "markdown",
      "source": [
        "To explore the differences between the actions, we try to calculate the duration of each one, and some stastics of the acceleration (min, max, mean, median and standard deviation)."
      ],
      "metadata": {
        "id": "Ly32Pt0oYJOh"
      }
    },
    {
      "cell_type": "code",
      "source": [
        "match_concat['gait_duration'] = match_concat['norm'].apply(len)*0.02\n",
        "match_concat['gait_mean'] = match_concat['norm'].apply(np.mean)\n",
        "match_concat['gait_min'] = match_concat['norm'].apply(np.min)\n",
        "match_concat['gait_max'] = match_concat['norm'].apply(np.max)\n",
        "match_concat['gait_median'] = match_concat['norm'].apply(np.median)\n",
        "match_concat['gait_std'] = match_concat['norm'].apply(np.std)\n",
        "match_concat"
      ],
      "metadata": {
        "colab": {
          "base_uri": "https://localhost:8080/",
          "height": 424
        },
        "id": "3cN7nVHCRSyq",
        "outputId": "759ddf9d-2768-4978-d5cc-aee4ee81a939"
      },
      "execution_count": null,
      "outputs": [
        {
          "output_type": "execute_result",
          "data": {
            "text/plain": [
              "     label                                               norm  gait_duration  \\\n",
              "0     walk  [23.177037336396975, 23.361525285249378, 21.53...           1.44   \n",
              "1     walk  [20.998214383911275, 19.182798059840767, 18.27...           1.08   \n",
              "2     walk  [21.95259682019565, 20.62720484424047, 22.5554...           1.36   \n",
              "3     walk  [19.39209748358647, 19.30460665293087, 18.9787...           1.50   \n",
              "4     rest  [22.069263037713093, 19.672270483203395, 19.88...           3.62   \n",
              "...    ...                                                ...            ...   \n",
              "1182  walk  [23.337305769963503, 20.210987911153104, 25.06...           1.04   \n",
              "1183  walk  [22.470322813933603, 22.552427730975246, 23.84...           1.28   \n",
              "1184  walk  [43.833612705797144, 46.18045998580312, 37.492...           1.20   \n",
              "1185  walk  [30.927599255773355, 31.26358258808756, 28.286...           1.32   \n",
              "1186  walk  [30.94168559492879, 47.060036178960765, 37.195...           1.44   \n",
              "\n",
              "      gait_mean   gait_min   gait_max  gait_median   gait_std  \n",
              "0     24.166958  15.392703  42.738486    22.417711   5.965416  \n",
              "1     26.026276  15.520896  53.767061    22.864346   8.479134  \n",
              "2     23.998177  14.484489  42.105998    21.584619   6.328823  \n",
              "3     22.596573  14.867721  47.934160    20.998214   5.545197  \n",
              "4     20.378778  17.789805  22.069263    20.509409   0.739506  \n",
              "...         ...        ...        ...          ...        ...  \n",
              "1182  29.107628  11.190245  65.462316    24.723429  10.920141  \n",
              "1183  26.673605  11.657530  51.724442    23.684421   8.728731  \n",
              "1184  28.842287  15.539368  89.365797    23.424746  12.171922  \n",
              "1185  25.121496   7.309930  71.505826    23.016231   9.942930  \n",
              "1186  26.918923  12.060205  68.322510    22.912946  11.036037  \n",
              "\n",
              "[1187 rows x 8 columns]"
            ],
            "text/html": [
              "\n",
              "  <div id=\"df-df70e006-0393-46bb-873b-6ec648fddab0\" class=\"colab-df-container\">\n",
              "    <div>\n",
              "<style scoped>\n",
              "    .dataframe tbody tr th:only-of-type {\n",
              "        vertical-align: middle;\n",
              "    }\n",
              "\n",
              "    .dataframe tbody tr th {\n",
              "        vertical-align: top;\n",
              "    }\n",
              "\n",
              "    .dataframe thead th {\n",
              "        text-align: right;\n",
              "    }\n",
              "</style>\n",
              "<table border=\"1\" class=\"dataframe\">\n",
              "  <thead>\n",
              "    <tr style=\"text-align: right;\">\n",
              "      <th></th>\n",
              "      <th>label</th>\n",
              "      <th>norm</th>\n",
              "      <th>gait_duration</th>\n",
              "      <th>gait_mean</th>\n",
              "      <th>gait_min</th>\n",
              "      <th>gait_max</th>\n",
              "      <th>gait_median</th>\n",
              "      <th>gait_std</th>\n",
              "    </tr>\n",
              "  </thead>\n",
              "  <tbody>\n",
              "    <tr>\n",
              "      <th>0</th>\n",
              "      <td>walk</td>\n",
              "      <td>[23.177037336396975, 23.361525285249378, 21.53...</td>\n",
              "      <td>1.44</td>\n",
              "      <td>24.166958</td>\n",
              "      <td>15.392703</td>\n",
              "      <td>42.738486</td>\n",
              "      <td>22.417711</td>\n",
              "      <td>5.965416</td>\n",
              "    </tr>\n",
              "    <tr>\n",
              "      <th>1</th>\n",
              "      <td>walk</td>\n",
              "      <td>[20.998214383911275, 19.182798059840767, 18.27...</td>\n",
              "      <td>1.08</td>\n",
              "      <td>26.026276</td>\n",
              "      <td>15.520896</td>\n",
              "      <td>53.767061</td>\n",
              "      <td>22.864346</td>\n",
              "      <td>8.479134</td>\n",
              "    </tr>\n",
              "    <tr>\n",
              "      <th>2</th>\n",
              "      <td>walk</td>\n",
              "      <td>[21.95259682019565, 20.62720484424047, 22.5554...</td>\n",
              "      <td>1.36</td>\n",
              "      <td>23.998177</td>\n",
              "      <td>14.484489</td>\n",
              "      <td>42.105998</td>\n",
              "      <td>21.584619</td>\n",
              "      <td>6.328823</td>\n",
              "    </tr>\n",
              "    <tr>\n",
              "      <th>3</th>\n",
              "      <td>walk</td>\n",
              "      <td>[19.39209748358647, 19.30460665293087, 18.9787...</td>\n",
              "      <td>1.50</td>\n",
              "      <td>22.596573</td>\n",
              "      <td>14.867721</td>\n",
              "      <td>47.934160</td>\n",
              "      <td>20.998214</td>\n",
              "      <td>5.545197</td>\n",
              "    </tr>\n",
              "    <tr>\n",
              "      <th>4</th>\n",
              "      <td>rest</td>\n",
              "      <td>[22.069263037713093, 19.672270483203395, 19.88...</td>\n",
              "      <td>3.62</td>\n",
              "      <td>20.378778</td>\n",
              "      <td>17.789805</td>\n",
              "      <td>22.069263</td>\n",
              "      <td>20.509409</td>\n",
              "      <td>0.739506</td>\n",
              "    </tr>\n",
              "    <tr>\n",
              "      <th>...</th>\n",
              "      <td>...</td>\n",
              "      <td>...</td>\n",
              "      <td>...</td>\n",
              "      <td>...</td>\n",
              "      <td>...</td>\n",
              "      <td>...</td>\n",
              "      <td>...</td>\n",
              "      <td>...</td>\n",
              "    </tr>\n",
              "    <tr>\n",
              "      <th>1182</th>\n",
              "      <td>walk</td>\n",
              "      <td>[23.337305769963503, 20.210987911153104, 25.06...</td>\n",
              "      <td>1.04</td>\n",
              "      <td>29.107628</td>\n",
              "      <td>11.190245</td>\n",
              "      <td>65.462316</td>\n",
              "      <td>24.723429</td>\n",
              "      <td>10.920141</td>\n",
              "    </tr>\n",
              "    <tr>\n",
              "      <th>1183</th>\n",
              "      <td>walk</td>\n",
              "      <td>[22.470322813933603, 22.552427730975246, 23.84...</td>\n",
              "      <td>1.28</td>\n",
              "      <td>26.673605</td>\n",
              "      <td>11.657530</td>\n",
              "      <td>51.724442</td>\n",
              "      <td>23.684421</td>\n",
              "      <td>8.728731</td>\n",
              "    </tr>\n",
              "    <tr>\n",
              "      <th>1184</th>\n",
              "      <td>walk</td>\n",
              "      <td>[43.833612705797144, 46.18045998580312, 37.492...</td>\n",
              "      <td>1.20</td>\n",
              "      <td>28.842287</td>\n",
              "      <td>15.539368</td>\n",
              "      <td>89.365797</td>\n",
              "      <td>23.424746</td>\n",
              "      <td>12.171922</td>\n",
              "    </tr>\n",
              "    <tr>\n",
              "      <th>1185</th>\n",
              "      <td>walk</td>\n",
              "      <td>[30.927599255773355, 31.26358258808756, 28.286...</td>\n",
              "      <td>1.32</td>\n",
              "      <td>25.121496</td>\n",
              "      <td>7.309930</td>\n",
              "      <td>71.505826</td>\n",
              "      <td>23.016231</td>\n",
              "      <td>9.942930</td>\n",
              "    </tr>\n",
              "    <tr>\n",
              "      <th>1186</th>\n",
              "      <td>walk</td>\n",
              "      <td>[30.94168559492879, 47.060036178960765, 37.195...</td>\n",
              "      <td>1.44</td>\n",
              "      <td>26.918923</td>\n",
              "      <td>12.060205</td>\n",
              "      <td>68.322510</td>\n",
              "      <td>22.912946</td>\n",
              "      <td>11.036037</td>\n",
              "    </tr>\n",
              "  </tbody>\n",
              "</table>\n",
              "<p>1187 rows × 8 columns</p>\n",
              "</div>\n",
              "    <div class=\"colab-df-buttons\">\n",
              "\n",
              "  <div class=\"colab-df-container\">\n",
              "    <button class=\"colab-df-convert\" onclick=\"convertToInteractive('df-df70e006-0393-46bb-873b-6ec648fddab0')\"\n",
              "            title=\"Convert this dataframe to an interactive table.\"\n",
              "            style=\"display:none;\">\n",
              "\n",
              "  <svg xmlns=\"http://www.w3.org/2000/svg\" height=\"24px\" viewBox=\"0 -960 960 960\">\n",
              "    <path d=\"M120-120v-720h720v720H120Zm60-500h600v-160H180v160Zm220 220h160v-160H400v160Zm0 220h160v-160H400v160ZM180-400h160v-160H180v160Zm440 0h160v-160H620v160ZM180-180h160v-160H180v160Zm440 0h160v-160H620v160Z\"/>\n",
              "  </svg>\n",
              "    </button>\n",
              "\n",
              "  <style>\n",
              "    .colab-df-container {\n",
              "      display:flex;\n",
              "      gap: 12px;\n",
              "    }\n",
              "\n",
              "    .colab-df-convert {\n",
              "      background-color: #E8F0FE;\n",
              "      border: none;\n",
              "      border-radius: 50%;\n",
              "      cursor: pointer;\n",
              "      display: none;\n",
              "      fill: #1967D2;\n",
              "      height: 32px;\n",
              "      padding: 0 0 0 0;\n",
              "      width: 32px;\n",
              "    }\n",
              "\n",
              "    .colab-df-convert:hover {\n",
              "      background-color: #E2EBFA;\n",
              "      box-shadow: 0px 1px 2px rgba(60, 64, 67, 0.3), 0px 1px 3px 1px rgba(60, 64, 67, 0.15);\n",
              "      fill: #174EA6;\n",
              "    }\n",
              "\n",
              "    .colab-df-buttons div {\n",
              "      margin-bottom: 4px;\n",
              "    }\n",
              "\n",
              "    [theme=dark] .colab-df-convert {\n",
              "      background-color: #3B4455;\n",
              "      fill: #D2E3FC;\n",
              "    }\n",
              "\n",
              "    [theme=dark] .colab-df-convert:hover {\n",
              "      background-color: #434B5C;\n",
              "      box-shadow: 0px 1px 3px 1px rgba(0, 0, 0, 0.15);\n",
              "      filter: drop-shadow(0px 1px 2px rgba(0, 0, 0, 0.3));\n",
              "      fill: #FFFFFF;\n",
              "    }\n",
              "  </style>\n",
              "\n",
              "    <script>\n",
              "      const buttonEl =\n",
              "        document.querySelector('#df-df70e006-0393-46bb-873b-6ec648fddab0 button.colab-df-convert');\n",
              "      buttonEl.style.display =\n",
              "        google.colab.kernel.accessAllowed ? 'block' : 'none';\n",
              "\n",
              "      async function convertToInteractive(key) {\n",
              "        const element = document.querySelector('#df-df70e006-0393-46bb-873b-6ec648fddab0');\n",
              "        const dataTable =\n",
              "          await google.colab.kernel.invokeFunction('convertToInteractive',\n",
              "                                                    [key], {});\n",
              "        if (!dataTable) return;\n",
              "\n",
              "        const docLinkHtml = 'Like what you see? Visit the ' +\n",
              "          '<a target=\"_blank\" href=https://colab.research.google.com/notebooks/data_table.ipynb>data table notebook</a>'\n",
              "          + ' to learn more about interactive tables.';\n",
              "        element.innerHTML = '';\n",
              "        dataTable['output_type'] = 'display_data';\n",
              "        await google.colab.output.renderOutput(dataTable, element);\n",
              "        const docLink = document.createElement('div');\n",
              "        docLink.innerHTML = docLinkHtml;\n",
              "        element.appendChild(docLink);\n",
              "      }\n",
              "    </script>\n",
              "  </div>\n",
              "\n",
              "\n",
              "<div id=\"df-213741d6-8b8e-408a-9142-97924f55eef4\">\n",
              "  <button class=\"colab-df-quickchart\" onclick=\"quickchart('df-213741d6-8b8e-408a-9142-97924f55eef4')\"\n",
              "            title=\"Suggest charts.\"\n",
              "            style=\"display:none;\">\n",
              "\n",
              "<svg xmlns=\"http://www.w3.org/2000/svg\" height=\"24px\"viewBox=\"0 0 24 24\"\n",
              "     width=\"24px\">\n",
              "    <g>\n",
              "        <path d=\"M19 3H5c-1.1 0-2 .9-2 2v14c0 1.1.9 2 2 2h14c1.1 0 2-.9 2-2V5c0-1.1-.9-2-2-2zM9 17H7v-7h2v7zm4 0h-2V7h2v10zm4 0h-2v-4h2v4z\"/>\n",
              "    </g>\n",
              "</svg>\n",
              "  </button>\n",
              "\n",
              "<style>\n",
              "  .colab-df-quickchart {\n",
              "      --bg-color: #E8F0FE;\n",
              "      --fill-color: #1967D2;\n",
              "      --hover-bg-color: #E2EBFA;\n",
              "      --hover-fill-color: #174EA6;\n",
              "      --disabled-fill-color: #AAA;\n",
              "      --disabled-bg-color: #DDD;\n",
              "  }\n",
              "\n",
              "  [theme=dark] .colab-df-quickchart {\n",
              "      --bg-color: #3B4455;\n",
              "      --fill-color: #D2E3FC;\n",
              "      --hover-bg-color: #434B5C;\n",
              "      --hover-fill-color: #FFFFFF;\n",
              "      --disabled-bg-color: #3B4455;\n",
              "      --disabled-fill-color: #666;\n",
              "  }\n",
              "\n",
              "  .colab-df-quickchart {\n",
              "    background-color: var(--bg-color);\n",
              "    border: none;\n",
              "    border-radius: 50%;\n",
              "    cursor: pointer;\n",
              "    display: none;\n",
              "    fill: var(--fill-color);\n",
              "    height: 32px;\n",
              "    padding: 0;\n",
              "    width: 32px;\n",
              "  }\n",
              "\n",
              "  .colab-df-quickchart:hover {\n",
              "    background-color: var(--hover-bg-color);\n",
              "    box-shadow: 0 1px 2px rgba(60, 64, 67, 0.3), 0 1px 3px 1px rgba(60, 64, 67, 0.15);\n",
              "    fill: var(--button-hover-fill-color);\n",
              "  }\n",
              "\n",
              "  .colab-df-quickchart-complete:disabled,\n",
              "  .colab-df-quickchart-complete:disabled:hover {\n",
              "    background-color: var(--disabled-bg-color);\n",
              "    fill: var(--disabled-fill-color);\n",
              "    box-shadow: none;\n",
              "  }\n",
              "\n",
              "  .colab-df-spinner {\n",
              "    border: 2px solid var(--fill-color);\n",
              "    border-color: transparent;\n",
              "    border-bottom-color: var(--fill-color);\n",
              "    animation:\n",
              "      spin 1s steps(1) infinite;\n",
              "  }\n",
              "\n",
              "  @keyframes spin {\n",
              "    0% {\n",
              "      border-color: transparent;\n",
              "      border-bottom-color: var(--fill-color);\n",
              "      border-left-color: var(--fill-color);\n",
              "    }\n",
              "    20% {\n",
              "      border-color: transparent;\n",
              "      border-left-color: var(--fill-color);\n",
              "      border-top-color: var(--fill-color);\n",
              "    }\n",
              "    30% {\n",
              "      border-color: transparent;\n",
              "      border-left-color: var(--fill-color);\n",
              "      border-top-color: var(--fill-color);\n",
              "      border-right-color: var(--fill-color);\n",
              "    }\n",
              "    40% {\n",
              "      border-color: transparent;\n",
              "      border-right-color: var(--fill-color);\n",
              "      border-top-color: var(--fill-color);\n",
              "    }\n",
              "    60% {\n",
              "      border-color: transparent;\n",
              "      border-right-color: var(--fill-color);\n",
              "    }\n",
              "    80% {\n",
              "      border-color: transparent;\n",
              "      border-right-color: var(--fill-color);\n",
              "      border-bottom-color: var(--fill-color);\n",
              "    }\n",
              "    90% {\n",
              "      border-color: transparent;\n",
              "      border-bottom-color: var(--fill-color);\n",
              "    }\n",
              "  }\n",
              "</style>\n",
              "\n",
              "  <script>\n",
              "    async function quickchart(key) {\n",
              "      const quickchartButtonEl =\n",
              "        document.querySelector('#' + key + ' button');\n",
              "      quickchartButtonEl.disabled = true;  // To prevent multiple clicks.\n",
              "      quickchartButtonEl.classList.add('colab-df-spinner');\n",
              "      try {\n",
              "        const charts = await google.colab.kernel.invokeFunction(\n",
              "            'suggestCharts', [key], {});\n",
              "      } catch (error) {\n",
              "        console.error('Error during call to suggestCharts:', error);\n",
              "      }\n",
              "      quickchartButtonEl.classList.remove('colab-df-spinner');\n",
              "      quickchartButtonEl.classList.add('colab-df-quickchart-complete');\n",
              "    }\n",
              "    (() => {\n",
              "      let quickchartButtonEl =\n",
              "        document.querySelector('#df-213741d6-8b8e-408a-9142-97924f55eef4 button');\n",
              "      quickchartButtonEl.style.display =\n",
              "        google.colab.kernel.accessAllowed ? 'block' : 'none';\n",
              "    })();\n",
              "  </script>\n",
              "</div>\n",
              "    </div>\n",
              "  </div>\n"
            ]
          },
          "metadata": {},
          "execution_count": 3
        }
      ]
    },
    {
      "cell_type": "markdown",
      "source": [
        "### Number of occurrences by action\n",
        "\n"
      ],
      "metadata": {
        "id": "I-lDKpgNZbWX"
      }
    },
    {
      "cell_type": "code",
      "source": [
        "match_concat.label.value_counts(normalize=True)"
      ],
      "metadata": {
        "colab": {
          "base_uri": "https://localhost:8080/"
        },
        "id": "dsvYpl2BZdJQ",
        "outputId": "893a8c32-3e94-448f-9b08-5e739fa713e2"
      },
      "execution_count": null,
      "outputs": [
        {
          "output_type": "execute_result",
          "data": {
            "text/plain": [
              "run          0.465038\n",
              "walk         0.366470\n",
              "dribble      0.065712\n",
              "rest         0.029486\n",
              "pass         0.026959\n",
              "tackle       0.026116\n",
              "shot         0.015164\n",
              "cross        0.003370\n",
              "no action    0.001685\n",
              "Name: label, dtype: float64"
            ]
          },
          "metadata": {},
          "execution_count": 4
        }
      ]
    },
    {
      "cell_type": "markdown",
      "source": [
        "The \"run\" and \"walk\" actions are the most common. This gives us an idea of the distribution of the action in a match. A match is made up of more than 50% of \"run\" and \"walk\" actions."
      ],
      "metadata": {
        "id": "4f456zszbflp"
      }
    },
    {
      "cell_type": "code",
      "source": [
        "match_concat_count = match_concat.groupby(\"label\",as_index=False).count().rename(columns={\"norm\":\"count\"})\n",
        "fig = px.bar(match_concat_count, x='count', y='label', title = \"Number of occurrences by action\")\n",
        "fig.update_layout(title_x=0.5)\n",
        "fig.show()"
      ],
      "metadata": {
        "colab": {
          "base_uri": "https://localhost:8080/",
          "height": 542
        },
        "id": "WMpPt_YTqqC9",
        "outputId": "7d385e5e-6d49-484e-9d9a-33280bf00d07"
      },
      "execution_count": null,
      "outputs": [
        {
          "output_type": "display_data",
          "data": {
            "text/html": [
              "<html>\n",
              "<head><meta charset=\"utf-8\" /></head>\n",
              "<body>\n",
              "    <div>            <script src=\"https://cdnjs.cloudflare.com/ajax/libs/mathjax/2.7.5/MathJax.js?config=TeX-AMS-MML_SVG\"></script><script type=\"text/javascript\">if (window.MathJax && window.MathJax.Hub && window.MathJax.Hub.Config) {window.MathJax.Hub.Config({SVG: {font: \"STIX-Web\"}});}</script>                <script type=\"text/javascript\">window.PlotlyConfig = {MathJaxConfig: 'local'};</script>\n",
              "        <script charset=\"utf-8\" src=\"https://cdn.plot.ly/plotly-2.24.1.min.js\"></script>                <div id=\"bbf22005-62ca-4c17-963b-d4aa9227ec06\" class=\"plotly-graph-div\" style=\"height:525px; width:100%;\"></div>            <script type=\"text/javascript\">                                    window.PLOTLYENV=window.PLOTLYENV || {};                                    if (document.getElementById(\"bbf22005-62ca-4c17-963b-d4aa9227ec06\")) {                    Plotly.newPlot(                        \"bbf22005-62ca-4c17-963b-d4aa9227ec06\",                        [{\"alignmentgroup\":\"True\",\"hovertemplate\":\"count=%{x}\\u003cbr\\u003elabel=%{y}\\u003cextra\\u003e\\u003c\\u002fextra\\u003e\",\"legendgroup\":\"\",\"marker\":{\"color\":\"#636efa\",\"pattern\":{\"shape\":\"\"}},\"name\":\"\",\"offsetgroup\":\"\",\"orientation\":\"h\",\"showlegend\":false,\"textposition\":\"auto\",\"x\":[4,78,2,32,35,552,18,31,435],\"xaxis\":\"x\",\"y\":[\"cross\",\"dribble\",\"no action\",\"pass\",\"rest\",\"run\",\"shot\",\"tackle\",\"walk\"],\"yaxis\":\"y\",\"type\":\"bar\"}],                        {\"template\":{\"data\":{\"histogram2dcontour\":[{\"type\":\"histogram2dcontour\",\"colorbar\":{\"outlinewidth\":0,\"ticks\":\"\"},\"colorscale\":[[0.0,\"#0d0887\"],[0.1111111111111111,\"#46039f\"],[0.2222222222222222,\"#7201a8\"],[0.3333333333333333,\"#9c179e\"],[0.4444444444444444,\"#bd3786\"],[0.5555555555555556,\"#d8576b\"],[0.6666666666666666,\"#ed7953\"],[0.7777777777777778,\"#fb9f3a\"],[0.8888888888888888,\"#fdca26\"],[1.0,\"#f0f921\"]]}],\"choropleth\":[{\"type\":\"choropleth\",\"colorbar\":{\"outlinewidth\":0,\"ticks\":\"\"}}],\"histogram2d\":[{\"type\":\"histogram2d\",\"colorbar\":{\"outlinewidth\":0,\"ticks\":\"\"},\"colorscale\":[[0.0,\"#0d0887\"],[0.1111111111111111,\"#46039f\"],[0.2222222222222222,\"#7201a8\"],[0.3333333333333333,\"#9c179e\"],[0.4444444444444444,\"#bd3786\"],[0.5555555555555556,\"#d8576b\"],[0.6666666666666666,\"#ed7953\"],[0.7777777777777778,\"#fb9f3a\"],[0.8888888888888888,\"#fdca26\"],[1.0,\"#f0f921\"]]}],\"heatmap\":[{\"type\":\"heatmap\",\"colorbar\":{\"outlinewidth\":0,\"ticks\":\"\"},\"colorscale\":[[0.0,\"#0d0887\"],[0.1111111111111111,\"#46039f\"],[0.2222222222222222,\"#7201a8\"],[0.3333333333333333,\"#9c179e\"],[0.4444444444444444,\"#bd3786\"],[0.5555555555555556,\"#d8576b\"],[0.6666666666666666,\"#ed7953\"],[0.7777777777777778,\"#fb9f3a\"],[0.8888888888888888,\"#fdca26\"],[1.0,\"#f0f921\"]]}],\"heatmapgl\":[{\"type\":\"heatmapgl\",\"colorbar\":{\"outlinewidth\":0,\"ticks\":\"\"},\"colorscale\":[[0.0,\"#0d0887\"],[0.1111111111111111,\"#46039f\"],[0.2222222222222222,\"#7201a8\"],[0.3333333333333333,\"#9c179e\"],[0.4444444444444444,\"#bd3786\"],[0.5555555555555556,\"#d8576b\"],[0.6666666666666666,\"#ed7953\"],[0.7777777777777778,\"#fb9f3a\"],[0.8888888888888888,\"#fdca26\"],[1.0,\"#f0f921\"]]}],\"contourcarpet\":[{\"type\":\"contourcarpet\",\"colorbar\":{\"outlinewidth\":0,\"ticks\":\"\"}}],\"contour\":[{\"type\":\"contour\",\"colorbar\":{\"outlinewidth\":0,\"ticks\":\"\"},\"colorscale\":[[0.0,\"#0d0887\"],[0.1111111111111111,\"#46039f\"],[0.2222222222222222,\"#7201a8\"],[0.3333333333333333,\"#9c179e\"],[0.4444444444444444,\"#bd3786\"],[0.5555555555555556,\"#d8576b\"],[0.6666666666666666,\"#ed7953\"],[0.7777777777777778,\"#fb9f3a\"],[0.8888888888888888,\"#fdca26\"],[1.0,\"#f0f921\"]]}],\"surface\":[{\"type\":\"surface\",\"colorbar\":{\"outlinewidth\":0,\"ticks\":\"\"},\"colorscale\":[[0.0,\"#0d0887\"],[0.1111111111111111,\"#46039f\"],[0.2222222222222222,\"#7201a8\"],[0.3333333333333333,\"#9c179e\"],[0.4444444444444444,\"#bd3786\"],[0.5555555555555556,\"#d8576b\"],[0.6666666666666666,\"#ed7953\"],[0.7777777777777778,\"#fb9f3a\"],[0.8888888888888888,\"#fdca26\"],[1.0,\"#f0f921\"]]}],\"mesh3d\":[{\"type\":\"mesh3d\",\"colorbar\":{\"outlinewidth\":0,\"ticks\":\"\"}}],\"scatter\":[{\"fillpattern\":{\"fillmode\":\"overlay\",\"size\":10,\"solidity\":0.2},\"type\":\"scatter\"}],\"parcoords\":[{\"type\":\"parcoords\",\"line\":{\"colorbar\":{\"outlinewidth\":0,\"ticks\":\"\"}}}],\"scatterpolargl\":[{\"type\":\"scatterpolargl\",\"marker\":{\"colorbar\":{\"outlinewidth\":0,\"ticks\":\"\"}}}],\"bar\":[{\"error_x\":{\"color\":\"#2a3f5f\"},\"error_y\":{\"color\":\"#2a3f5f\"},\"marker\":{\"line\":{\"color\":\"#E5ECF6\",\"width\":0.5},\"pattern\":{\"fillmode\":\"overlay\",\"size\":10,\"solidity\":0.2}},\"type\":\"bar\"}],\"scattergeo\":[{\"type\":\"scattergeo\",\"marker\":{\"colorbar\":{\"outlinewidth\":0,\"ticks\":\"\"}}}],\"scatterpolar\":[{\"type\":\"scatterpolar\",\"marker\":{\"colorbar\":{\"outlinewidth\":0,\"ticks\":\"\"}}}],\"histogram\":[{\"marker\":{\"pattern\":{\"fillmode\":\"overlay\",\"size\":10,\"solidity\":0.2}},\"type\":\"histogram\"}],\"scattergl\":[{\"type\":\"scattergl\",\"marker\":{\"colorbar\":{\"outlinewidth\":0,\"ticks\":\"\"}}}],\"scatter3d\":[{\"type\":\"scatter3d\",\"line\":{\"colorbar\":{\"outlinewidth\":0,\"ticks\":\"\"}},\"marker\":{\"colorbar\":{\"outlinewidth\":0,\"ticks\":\"\"}}}],\"scattermapbox\":[{\"type\":\"scattermapbox\",\"marker\":{\"colorbar\":{\"outlinewidth\":0,\"ticks\":\"\"}}}],\"scatterternary\":[{\"type\":\"scatterternary\",\"marker\":{\"colorbar\":{\"outlinewidth\":0,\"ticks\":\"\"}}}],\"scattercarpet\":[{\"type\":\"scattercarpet\",\"marker\":{\"colorbar\":{\"outlinewidth\":0,\"ticks\":\"\"}}}],\"carpet\":[{\"aaxis\":{\"endlinecolor\":\"#2a3f5f\",\"gridcolor\":\"white\",\"linecolor\":\"white\",\"minorgridcolor\":\"white\",\"startlinecolor\":\"#2a3f5f\"},\"baxis\":{\"endlinecolor\":\"#2a3f5f\",\"gridcolor\":\"white\",\"linecolor\":\"white\",\"minorgridcolor\":\"white\",\"startlinecolor\":\"#2a3f5f\"},\"type\":\"carpet\"}],\"table\":[{\"cells\":{\"fill\":{\"color\":\"#EBF0F8\"},\"line\":{\"color\":\"white\"}},\"header\":{\"fill\":{\"color\":\"#C8D4E3\"},\"line\":{\"color\":\"white\"}},\"type\":\"table\"}],\"barpolar\":[{\"marker\":{\"line\":{\"color\":\"#E5ECF6\",\"width\":0.5},\"pattern\":{\"fillmode\":\"overlay\",\"size\":10,\"solidity\":0.2}},\"type\":\"barpolar\"}],\"pie\":[{\"automargin\":true,\"type\":\"pie\"}]},\"layout\":{\"autotypenumbers\":\"strict\",\"colorway\":[\"#636efa\",\"#EF553B\",\"#00cc96\",\"#ab63fa\",\"#FFA15A\",\"#19d3f3\",\"#FF6692\",\"#B6E880\",\"#FF97FF\",\"#FECB52\"],\"font\":{\"color\":\"#2a3f5f\"},\"hovermode\":\"closest\",\"hoverlabel\":{\"align\":\"left\"},\"paper_bgcolor\":\"white\",\"plot_bgcolor\":\"#E5ECF6\",\"polar\":{\"bgcolor\":\"#E5ECF6\",\"angularaxis\":{\"gridcolor\":\"white\",\"linecolor\":\"white\",\"ticks\":\"\"},\"radialaxis\":{\"gridcolor\":\"white\",\"linecolor\":\"white\",\"ticks\":\"\"}},\"ternary\":{\"bgcolor\":\"#E5ECF6\",\"aaxis\":{\"gridcolor\":\"white\",\"linecolor\":\"white\",\"ticks\":\"\"},\"baxis\":{\"gridcolor\":\"white\",\"linecolor\":\"white\",\"ticks\":\"\"},\"caxis\":{\"gridcolor\":\"white\",\"linecolor\":\"white\",\"ticks\":\"\"}},\"coloraxis\":{\"colorbar\":{\"outlinewidth\":0,\"ticks\":\"\"}},\"colorscale\":{\"sequential\":[[0.0,\"#0d0887\"],[0.1111111111111111,\"#46039f\"],[0.2222222222222222,\"#7201a8\"],[0.3333333333333333,\"#9c179e\"],[0.4444444444444444,\"#bd3786\"],[0.5555555555555556,\"#d8576b\"],[0.6666666666666666,\"#ed7953\"],[0.7777777777777778,\"#fb9f3a\"],[0.8888888888888888,\"#fdca26\"],[1.0,\"#f0f921\"]],\"sequentialminus\":[[0.0,\"#0d0887\"],[0.1111111111111111,\"#46039f\"],[0.2222222222222222,\"#7201a8\"],[0.3333333333333333,\"#9c179e\"],[0.4444444444444444,\"#bd3786\"],[0.5555555555555556,\"#d8576b\"],[0.6666666666666666,\"#ed7953\"],[0.7777777777777778,\"#fb9f3a\"],[0.8888888888888888,\"#fdca26\"],[1.0,\"#f0f921\"]],\"diverging\":[[0,\"#8e0152\"],[0.1,\"#c51b7d\"],[0.2,\"#de77ae\"],[0.3,\"#f1b6da\"],[0.4,\"#fde0ef\"],[0.5,\"#f7f7f7\"],[0.6,\"#e6f5d0\"],[0.7,\"#b8e186\"],[0.8,\"#7fbc41\"],[0.9,\"#4d9221\"],[1,\"#276419\"]]},\"xaxis\":{\"gridcolor\":\"white\",\"linecolor\":\"white\",\"ticks\":\"\",\"title\":{\"standoff\":15},\"zerolinecolor\":\"white\",\"automargin\":true,\"zerolinewidth\":2},\"yaxis\":{\"gridcolor\":\"white\",\"linecolor\":\"white\",\"ticks\":\"\",\"title\":{\"standoff\":15},\"zerolinecolor\":\"white\",\"automargin\":true,\"zerolinewidth\":2},\"scene\":{\"xaxis\":{\"backgroundcolor\":\"#E5ECF6\",\"gridcolor\":\"white\",\"linecolor\":\"white\",\"showbackground\":true,\"ticks\":\"\",\"zerolinecolor\":\"white\",\"gridwidth\":2},\"yaxis\":{\"backgroundcolor\":\"#E5ECF6\",\"gridcolor\":\"white\",\"linecolor\":\"white\",\"showbackground\":true,\"ticks\":\"\",\"zerolinecolor\":\"white\",\"gridwidth\":2},\"zaxis\":{\"backgroundcolor\":\"#E5ECF6\",\"gridcolor\":\"white\",\"linecolor\":\"white\",\"showbackground\":true,\"ticks\":\"\",\"zerolinecolor\":\"white\",\"gridwidth\":2}},\"shapedefaults\":{\"line\":{\"color\":\"#2a3f5f\"}},\"annotationdefaults\":{\"arrowcolor\":\"#2a3f5f\",\"arrowhead\":0,\"arrowwidth\":1},\"geo\":{\"bgcolor\":\"white\",\"landcolor\":\"#E5ECF6\",\"subunitcolor\":\"white\",\"showland\":true,\"showlakes\":true,\"lakecolor\":\"white\"},\"title\":{\"x\":0.05},\"mapbox\":{\"style\":\"light\"}}},\"xaxis\":{\"anchor\":\"y\",\"domain\":[0.0,1.0],\"title\":{\"text\":\"count\"}},\"yaxis\":{\"anchor\":\"x\",\"domain\":[0.0,1.0],\"title\":{\"text\":\"label\"}},\"legend\":{\"tracegroupgap\":0},\"title\":{\"text\":\"Number of occurrences by action\",\"x\":0.5},\"barmode\":\"relative\"},                        {\"responsive\": true}                    ).then(function(){\n",
              "                            \n",
              "var gd = document.getElementById('bbf22005-62ca-4c17-963b-d4aa9227ec06');\n",
              "var x = new MutationObserver(function (mutations, observer) {{\n",
              "        var display = window.getComputedStyle(gd).display;\n",
              "        if (!display || display === 'none') {{\n",
              "            console.log([gd, 'removed!']);\n",
              "            Plotly.purge(gd);\n",
              "            observer.disconnect();\n",
              "        }}\n",
              "}});\n",
              "\n",
              "// Listen for the removal of the full notebook cells\n",
              "var notebookContainer = gd.closest('#notebook-container');\n",
              "if (notebookContainer) {{\n",
              "    x.observe(notebookContainer, {childList: true});\n",
              "}}\n",
              "\n",
              "// Listen for the clearing of the current output cell\n",
              "var outputEl = gd.closest('.output');\n",
              "if (outputEl) {{\n",
              "    x.observe(outputEl, {childList: true});\n",
              "}}\n",
              "\n",
              "                        })                };                            </script>        </div>\n",
              "</body>\n",
              "</html>"
            ]
          },
          "metadata": {}
        }
      ]
    },
    {
      "cell_type": "markdown",
      "source": [
        "### Max acceleration by action"
      ],
      "metadata": {
        "id": "x7scVly7fW4v"
      }
    },
    {
      "cell_type": "code",
      "source": [
        "match_concat_fig = match_concat.copy()\n",
        "match_concat_fig['lenght'] = match_concat_fig['norm'].apply(len)\n",
        "match_concat_fig['mean'] = match_concat_fig['norm'].apply(np.mean)\n",
        "match_concat_fig['max'] = match_concat_fig['norm'].apply(np.max)"
      ],
      "metadata": {
        "id": "UjRgQczArWLT"
      },
      "execution_count": null,
      "outputs": []
    },
    {
      "cell_type": "code",
      "source": [
        "fig = px.histogram(match_concat_fig, x=\"max\", color=\"label\", title = \"Distrubtion of max acceleration by action\")\n",
        "fig.update_layout(title_x=0.5)\n",
        "fig.show()"
      ],
      "metadata": {
        "colab": {
          "base_uri": "https://localhost:8080/",
          "height": 542
        },
        "id": "v-FjcJXIqqGT",
        "outputId": "899c38ef-de52-4092-b543-63f39591a65f"
      },
      "execution_count": null,
      "outputs": [
        {
          "output_type": "display_data",
          "data": {
            "text/html": [
              "<html>\n",
              "<head><meta charset=\"utf-8\" /></head>\n",
              "<body>\n",
              "    <div>            <script src=\"https://cdnjs.cloudflare.com/ajax/libs/mathjax/2.7.5/MathJax.js?config=TeX-AMS-MML_SVG\"></script><script type=\"text/javascript\">if (window.MathJax && window.MathJax.Hub && window.MathJax.Hub.Config) {window.MathJax.Hub.Config({SVG: {font: \"STIX-Web\"}});}</script>                <script type=\"text/javascript\">window.PlotlyConfig = {MathJaxConfig: 'local'};</script>\n",
              "        <script charset=\"utf-8\" src=\"https://cdn.plot.ly/plotly-2.24.1.min.js\"></script>                <div id=\"e889ba53-5d20-412a-aa67-1932882153cd\" class=\"plotly-graph-div\" style=\"height:525px; width:100%;\"></div>            <script type=\"text/javascript\">                                    window.PLOTLYENV=window.PLOTLYENV || {};                                    if (document.getElementById(\"e889ba53-5d20-412a-aa67-1932882153cd\")) {                    Plotly.newPlot(                        \"e889ba53-5d20-412a-aa67-1932882153cd\",                        [{\"alignmentgroup\":\"True\",\"bingroup\":\"x\",\"hovertemplate\":\"label=walk\\u003cbr\\u003emax=%{x}\\u003cbr\\u003ecount=%{y}\\u003cextra\\u003e\\u003c\\u002fextra\\u003e\",\"legendgroup\":\"walk\",\"marker\":{\"color\":\"#636efa\",\"pattern\":{\"shape\":\"\"}},\"name\":\"walk\",\"offsetgroup\":\"walk\",\"orientation\":\"v\",\"showlegend\":true,\"x\":[42.73848607450447,53.76706104716264,42.10599802695281,47.93416005776589,122.57707449369435,72.43782600710844,56.86645792611747,124.55335604411913,106.8904344509726,78.13567705936367,47.85547579618727,72.5837874027752,59.32917353756043,66.74406101962732,92.03691851252442,136.74941038797405,62.7096300489364,51.5177025849835,39.97888120981156,57.50736656469224,94.64765540011948,83.50208503946986,60.0902135412607,49.57668419677224,55.18883796711655,92.18668800975028,49.76424851528091,53.21195325281597,549.5750681191864,151.69579093208773,66.8605905370823,87.43866671876357,89.66382163559486,50.84862578903281,64.60745006845005,49.85051992873031,41.7561574014255,45.65220680154933,244.15147499899197,135.7281227889446,73.78196566257006,55.120945960842064,79.32899124527941,179.87271112314934,64.5980752127484,49.80475245791227,58.80451186214507,64.92611704184668,61.34153387485979,48.29491058356966,62.88235622268584,47.37027730987582,64.30551943569131,40.37886997741131,48.27419083589441,186.2805122859029,84.44728727262905,86.10857497774424,137.56444078961275,102.84887687119624,84.17542567059891,51.650977873011534,57.38662508774917,163.7233837837427,70.69553142455493,63.89205838530608,65.77953437789387,86.20978323750148,56.97440582595615,80.27528452431343,65.52350550805069,51.63862337564456,71.60822793510991,78.48472209358452,59.83572762758967,49.88319126657576,401.4690832071664,52.537560436358255,36.38737811159461,54.82451965298296,52.34366413614065,90.97566000408658,79.24261336585198,85.88004962093187,60.00178291036924,67.63280466427072,197.79516484466052,89.45788060402256,61.58193255575343,55.90465265218301,49.70453557783602,72.801186473452,60.5044130468669,36.11858430765897,41.175814234065065,45.40815014854643,61.269527256135135,38.02193824294376,62.10117967825442,70.56370449085344,51.23036714815744,69.55677155066597,54.505542022394565,53.34883860004624,86.91172836655733,53.16572457457694,54.84932481563844,44.00852347259789,76.81766481510674,98.44090460851434,68.8708864985872,89.93520368719295,131.02013514334251,67.5727191615742,54.10788551018844,69.3515467404494,82.76555487072763,100.0250383480039,59.80468375385153,63.72135926474194,54.64981939159132,88.04863365650687,47.653609786192696,66.0833961171035,57.63839888206799,85.20723369810217,49.23843073160311,62.33193197211938,66.86639727859557,101.4446166458533,62.5359012427962,81.19329012093661,73.3086436205154,138.58228336265148,97.8873423852624,52.54454974981654,96.69675236836768,93.84498611224844,60.54706428563769,46.957548018430806,47.80732855414092,60.03767569725414,60.00237663245593,40.572879940611344,69.64622744622027,92.03706673389736,43.61507076100854,46.40291224215903,36.14653005061009,63.39676761164869,61.21349026003055,54.55044092273916,48.03184481038774,51.98320921984081,33.67236427977856,54.94991191727476,51.23655284472228,85.67761308272556,73.38251793812272,61.39765612744864,95.82264582710972,60.0832689345926,154.65863452832244,96.12165152957763,59.827076394733055,53.05747571119614,54.318494895418766,86.93993549513851,66.68106582339256,62.76836107220721,77.90575772195105,44.69757996046431,40.35283436949531,94.34174899562126,100.49588670358466,56.53913826579256,69.40876254267378,60.54191513312536,52.17826608161506,162.56347578178205,57.922308007385496,52.818525959100775,41.576822102809096,76.3499328574418,59.45662580224072,54.22803643872528,46.74633302471972,76.11721086910373,68.6876721618672,38.53495019390808,49.83829455226854,69.60236850582555,48.78845737916583,92.1325009580785,75.69818760148986,53.64622321393597,82.81608939397942,151.85420865535468,87.15399483905223,67.2687813519152,69.86960751340193,57.45508042335383,54.74695419018799,56.68706056711248,88.06877331877833,80.59118878162975,77.59133577260334,68.03063676664654,61.45469124181408,36.8085190282623,39.432961474090106,66.84838799150553,74.05311981358034,62.80809171145666,135.102949965875,107.54460185382857,82.26857639945496,59.04895716699096,63.64676324845905,34.57094146247295,181.0941372643844,119.68205380399252,145.52500833729212,71.04982269197588,63.42765401031557,47.42553853681102,72.77358433261124,233.5781286340368,95.82707040903313,94.34015530237028,60.265429381604775,160.0284596842099,70.79338189017183,41.49766197986708,51.77593027148467,61.25704972752333,54.65414284350648,82.44990430264107,57.167378448360274,81.74878952925444,53.9911176552317,46.12392443424927,50.13059194817333,113.9246721387328,153.49963245480302,42.45062115716806,85.02568272854144,129.5040207221824,126.82973058589602,364.2083405463632,131.36534990213124,124.35919957203184,95.0324842553587,67.06085449917552,77.9646610679776,44.6678548562535,78.2491636954182,62.27431468687164,125.28874370180966,62.84939666802709,67.77896980772579,98.71774996801939,87.72883252973718,98.67489644830849,58.31128802121808,60.38523393516159,56.110457116388105,105.88846456661551,59.04461534103452,43.09150708951398,65.18905084176168,68.8461383109798,120.77221170911582,314.6095713519671,68.94430634634543,40.22959080848296,66.6734011196965,89.09457427784305,82.34763309342607,67.53819184565567,81.7033398764224,65.01127297620005,78.41998192660155,85.77326683324127,64.77254371700371,68.40399595806925,95.52959358759733,70.22408417084067,88.64948236764401,84.26737078355718,61.79624381360429,131.09547317523163,56.197331755282185,23.11287748445608,68.29723760239702,116.28513191138805,74.70268717814393,97.64554242544284,89.52297145596145,179.34002633897197,49.17600181029746,34.15574792013423,71.40805545880063,69.42293666471913,76.52914080989761,42.20840840376169,98.70458905023493,96.05391158355629,146.3371779032699,66.69999146836474,452.4334587038577,101.68614223159925,61.81527546422106,66.85598195220471,74.92370920959937,115.14574892171689,70.37546090656072,57.21595545669095,67.88889174903552,56.929861781750446,66.61991645146074,149.8726323199122,90.42780455115974,93.86663032469586,44.43024699683781,51.035666425901056,42.39287403421174,61.414047116325904,86.16491384385462,83.66965674272619,72.31075558303941,84.42611437316782,253.89484120634125,64.04812587913429,135.51420351176705,81.97575665370134,107.76386922314146,222.41372508784391,104.87473671999393,51.68561511422755,80.29243833062664,74.81927457722722,105.01218901996734,71.82646433938372,88.1289258325046,115.29215317914445,40.30766090508825,155.89344032491834,114.65048721422839,49.038523015273455,50.576921092095255,59.32023808839347,65.80682716241277,68.40214230529646,70.47825944057689,72.41001917215958,75.21918949832504,77.51651282668409,85.61820604654409,80.51354250411654,70.49009108557524,95.63266557988955,99.12715762058372,79.26412725100609,103.68219435167492,98.9994906579963,95.49842363560053,198.6875648610455,116.76671853952794,59.05385291763656,66.01150520178389,56.938015874715724,60.746135491560715,86.69055799901541,125.87499306923124,221.65280959222648,62.86220481223143,108.34921621890024,73.02600997690631,63.86736304682931,93.97302891561036,60.92226983079971,77.84754688961134,65.68923689222709,62.05108638822089,80.18860462269816,84.60610309432045,110.17088365044656,82.25209079868043,43.136200987274144,71.75852937442781,61.72662987143543,65.89075344551281,77.45842040328326,78.45278197083304,73.63372655773136,97.43502746003445,76.8901394839841,58.55729160490279,70.09628436039239,54.83631406885219,63.540589860419495,50.96045109035843,64.71100094915616,95.85999727040118,117.58326138826962,60.174357808758934,63.18932202852174,218.65641917873,80.75097817349713,60.63341780488523,48.9730634951302,59.42243281568963,63.753935683177154,50.85585700374524,67.34830255189719,67.46997760336309,119.3546409145121,73.9352157690547,69.15540381880564,70.03994780521336,58.44788732516274,74.73528907840704,56.10823602132694,104.94103528007398,86.94845101059333,78.86044000767869,83.40200919905745,99.51411525028034,72.74716870599646,65.46231598793425,51.72444169704169,89.36579699958077,71.50582617269437,68.32250963599326],\"xaxis\":\"x\",\"yaxis\":\"y\",\"type\":\"histogram\"},{\"alignmentgroup\":\"True\",\"bingroup\":\"x\",\"hovertemplate\":\"label=rest\\u003cbr\\u003emax=%{x}\\u003cbr\\u003ecount=%{y}\\u003cextra\\u003e\\u003c\\u002fextra\\u003e\",\"legendgroup\":\"rest\",\"marker\":{\"color\":\"#EF553B\",\"pattern\":{\"shape\":\"\"}},\"name\":\"rest\",\"offsetgroup\":\"rest\",\"orientation\":\"v\",\"showlegend\":true,\"x\":[22.069263037713093,24.29758346188301,23.51852500940378,26.528358601615725,23.85796182523143,31.911915274317693,49.9854740552702,65.48752046928604,30.43393224454066,45.02049813600424,28.219140067756907,63.59795040775434,51.165648335487326,33.21913554471085,24.15317325170469,62.86362436097594,46.58298507410747,81.64471384393485,69.5473750437641,39.96896640848764,38.58455748639336,22.529813213285504,25.49576752767713,40.87013241288109,26.331838607812323,23.09366108943087,41.39475787838266,101.9427471459145,60.26281549921506,49.854585576781275,32.68932458208498,37.40999856218519,61.53138002690621,31.843302391174618,55.88635203726743],\"xaxis\":\"x\",\"yaxis\":\"y\",\"type\":\"histogram\"},{\"alignmentgroup\":\"True\",\"bingroup\":\"x\",\"hovertemplate\":\"label=run\\u003cbr\\u003emax=%{x}\\u003cbr\\u003ecount=%{y}\\u003cextra\\u003e\\u003c\\u002fextra\\u003e\",\"legendgroup\":\"run\",\"marker\":{\"color\":\"#00cc96\",\"pattern\":{\"shape\":\"\"}},\"name\":\"run\",\"offsetgroup\":\"run\",\"orientation\":\"v\",\"showlegend\":true,\"x\":[98.27816384112197,160.49443236684624,302.4007345530947,83.7407983082155,157.67320383237276,113.69326641975776,167.40276842809303,109.65823956060581,99.1531951822085,70.71118271139419,69.42933120834333,53.35080527752688,91.55785132686364,80.18483753530062,126.77771612479584,68.12517898125213,93.5433076803381,146.10152664222463,167.69461512193206,272.7457497103403,138.9129478650595,152.75402968666245,79.3726930138538,186.70003377654743,134.9784318090329,175.4526262832468,55.775428321081925,333.9095754994847,369.9724170073949,147.2015169752632,329.4054224414932,702.8095324562081,365.6583761678884,157.2418513911955,114.17997863867608,112.21942542406552,88.89645657582113,65.01858361687214,96.94165119892216,357.23964082260125,183.02042570311932,66.74099822331031,566.4720562623934,89.95002900687625,272.0271571676504,91.3509099586382,70.6825555463604,179.57157388808113,234.6991111625572,349.5891541345252,165.9200090981128,227.1791544474878,294.845100798641,220.8590060675867,128.57550438215813,37.56923547450005,156.4220834423929,60.85838767903736,106.0775714265331,76.55153247982422,125.61612618220894,134.060539268175,126.19497966803026,120.79648123834146,245.956132989122,578.4440671842567,73.93034562387074,314.30727375994564,65.48866534864271,172.42178611376917,80.61185291585394,97.6094240201936,52.48611501323169,88.97312933892196,98.09067329195852,342.99238201910896,257.86938050370145,146.09956309606707,131.20346060598698,406.2555971044119,178.81732587550775,210.79856021416245,100.18442463618884,279.1054613992744,164.21423107312577,236.47551309397252,527.2224107809752,323.7557807199444,75.43891367402031,85.91298564204511,155.54536950807716,62.3065905344083,80.85111570685702,101.56565626211658,60.55129173484925,42.60959881516954,660.0453324151703,250.68799355178496,94.66018405916644,650.0048186364758,96.254211888135,141.13815970385932,115.60912605583826,157.5409995370211,172.08410602826962,641.3519443807254,244.70191957255463,156.05088056842712,292.47715290815654,104.83007929732656,115.51813882170175,214.8187277964082,136.64056393072298,148.16118554513048,91.52766893704586,525.339145413532,170.76512890531555,245.83464682237508,132.97335961117287,277.09594749670515,135.36110262155114,79.26111565988023,291.305248292514,153.10396371027795,304.41501701017125,216.0402410799227,191.42678394237288,162.6202265575379,83.9083739117864,280.70471147115967,174.30461478685913,115.472901971691,389.1849987499135,292.0713079145128,65.52150693085214,110.72471512576084,179.5914085561357,58.489051409798776,133.0002225043711,87.68017109924219,557.9618898217873,95.452272574174,131.76368569145615,151.49099074501578,147.5823215929493,342.32789916651745,484.7120320886622,565.7217147361022,260.8883981140998,134.37546205964722,579.1165344466712,91.18244144091186,343.3827212902291,64.27020517521161,217.70007186609004,123.09767334679134,71.24018835992098,87.65110832395983,168.36027639601687,243.79529452933443,191.9248929754054,460.4610927853846,84.13550924692994,228.6241684654217,141.5873470799449,200.84036518024868,135.72727039166136,131.20627855533166,561.9222642828072,421.66719943743215,287.47766470167323,714.3607711478126,624.0329712335114,267.5091782647564,279.9162779339154,247.0876161113666,759.8614139522053,64.27775497571275,151.6110609507711,134.64503934263342,171.28466528218965,165.0762983018876,151.11666566995444,438.0097689008369,263.9485184027952,86.04750053739015,288.21525389355304,26.489273718689383,252.3169948278301,66.44609537651895,210.4614983844233,66.86865746507338,270.330904922424,212.6196448176356,343.8855101496324,213.59126207126928,135.97461469771713,68.58737901510487,82.65630758243002,297.26208118117705,128.05938779122772,81.22085684539077,70.88332980026955,190.30213485276607,482.631406284876,94.41756319577526,83.10264117308152,100.63080775292654,92.3213767596652,181.25859087135106,104.45120093709413,133.14461913932243,332.59715505057005,85.40020921876021,106.53846839055439,300.46953437592583,244.5770081161387,220.21502959151465,146.71088487671165,219.84400538469893,120.29773978999162,58.244478089779776,125.46051883240176,226.05088251933722,236.25633077857694,125.91279893796305,131.9148112535307,69.5665674623832,81.2392563267162,433.63515201938554,157.2213759263039,553.3611509878438,149.74962939447263,95.13198325454137,222.85951013563508,147.53669351342705,72.28958192757689,118.1656278750342,223.83362798623415,161.40298022664956,96.75988809996383,87.98564278492745,69.7231125719299,154.92220872534088,246.58128648724724,242.50664190775183,184.4871400576875,375.9245659132342,316.18074155638334,119.4669149748512,175.80917689660586,76.01444517284393,218.49734295957214,452.9337801306271,116.42410346576006,182.89115134713853,214.1557335302217,143.64183341628265,53.74812327289816,74.24557421084761,134.08716333271497,99.20199636846387,109.07855282782924,370.752244940108,437.53798571050373,63.7107076192752,149.97951603220963,110.17471494995877,96.60333625359888,152.26723621406498,70.94876201144383,266.62613179633735,289.9409437437953,68.60960370612095,63.8634993732428,81.95715101617147,166.8792585134128,130.07303173031727,241.19895960574004,79.87913958437508,96.558753483641,94.91200827861861,78.3338424097108,108.98587808258463,80.49793027849876,65.85141013870178,172.13097708563117,460.5088280020667,188.8866841027375,167.32257594673578,143.17635918284745,386.6164118336022,471.37312841708604,185.066327267831,234.06831133238296,103.1192091916021,137.68051917940429,118.48585238799868,251.16548158293094,103.27407956404299,174.84127089788686,80.33079199838441,177.05936276524267,304.3021092633162,86.44413857114029,78.91465036842553,193.0309055565325,130.26674493399156,151.05405600513552,295.71292500840934,83.06218550160831,77.78552205019848,136.1999512827305,166.77365063571128,87.8918012638525,201.78849640652695,240.87108384117045,231.489107836102,129.7379432771833,190.32804574694265,123.52381671561344,122.10864276173344,130.39184927986537,63.47125002459211,58.48475486604103,157.1495174053075,206.57332498940352,264.371969951594,251.06833913735338,559.5966954619264,109.7235615589905,125.03153485630229,237.73978583215768,96.28685866829055,232.32954427474894,159.26740882253333,114.26736297741154,309.2554336464986,436.3643852009303,173.49653127700182,66.01238057042555,130.10610911939963,305.58930581580825,81.87586251575603,156.45188754421883,566.0398977588874,210.52955616544267,451.63578323686494,120.37904017836064,365.22244436249485,202.57783516387218,121.72868625103322,113.47367222008015,265.7569501121233,391.5703693869643,178.82865696360668,92.0278449476779,317.27324535243923,92.0671669205304,187.35367055482385,112.84320863983667,384.08430132655286,152.09098131063658,507.9921912571161,167.49884299565912,342.88421095036506,246.3733039113186,152.4935078605944,155.2407614764175,109.19547204872104,105.55385944358818,273.8152620161853,210.09825929386471,131.98531277419798,301.83040118220316,554.192629363655,81.76548071122393,112.24976807224073,264.81764913786526,115.96748399708707,487.2570792256259,131.41480396103847,149.8842702629987,181.59400479075208,116.57763798353068,122.00951640809997,181.3606641151823,126.50001850420875,71.48722215397596,113.62564282125403,130.95140771550976,158.80330297689866,102.60557332380635,490.80873752821805,531.419058061219,510.4795753244965,131.35133580645675,229.58763632172543,147.4819024927371,80.13897010426436,52.84356033081409,255.74634437805724,270.35129356478166,390.08186158375344,138.0339210767771,366.0805930965372,114.18280917359985,80.42036845013426,60.76517998763228,87.71526987613333,116.58465382009469,120.43021440342967,206.2997652007404,146.66026375305285,124.98321974909817,96.50445482463968,149.44269252135624,110.70980754449614,84.24429852302717,420.93502313363086,216.62296924598795,344.08526773648083,151.79738109953604,104.92802347252952,346.84402641123006,711.1758905679558,224.21127719557902,199.80309879800555,144.12409625713033,140.89605829372002,174.38313268422186,83.46963966171553,136.0326904263959,121.0370715177318,65.90744230029877,206.225167602943,195.96848736780439,160.9559941726985,432.7537558036399,155.82414283621202,81.10664770925497,95.73036662560189,655.3017365418204,380.69709076906526,126.88334228600553,239.8768720894488,528.8117553904917,314.591497410112,163.3538790665235,282.20366969194333,431.88639436532463,205.36679455416655,139.0823444749686,116.64548491428701,228.84241647162338,190.3750937853158,574.1671413647769,54.025227477587826,124.66441623463307,219.47225479344627,117.39683930081749,148.3290135351598,104.3773274891019,127.65557295977803,126.18681308163951,128.41708028753845,176.9010052412834,83.54916867185693,108.11548791913384,292.95764884949375,372.1923257176192,531.8882760578028,64.28006429804279,139.16478222927137,156.3734186962943,312.05461730308315,129.22856158229777,142.47593808208322,119.36704930921397,493.47001069162656,466.61528560478,147.46018296948068,484.26155046878256,129.65845381290123,214.22116248490886,134.559148150608,269.3933897025736,120.49736195318017,189.89685688108622,89.30858816811457,58.27529864815353,145.0932633237668,497.3678790782511,80.55790824829052,260.3314128414967,96.45974117707499,97.92596576706859,493.5101758580942,366.7828829542947,166.7000250943302,149.56809064582828,133.9685965783107,134.61120077660095,498.95371919312606,174.55382526348592,185.78147925903357,175.15404363091426,159.5751179553108,144.424896625498,340.0723735409195,189.96886728290863,164.50327740514308,105.1081489863604,265.20270174421506,128.64460930503935,260.4425615532697,141.77724962424244,157.92671318500874,139.43405018780754,69.63376307751093,87.35973919150291,52.11752916481559,109.25569974787176,102.22104282478703,157.21636190044904,126.56168029759814,211.03181571243425,55.88635203726743,75.33242152028613,161.18525239476122,89.49408805732376,128.55648521354513,117.64383693442484,160.68755788288996,239.06307631380872,61.541586985561466,157.2286486797023,148.36265792741543,187.23005615999236,382.0316724507836,110.21903020132773,78.80218856227856,93.73160219046125,125.07318656326729,228.12314765647062,115.9222342797642,110.6450719590864,100.60499539190398,94.49324045062932,207.52738655128326,349.0460579985102,346.572023032401],\"xaxis\":\"x\",\"yaxis\":\"y\",\"type\":\"histogram\"},{\"alignmentgroup\":\"True\",\"bingroup\":\"x\",\"hovertemplate\":\"label=tackle\\u003cbr\\u003emax=%{x}\\u003cbr\\u003ecount=%{y}\\u003cextra\\u003e\\u003c\\u002fextra\\u003e\",\"legendgroup\":\"tackle\",\"marker\":{\"color\":\"#ab63fa\",\"pattern\":{\"shape\":\"\"}},\"name\":\"tackle\",\"offsetgroup\":\"tackle\",\"orientation\":\"v\",\"showlegend\":true,\"x\":[534.0606099397195,739.2771908152429,249.97154108546744,166.22320973900509,521.3851551559453,254.56910221569524,546.3621045367287,213.4688563342781,226.54066892727585,530.0125298877533,705.7342194517089,174.15255089414427,547.3322248966596,355.6746012546672,207.4919913587377,415.49502799571366,128.2574011094362,161.06305313996754,546.6722902561689,567.7760157283246,377.9020721224641,157.12994990939995,724.262020831051,105.61790575819852,124.78202695982364,583.4152483395957,502.2908113129224,292.7638404534617,256.3165514416714,264.807265184167,138.33003544071082],\"xaxis\":\"x\",\"yaxis\":\"y\",\"type\":\"histogram\"},{\"alignmentgroup\":\"True\",\"bingroup\":\"x\",\"hovertemplate\":\"label=dribble\\u003cbr\\u003emax=%{x}\\u003cbr\\u003ecount=%{y}\\u003cextra\\u003e\\u003c\\u002fextra\\u003e\",\"legendgroup\":\"dribble\",\"marker\":{\"color\":\"#FFA15A\",\"pattern\":{\"shape\":\"\"}},\"name\":\"dribble\",\"offsetgroup\":\"dribble\",\"orientation\":\"v\",\"showlegend\":true,\"x\":[223.13796292194485,131.43153898560226,518.1725726102522,327.35851806890423,303.9409622980814,95.84491657926904,209.69962729159195,224.84104761180112,452.7361497620948,695.4019870405393,88.88598434632641,179.4589114962516,194.27248050179855,222.84696462849087,246.43320441134247,192.7149819214244,242.7998722540208,181.4151757215956,272.7376041714872,93.36903176311274,110.8931058766388,177.14813894979022,119.28421843467784,51.71573162724613,197.16652108228004,51.60679211643533,204.7305241365836,115.33993568908488,171.5579368836918,145.39028558302527,148.33494143697646,266.0809924935266,89.07838781343825,136.0328162830668,215.9231368774743,144.4128369688029,111.01016221620768,151.94812138414238,141.0115008696702,350.0096821356499,238.55732399919287,108.8280940452322,131.23237588267955,147.4729965971233,90.11936300293905,296.46910128273714,413.61282095162977,261.9109404263961,222.69552487438662,269.9653079678654,160.6503529478898,163.12716845211793,182.58696449416675,186.9772527024145,228.5858892480197,158.80601505076208,92.89980389605286,559.4749374256426,146.9402942387065,166.80674470411662,59.34939987635763,154.0344322696074,184.24171068690248,374.9568165691531,349.4947905881635,136.6060861029112,398.4921327674624,473.892814478908,86.01331107261026,264.0704772194971,57.28014351975961,164.0031015381219,719.9290570213614,415.852233365264,248.47570695480044,227.7999718948682,176.01023414508384,91.00080439940697],\"xaxis\":\"x\",\"yaxis\":\"y\",\"type\":\"histogram\"},{\"alignmentgroup\":\"True\",\"bingroup\":\"x\",\"hovertemplate\":\"label=pass\\u003cbr\\u003emax=%{x}\\u003cbr\\u003ecount=%{y}\\u003cextra\\u003e\\u003c\\u002fextra\\u003e\",\"legendgroup\":\"pass\",\"marker\":{\"color\":\"#19d3f3\",\"pattern\":{\"shape\":\"\"}},\"name\":\"pass\",\"offsetgroup\":\"pass\",\"orientation\":\"v\",\"showlegend\":true,\"x\":[174.64985082127046,237.30621004443375,407.0028687008151,178.88781076241003,203.3368213351223,80.46844460571616,497.2982738270218,242.2932356583284,161.5270849314728,207.61786872031297,530.3978125000572,33.984584082078555,398.45185381248086,503.1892427936876,72.72841936026953,75.82070066268133,413.59180195258085,414.7550125903172,337.0489648868609,60.64773973878256,196.43687217113396,199.7293732703785,219.94075843521475,145.31305667190827,188.6619809410752,265.60592380451504,188.35672252024932,175.23056284937917,183.51824809346348,574.8988905316596,223.63207285448948,159.65131467383986],\"xaxis\":\"x\",\"yaxis\":\"y\",\"type\":\"histogram\"},{\"alignmentgroup\":\"True\",\"bingroup\":\"x\",\"hovertemplate\":\"label=cross\\u003cbr\\u003emax=%{x}\\u003cbr\\u003ecount=%{y}\\u003cextra\\u003e\\u003c\\u002fextra\\u003e\",\"legendgroup\":\"cross\",\"marker\":{\"color\":\"#FF6692\",\"pattern\":{\"shape\":\"\"}},\"name\":\"cross\",\"offsetgroup\":\"cross\",\"orientation\":\"v\",\"showlegend\":true,\"x\":[312.592872203065,294.7636181475319,299.344309412519,289.6919159906362],\"xaxis\":\"x\",\"yaxis\":\"y\",\"type\":\"histogram\"},{\"alignmentgroup\":\"True\",\"bingroup\":\"x\",\"hovertemplate\":\"label=shot\\u003cbr\\u003emax=%{x}\\u003cbr\\u003ecount=%{y}\\u003cextra\\u003e\\u003c\\u002fextra\\u003e\",\"legendgroup\":\"shot\",\"marker\":{\"color\":\"#B6E880\",\"pattern\":{\"shape\":\"\"}},\"name\":\"shot\",\"offsetgroup\":\"shot\",\"orientation\":\"v\",\"showlegend\":true,\"x\":[124.33696053894523,775.4793599580651,220.94618436520292,630.9664400211659,220.98457025224684,656.7663549568624,151.06945594260858,544.9494445819427,116.45702479771349,507.36443032543434,300.77558077697694,139.6992968086699,566.6573656850887,129.8698748345726,436.6257899427205,97.07463848884265,314.1514512343963,558.2572274748454],\"xaxis\":\"x\",\"yaxis\":\"y\",\"type\":\"histogram\"},{\"alignmentgroup\":\"True\",\"bingroup\":\"x\",\"hovertemplate\":\"label=no action\\u003cbr\\u003emax=%{x}\\u003cbr\\u003ecount=%{y}\\u003cextra\\u003e\\u003c\\u002fextra\\u003e\",\"legendgroup\":\"no action\",\"marker\":{\"color\":\"#FF97FF\",\"pattern\":{\"shape\":\"\"}},\"name\":\"no action\",\"offsetgroup\":\"no action\",\"orientation\":\"v\",\"showlegend\":true,\"x\":[243.29430015393393,247.4463798397894],\"xaxis\":\"x\",\"yaxis\":\"y\",\"type\":\"histogram\"}],                        {\"template\":{\"data\":{\"histogram2dcontour\":[{\"type\":\"histogram2dcontour\",\"colorbar\":{\"outlinewidth\":0,\"ticks\":\"\"},\"colorscale\":[[0.0,\"#0d0887\"],[0.1111111111111111,\"#46039f\"],[0.2222222222222222,\"#7201a8\"],[0.3333333333333333,\"#9c179e\"],[0.4444444444444444,\"#bd3786\"],[0.5555555555555556,\"#d8576b\"],[0.6666666666666666,\"#ed7953\"],[0.7777777777777778,\"#fb9f3a\"],[0.8888888888888888,\"#fdca26\"],[1.0,\"#f0f921\"]]}],\"choropleth\":[{\"type\":\"choropleth\",\"colorbar\":{\"outlinewidth\":0,\"ticks\":\"\"}}],\"histogram2d\":[{\"type\":\"histogram2d\",\"colorbar\":{\"outlinewidth\":0,\"ticks\":\"\"},\"colorscale\":[[0.0,\"#0d0887\"],[0.1111111111111111,\"#46039f\"],[0.2222222222222222,\"#7201a8\"],[0.3333333333333333,\"#9c179e\"],[0.4444444444444444,\"#bd3786\"],[0.5555555555555556,\"#d8576b\"],[0.6666666666666666,\"#ed7953\"],[0.7777777777777778,\"#fb9f3a\"],[0.8888888888888888,\"#fdca26\"],[1.0,\"#f0f921\"]]}],\"heatmap\":[{\"type\":\"heatmap\",\"colorbar\":{\"outlinewidth\":0,\"ticks\":\"\"},\"colorscale\":[[0.0,\"#0d0887\"],[0.1111111111111111,\"#46039f\"],[0.2222222222222222,\"#7201a8\"],[0.3333333333333333,\"#9c179e\"],[0.4444444444444444,\"#bd3786\"],[0.5555555555555556,\"#d8576b\"],[0.6666666666666666,\"#ed7953\"],[0.7777777777777778,\"#fb9f3a\"],[0.8888888888888888,\"#fdca26\"],[1.0,\"#f0f921\"]]}],\"heatmapgl\":[{\"type\":\"heatmapgl\",\"colorbar\":{\"outlinewidth\":0,\"ticks\":\"\"},\"colorscale\":[[0.0,\"#0d0887\"],[0.1111111111111111,\"#46039f\"],[0.2222222222222222,\"#7201a8\"],[0.3333333333333333,\"#9c179e\"],[0.4444444444444444,\"#bd3786\"],[0.5555555555555556,\"#d8576b\"],[0.6666666666666666,\"#ed7953\"],[0.7777777777777778,\"#fb9f3a\"],[0.8888888888888888,\"#fdca26\"],[1.0,\"#f0f921\"]]}],\"contourcarpet\":[{\"type\":\"contourcarpet\",\"colorbar\":{\"outlinewidth\":0,\"ticks\":\"\"}}],\"contour\":[{\"type\":\"contour\",\"colorbar\":{\"outlinewidth\":0,\"ticks\":\"\"},\"colorscale\":[[0.0,\"#0d0887\"],[0.1111111111111111,\"#46039f\"],[0.2222222222222222,\"#7201a8\"],[0.3333333333333333,\"#9c179e\"],[0.4444444444444444,\"#bd3786\"],[0.5555555555555556,\"#d8576b\"],[0.6666666666666666,\"#ed7953\"],[0.7777777777777778,\"#fb9f3a\"],[0.8888888888888888,\"#fdca26\"],[1.0,\"#f0f921\"]]}],\"surface\":[{\"type\":\"surface\",\"colorbar\":{\"outlinewidth\":0,\"ticks\":\"\"},\"colorscale\":[[0.0,\"#0d0887\"],[0.1111111111111111,\"#46039f\"],[0.2222222222222222,\"#7201a8\"],[0.3333333333333333,\"#9c179e\"],[0.4444444444444444,\"#bd3786\"],[0.5555555555555556,\"#d8576b\"],[0.6666666666666666,\"#ed7953\"],[0.7777777777777778,\"#fb9f3a\"],[0.8888888888888888,\"#fdca26\"],[1.0,\"#f0f921\"]]}],\"mesh3d\":[{\"type\":\"mesh3d\",\"colorbar\":{\"outlinewidth\":0,\"ticks\":\"\"}}],\"scatter\":[{\"fillpattern\":{\"fillmode\":\"overlay\",\"size\":10,\"solidity\":0.2},\"type\":\"scatter\"}],\"parcoords\":[{\"type\":\"parcoords\",\"line\":{\"colorbar\":{\"outlinewidth\":0,\"ticks\":\"\"}}}],\"scatterpolargl\":[{\"type\":\"scatterpolargl\",\"marker\":{\"colorbar\":{\"outlinewidth\":0,\"ticks\":\"\"}}}],\"bar\":[{\"error_x\":{\"color\":\"#2a3f5f\"},\"error_y\":{\"color\":\"#2a3f5f\"},\"marker\":{\"line\":{\"color\":\"#E5ECF6\",\"width\":0.5},\"pattern\":{\"fillmode\":\"overlay\",\"size\":10,\"solidity\":0.2}},\"type\":\"bar\"}],\"scattergeo\":[{\"type\":\"scattergeo\",\"marker\":{\"colorbar\":{\"outlinewidth\":0,\"ticks\":\"\"}}}],\"scatterpolar\":[{\"type\":\"scatterpolar\",\"marker\":{\"colorbar\":{\"outlinewidth\":0,\"ticks\":\"\"}}}],\"histogram\":[{\"marker\":{\"pattern\":{\"fillmode\":\"overlay\",\"size\":10,\"solidity\":0.2}},\"type\":\"histogram\"}],\"scattergl\":[{\"type\":\"scattergl\",\"marker\":{\"colorbar\":{\"outlinewidth\":0,\"ticks\":\"\"}}}],\"scatter3d\":[{\"type\":\"scatter3d\",\"line\":{\"colorbar\":{\"outlinewidth\":0,\"ticks\":\"\"}},\"marker\":{\"colorbar\":{\"outlinewidth\":0,\"ticks\":\"\"}}}],\"scattermapbox\":[{\"type\":\"scattermapbox\",\"marker\":{\"colorbar\":{\"outlinewidth\":0,\"ticks\":\"\"}}}],\"scatterternary\":[{\"type\":\"scatterternary\",\"marker\":{\"colorbar\":{\"outlinewidth\":0,\"ticks\":\"\"}}}],\"scattercarpet\":[{\"type\":\"scattercarpet\",\"marker\":{\"colorbar\":{\"outlinewidth\":0,\"ticks\":\"\"}}}],\"carpet\":[{\"aaxis\":{\"endlinecolor\":\"#2a3f5f\",\"gridcolor\":\"white\",\"linecolor\":\"white\",\"minorgridcolor\":\"white\",\"startlinecolor\":\"#2a3f5f\"},\"baxis\":{\"endlinecolor\":\"#2a3f5f\",\"gridcolor\":\"white\",\"linecolor\":\"white\",\"minorgridcolor\":\"white\",\"startlinecolor\":\"#2a3f5f\"},\"type\":\"carpet\"}],\"table\":[{\"cells\":{\"fill\":{\"color\":\"#EBF0F8\"},\"line\":{\"color\":\"white\"}},\"header\":{\"fill\":{\"color\":\"#C8D4E3\"},\"line\":{\"color\":\"white\"}},\"type\":\"table\"}],\"barpolar\":[{\"marker\":{\"line\":{\"color\":\"#E5ECF6\",\"width\":0.5},\"pattern\":{\"fillmode\":\"overlay\",\"size\":10,\"solidity\":0.2}},\"type\":\"barpolar\"}],\"pie\":[{\"automargin\":true,\"type\":\"pie\"}]},\"layout\":{\"autotypenumbers\":\"strict\",\"colorway\":[\"#636efa\",\"#EF553B\",\"#00cc96\",\"#ab63fa\",\"#FFA15A\",\"#19d3f3\",\"#FF6692\",\"#B6E880\",\"#FF97FF\",\"#FECB52\"],\"font\":{\"color\":\"#2a3f5f\"},\"hovermode\":\"closest\",\"hoverlabel\":{\"align\":\"left\"},\"paper_bgcolor\":\"white\",\"plot_bgcolor\":\"#E5ECF6\",\"polar\":{\"bgcolor\":\"#E5ECF6\",\"angularaxis\":{\"gridcolor\":\"white\",\"linecolor\":\"white\",\"ticks\":\"\"},\"radialaxis\":{\"gridcolor\":\"white\",\"linecolor\":\"white\",\"ticks\":\"\"}},\"ternary\":{\"bgcolor\":\"#E5ECF6\",\"aaxis\":{\"gridcolor\":\"white\",\"linecolor\":\"white\",\"ticks\":\"\"},\"baxis\":{\"gridcolor\":\"white\",\"linecolor\":\"white\",\"ticks\":\"\"},\"caxis\":{\"gridcolor\":\"white\",\"linecolor\":\"white\",\"ticks\":\"\"}},\"coloraxis\":{\"colorbar\":{\"outlinewidth\":0,\"ticks\":\"\"}},\"colorscale\":{\"sequential\":[[0.0,\"#0d0887\"],[0.1111111111111111,\"#46039f\"],[0.2222222222222222,\"#7201a8\"],[0.3333333333333333,\"#9c179e\"],[0.4444444444444444,\"#bd3786\"],[0.5555555555555556,\"#d8576b\"],[0.6666666666666666,\"#ed7953\"],[0.7777777777777778,\"#fb9f3a\"],[0.8888888888888888,\"#fdca26\"],[1.0,\"#f0f921\"]],\"sequentialminus\":[[0.0,\"#0d0887\"],[0.1111111111111111,\"#46039f\"],[0.2222222222222222,\"#7201a8\"],[0.3333333333333333,\"#9c179e\"],[0.4444444444444444,\"#bd3786\"],[0.5555555555555556,\"#d8576b\"],[0.6666666666666666,\"#ed7953\"],[0.7777777777777778,\"#fb9f3a\"],[0.8888888888888888,\"#fdca26\"],[1.0,\"#f0f921\"]],\"diverging\":[[0,\"#8e0152\"],[0.1,\"#c51b7d\"],[0.2,\"#de77ae\"],[0.3,\"#f1b6da\"],[0.4,\"#fde0ef\"],[0.5,\"#f7f7f7\"],[0.6,\"#e6f5d0\"],[0.7,\"#b8e186\"],[0.8,\"#7fbc41\"],[0.9,\"#4d9221\"],[1,\"#276419\"]]},\"xaxis\":{\"gridcolor\":\"white\",\"linecolor\":\"white\",\"ticks\":\"\",\"title\":{\"standoff\":15},\"zerolinecolor\":\"white\",\"automargin\":true,\"zerolinewidth\":2},\"yaxis\":{\"gridcolor\":\"white\",\"linecolor\":\"white\",\"ticks\":\"\",\"title\":{\"standoff\":15},\"zerolinecolor\":\"white\",\"automargin\":true,\"zerolinewidth\":2},\"scene\":{\"xaxis\":{\"backgroundcolor\":\"#E5ECF6\",\"gridcolor\":\"white\",\"linecolor\":\"white\",\"showbackground\":true,\"ticks\":\"\",\"zerolinecolor\":\"white\",\"gridwidth\":2},\"yaxis\":{\"backgroundcolor\":\"#E5ECF6\",\"gridcolor\":\"white\",\"linecolor\":\"white\",\"showbackground\":true,\"ticks\":\"\",\"zerolinecolor\":\"white\",\"gridwidth\":2},\"zaxis\":{\"backgroundcolor\":\"#E5ECF6\",\"gridcolor\":\"white\",\"linecolor\":\"white\",\"showbackground\":true,\"ticks\":\"\",\"zerolinecolor\":\"white\",\"gridwidth\":2}},\"shapedefaults\":{\"line\":{\"color\":\"#2a3f5f\"}},\"annotationdefaults\":{\"arrowcolor\":\"#2a3f5f\",\"arrowhead\":0,\"arrowwidth\":1},\"geo\":{\"bgcolor\":\"white\",\"landcolor\":\"#E5ECF6\",\"subunitcolor\":\"white\",\"showland\":true,\"showlakes\":true,\"lakecolor\":\"white\"},\"title\":{\"x\":0.05},\"mapbox\":{\"style\":\"light\"}}},\"xaxis\":{\"anchor\":\"y\",\"domain\":[0.0,1.0],\"title\":{\"text\":\"max\"}},\"yaxis\":{\"anchor\":\"x\",\"domain\":[0.0,1.0],\"title\":{\"text\":\"count\"}},\"legend\":{\"title\":{\"text\":\"label\"},\"tracegroupgap\":0},\"title\":{\"text\":\"Distrubtion of max acceleration by action\",\"x\":0.5},\"barmode\":\"relative\"},                        {\"responsive\": true}                    ).then(function(){\n",
              "                            \n",
              "var gd = document.getElementById('e889ba53-5d20-412a-aa67-1932882153cd');\n",
              "var x = new MutationObserver(function (mutations, observer) {{\n",
              "        var display = window.getComputedStyle(gd).display;\n",
              "        if (!display || display === 'none') {{\n",
              "            console.log([gd, 'removed!']);\n",
              "            Plotly.purge(gd);\n",
              "            observer.disconnect();\n",
              "        }}\n",
              "}});\n",
              "\n",
              "// Listen for the removal of the full notebook cells\n",
              "var notebookContainer = gd.closest('#notebook-container');\n",
              "if (notebookContainer) {{\n",
              "    x.observe(notebookContainer, {childList: true});\n",
              "}}\n",
              "\n",
              "// Listen for the clearing of the current output cell\n",
              "var outputEl = gd.closest('.output');\n",
              "if (outputEl) {{\n",
              "    x.observe(outputEl, {childList: true});\n",
              "}}\n",
              "\n",
              "                        })                };                            </script>        </div>\n",
              "</body>\n",
              "</html>"
            ]
          },
          "metadata": {}
        }
      ]
    },
    {
      "cell_type": "code",
      "source": [
        "plt.figure(figsize=(12, 6))\n",
        "sns.boxplot(x='label', y='gait_max', data=match_concat)\n",
        "plt.xticks(rotation=45)\n",
        "plt.title('Box plot of max acceleration by action')\n",
        "plt.xlabel('Action')\n",
        "plt.ylabel('Max Acceleration')\n",
        "plt.show()"
      ],
      "metadata": {
        "colab": {
          "base_uri": "https://localhost:8080/",
          "height": 606
        },
        "id": "YLzMGMPYefnH",
        "outputId": "f6efe439-cbba-485b-b5a0-93a4ff9fb964"
      },
      "execution_count": null,
      "outputs": [
        {
          "output_type": "display_data",
          "data": {
            "text/plain": [
              "<Figure size 1200x600 with 1 Axes>"
            ],
            "image/png": "[encoded data removed]"
          },
          "metadata": {}
        }
      ]
    },
    {
      "cell_type": "markdown",
      "source": [
        "The \"run\", \"tackle\", \"pass\" and \"shot\" actions have the highest maximum accelerations. We also notice that these maximum accelerations vary a lot in the \"tackle\" and \"shot\" actions and remain in a very small range for the \"cross\" action."
      ],
      "metadata": {
        "id": "LHXAb366y0z-"
      }
    },
    {
      "cell_type": "markdown",
      "source": [
        "### Mean accelation by action"
      ],
      "metadata": {
        "id": "SCqeSI-Efhz9"
      }
    },
    {
      "cell_type": "code",
      "source": [
        "fig = px.histogram(match_concat_fig, x=\"mean\", color=\"label\", title = \"Distrubtion of mean acceleration by action\")\n",
        "fig.update_layout(title_x=0.5)\n",
        "fig.show()"
      ],
      "metadata": {
        "colab": {
          "base_uri": "https://localhost:8080/",
          "height": 542
        },
        "id": "oaouez1cqqJf",
        "outputId": "8177eac0-9e94-4116-bd07-adf7c0b2032b"
      },
      "execution_count": null,
      "outputs": [
        {
          "output_type": "display_data",
          "data": {
            "text/html": [
              "<html>\n",
              "<head><meta charset=\"utf-8\" /></head>\n",
              "<body>\n",
              "    <div>            <script src=\"https://cdnjs.cloudflare.com/ajax/libs/mathjax/2.7.5/MathJax.js?config=TeX-AMS-MML_SVG\"></script><script type=\"text/javascript\">if (window.MathJax && window.MathJax.Hub && window.MathJax.Hub.Config) {window.MathJax.Hub.Config({SVG: {font: \"STIX-Web\"}});}</script>                <script type=\"text/javascript\">window.PlotlyConfig = {MathJaxConfig: 'local'};</script>\n",
              "        <script charset=\"utf-8\" src=\"https://cdn.plot.ly/plotly-2.24.1.min.js\"></script>                <div id=\"94c84750-0fc6-41bc-8f65-4cea7b8aca79\" class=\"plotly-graph-div\" style=\"height:525px; width:100%;\"></div>            <script type=\"text/javascript\">                                    window.PLOTLYENV=window.PLOTLYENV || {};                                    if (document.getElementById(\"94c84750-0fc6-41bc-8f65-4cea7b8aca79\")) {                    Plotly.newPlot(                        \"94c84750-0fc6-41bc-8f65-4cea7b8aca79\",                        [{\"alignmentgroup\":\"True\",\"bingroup\":\"x\",\"hovertemplate\":\"label=walk\\u003cbr\\u003emean=%{x}\\u003cbr\\u003ecount=%{y}\\u003cextra\\u003e\\u003c\\u002fextra\\u003e\",\"legendgroup\":\"walk\",\"marker\":{\"color\":\"#636efa\",\"pattern\":{\"shape\":\"\"}},\"name\":\"walk\",\"offsetgroup\":\"walk\",\"orientation\":\"v\",\"showlegend\":true,\"x\":[24.166957780185083,26.026276390692598,23.998176545905707,22.59657290497246,28.23765592340506,26.56198941145795,25.081731147723094,38.65783881875157,31.136106437176096,31.738445649887932,24.289863223809864,33.08042613664954,31.50741699160355,28.101662086163596,43.424936989837974,36.72145834768052,25.58120299744988,25.23876757260841,23.341627156538106,27.990858352922018,27.174562992397068,29.949761535681276,26.30240436659916,25.11806933709399,27.20129728653242,32.10589834257031,29.85928364224151,30.68605191967944,50.44292231021362,39.542164869117784,30.54830470270275,28.822904532212686,28.329938359224773,28.185155017199314,28.24648580801034,26.412404730295087,23.968869978671446,24.598811988223517,35.242901274040975,33.47630779966843,33.06819990764067,31.169440858287118,27.825682041495156,28.51897421074331,29.08329995750826,31.790841925600763,28.79892111266936,27.378589375081052,27.683252515459913,27.72677648059877,23.65703919059067,23.5390685294788,34.17699487403273,24.011128715053697,22.69071502251922,29.99545723881993,30.357191929418263,46.434099963287835,35.56012073273106,28.177475570714723,27.085213463010575,27.088029071707073,24.250792716766064,43.17798483299915,32.32891149447253,30.271172967742167,30.93129453900351,31.908034282938008,29.580085187616532,28.83455847287347,31.3749375204268,24.420259919376218,27.941214282866483,26.489793459149315,28.78069802214952,25.886387917983843,31.44592110905127,26.862412377999448,22.658233932441497,24.740311224781603,27.407427117854592,38.35750509625968,50.04308932948379,30.963060996758855,27.942194335847113,26.131660916254475,30.757148535559047,31.875151850635742,23.271238706103944,23.97854931146256,24.84147005436077,25.85303407461788,26.48939013395018,23.90141544264211,22.410920373541128,24.967317749235608,24.251694054506974,23.354819327434218,24.917734647105437,28.039431959538867,24.27266849668861,23.520469615353836,26.83451031445135,25.0076367074727,28.28321257334735,26.51343216037279,29.35900401955502,23.64377332584031,27.140349450222494,31.287123269162027,23.22613544321861,27.300093499266264,30.67069823842544,26.949962610916092,28.389720514888726,27.022078087429364,26.996983395352736,27.100308274288047,27.515917271013386,27.813344952384913,25.73431163489719,32.70195828406703,23.70019834522249,27.440256790583085,26.012515637588926,26.911928767146613,26.379322506572393,25.85555461333381,25.80387917195201,27.068584909243924,32.30230641378717,25.7815077366909,29.7618933557934,31.551065797261174,29.337256310930083,25.76002741800265,39.05320183782985,31.8351565463769,26.46448082392281,26.759968667716066,25.379644081548385,22.658659479853597,26.323789240745864,26.301552900929245,26.275279537004884,25.18049154677971,23.008122735931053,23.67668464383034,22.648262687626076,29.54299856326339,28.743756978129454,23.359215471478382,22.044566853345003,23.645972305516203,22.456595405678005,24.404614121011285,23.43359240755322,34.22241845774177,29.875838882282682,25.117111003955003,29.945329108927105,28.742204929799637,32.33652166562941,29.699749156241324,24.44264400363902,22.58343681895382,29.102040840302358,28.251409722364915,31.950003623816905,29.893435575047764,29.011699995833485,26.35784216103921,22.785726512309715,27.67295467782581,27.195943164895656,27.955922475115845,29.007099278200304,25.24148324025233,22.296748385118576,26.60154378942885,24.239117907946092,24.068456042558555,24.60847538697332,28.868977531023255,30.44783443143038,27.262098175292845,25.104294854818953,25.901066451264455,29.55202903228952,22.57061475530275,25.790290248045537,25.525785575532826,27.21819802642327,25.43458089424314,25.800589218276304,28.89159840211885,29.192960888960126,36.87890661633163,28.9739661416428,27.44056190363718,30.08809868037037,28.018231128919556,26.53007036536655,26.42174781413118,28.392574955442356,29.806962322051383,27.62233608180101,28.323047497773633,25.816455766161134,24.031553453131668,24.073344496646722,23.82843401860928,27.98923618620228,27.84080417129348,32.39969636711558,26.388164867802825,25.145830140777946,25.6939808031183,28.58783849538422,22.009177180317906,31.880111789623747,29.77703842225767,47.16204992356975,24.21102377866836,24.61935446090305,25.20905484414218,27.6897479863039,40.789413687782805,30.469363825236655,42.66390322514563,27.78873251115269,35.215868409153046,27.653938378622573,24.182308967698344,22.070740718070553,26.08663946787334,26.926719104216975,28.52872570172065,27.037427670472454,26.01485597269765,24.04707045797088,23.75010337212412,26.292785973305968,23.937045890175348,30.876426072682467,23.147663497060936,26.717850987737656,28.278589956873773,26.276625408516704,49.48816121643673,41.81606098685684,48.39860824255838,37.72994815081484,30.829676363613817,25.651022913525022,24.376945290375872,32.250981962849316,30.048631116680454,37.790227225703376,28.147213711636528,27.390039707478643,24.315369146627578,29.382230762979333,26.63116436677798,24.247943150116427,25.99210649664805,23.568303442871017,36.08315687191905,22.107724715853124,21.843645995092746,23.32301808187546,24.504041338945893,48.59834996164267,45.34173792790228,29.249735877908563,21.716208101065263,23.868263657878824,31.096830584906645,30.744863235332243,22.909656680908867,28.268398902678914,22.763142767185467,29.73238120052485,30.957179465553057,27.98295477014711,26.515508552230727,23.689358784740328,31.643383660938117,32.05747592072172,32.25401718800303,27.307681204773743,35.78200708809676,25.07567064290913,20.262347852784508,27.219014564217023,41.21424475507151,26.40471154894442,28.34331245299763,26.82900718840224,39.33406929509362,25.79191821862808,22.655021358986946,24.423484670271307,26.69030656777858,34.410701484341736,28.376569483536,36.0366256780275,28.027977854942385,28.014443135940837,30.420713397110664,52.72255063696309,31.896274964720508,26.6623324115695,29.85184831623001,29.635926810547222,30.297113975561615,29.441339053806946,26.638006626906776,26.67980704712433,30.47630567659268,33.73328452882365,37.27368622220053,36.036488527348176,27.882583932650082,23.228343403199805,24.409189635811913,25.104101168565403,27.28471895307947,31.97053903398121,30.158210103409818,27.99142449843922,28.256320563107842,41.22840866937644,30.08068553059213,51.69952415020144,32.46124427424622,32.04264936671359,45.64701722855808,33.67786401050235,27.557884167915525,23.893254983023184,29.130204678667262,33.579768297688204,31.025500360240024,29.23118959810787,24.499634300763788,21.80191084236199,29.679247898467377,29.879386406903752,23.49171787195374,24.42811267574898,25.65483460422853,29.400283344153603,26.225385415046034,30.335093611682346,31.746534903999585,30.088947463637187,31.24784053306265,30.651856223879022,31.16349807799575,30.39995874010306,28.798172282035992,28.130184896789753,31.081754326101116,31.099039598732197,31.966160405519165,30.23463467591559,49.64992219330325,32.4648615984017,29.990342313769325,34.54801331600982,30.72278000987422,30.85965935345761,28.812142672543022,37.699783542441686,37.79298435181287,33.640360218892766,35.19395699991684,30.546932666022542,25.40561638786716,26.993700650694063,28.923960388300003,30.101068829696516,26.58632272190362,26.659639690636013,31.90706949067219,33.867157499402374,32.357851363143304,31.852852931365433,25.68732065736435,27.762192793833208,31.494199576888164,28.952030176404556,30.805952029580787,32.48639038483287,29.847470265788996,35.84502943080141,30.467864364214726,26.472088509444884,25.34369693690873,25.006674299533948,25.23722615495217,25.221178684843757,25.59920303488017,25.985490862848636,29.32560815784014,27.483763429951022,23.065730820816825,31.87050651686478,28.186301968619567,33.476910520393155,23.876951484493755,24.70053499187799,25.56318577023377,27.675112052626705,25.56766313581719,27.839274606667963,30.986654847813686,30.39922985870134,28.162711408840387,25.89827525493089,29.31508249562615,28.393246191187494,28.106951369863808,32.05597227696563,35.28259703245147,31.100678172088656,29.624633015589467,28.688737231717838,29.83481099276896,29.107628055000365,26.673604529812636,28.842287287349134,25.12149604391767,26.918922886946373],\"xaxis\":\"x\",\"yaxis\":\"y\",\"type\":\"histogram\"},{\"alignmentgroup\":\"True\",\"bingroup\":\"x\",\"hovertemplate\":\"label=rest\\u003cbr\\u003emean=%{x}\\u003cbr\\u003ecount=%{y}\\u003cextra\\u003e\\u003c\\u002fextra\\u003e\",\"legendgroup\":\"rest\",\"marker\":{\"color\":\"#EF553B\",\"pattern\":{\"shape\":\"\"}},\"name\":\"rest\",\"offsetgroup\":\"rest\",\"orientation\":\"v\",\"showlegend\":true,\"x\":[20.378778196399168,20.584310170326948,20.73448739280572,21.19789850785627,21.137680643685886,22.08076361231342,21.89642352220681,24.258926672654646,21.025804016172433,22.8842860377293,21.651246286797672,22.268034093648655,23.456799947831612,21.132971387385652,20.535327336677376,24.68379163659912,21.633698804832928,24.27897636303527,22.80042603031309,21.043679149295386,21.23762753141731,20.754271375686034,20.762560819809963,22.656181775419597,20.76421976170656,20.099576813946786,21.325367916806343,22.955820580344213,23.149615199539582,20.797429491433952,25.127896143551553,23.08270142513607,23.61824075133185,21.931295472996442,25.035130006970025],\"xaxis\":\"x\",\"yaxis\":\"y\",\"type\":\"histogram\"},{\"alignmentgroup\":\"True\",\"bingroup\":\"x\",\"hovertemplate\":\"label=run\\u003cbr\\u003emean=%{x}\\u003cbr\\u003ecount=%{y}\\u003cextra\\u003e\\u003c\\u002fextra\\u003e\",\"legendgroup\":\"run\",\"marker\":{\"color\":\"#00cc96\",\"pattern\":{\"shape\":\"\"}},\"name\":\"run\",\"offsetgroup\":\"run\",\"orientation\":\"v\",\"showlegend\":true,\"x\":[30.745144284498725,43.36040697515091,74.81118010786089,47.74688658278297,61.22481878874269,46.98641222326422,41.23867057187769,43.0510509740288,40.85855066950079,34.33202180620319,35.14701851084251,27.330254507744716,39.46746113300068,41.233051351141164,42.47306197053624,38.209648654177755,44.03825561419401,48.73130731617214,54.19589660933887,58.298906798042786,45.891825694465396,44.637437587152675,42.734303704511305,52.910241903148574,49.5105765793235,47.94211844497842,33.01098176232868,79.36271220567735,96.01605309884619,64.29761080026917,96.65624834734426,122.21116292354581,87.14604242500315,39.621124000115174,52.79819884060777,48.84247409366325,36.98156402270419,32.86179174059141,44.829198277450836,61.510406506058004,44.76637469853773,34.96726673571395,81.61662264172509,40.32419817655385,33.74013516486095,29.14180641970409,27.925320507109255,47.46279407779236,68.11991439077632,83.7994800865856,80.75400305864363,89.06981994359137,51.48381975125701,69.42016523275412,44.87675657977413,21.34639512203122,44.53858701657899,38.37020098937397,40.00478344305793,30.891690237817162,37.671920453487225,30.91857578389261,49.86392108934161,52.40811084005707,53.00478819014699,108.15682933336484,44.432239505616785,61.908506528190415,43.85475753761113,48.7109318984549,35.85494032335926,38.471539853187096,33.22940239597739,34.39502664953314,41.388294918471985,93.99443449818243,52.80275602052984,35.229691388942435,41.887219016546275,86.05398289869605,61.223176913394944,48.2882400651868,47.41997461628226,77.88963814394175,58.28699175507875,72.64852260749127,98.49619162855753,50.77560412914559,34.30278574593849,27.370911374744544,49.66769363673734,31.623869497054695,32.747020299370526,36.776422123844135,31.239392595891264,42.60959881516954,118.60098824003931,87.43382705480329,40.1019437423954,178.86810614389657,30.983675039503,42.67614125911339,58.94368644617553,63.79676271698011,60.32142641833691,88.02354228591874,75.11018603948413,71.73136898815477,109.68797820453787,39.557871121263325,44.0075526353759,48.57424101682639,46.27327998797465,37.334414450770446,36.9026990453559,55.16508644189534,44.35807736691083,65.50498162534333,61.79807359968516,59.84689103707231,44.95858667076332,31.378011048749674,64.01285419476916,47.64557043134296,50.652818582492074,46.67734284690526,43.10658752350771,40.34606311195395,42.743591915604576,47.32973622583107,52.728376603985886,48.64319392648079,58.99519904171015,45.83286727913765,31.631533521840083,44.16197436013713,43.01654166131599,35.518357901635746,45.486766992284494,33.67230211616395,88.2334513654418,39.04073440944133,40.56069381863625,56.0146675936326,49.157643146546135,55.75384793573207,73.45944844219636,85.98938556706327,55.896312572530114,55.517869565384046,76.64328640743348,28.84367696921209,41.79192704214735,31.099988922813107,45.565444188561735,34.269657237778894,28.41135756433503,40.759831034228114,37.630732410015064,44.146092411021144,62.531162204246236,85.53262617610315,36.075770402300336,62.761351934902684,70.19673261074358,79.04029039134082,62.58110615225731,55.69780895811574,77.47514474194904,122.5064132094204,127.02641915226063,179.92504897566644,115.60437766955006,109.09073764932089,66.64880984144148,81.21485718444487,92.13993220924412,31.91572756183068,39.11608750912341,53.460839148933964,63.84104775106881,33.618949903832075,39.166648775789575,87.74220266572455,62.44626713346575,45.17385886093524,81.20268017569788,26.489273718689383,61.08869098814016,30.940637193107296,41.8878911420285,36.72271187874941,56.4344479102175,81.13558598509331,67.24020987642758,37.46003902948188,45.512116604337216,30.57787305850187,28.91690304425108,52.751495313495916,41.90338865358108,29.866070666985266,36.68511398211865,54.202014726605555,43.322052075745574,40.82026060541557,35.688901087248,59.019319953409536,33.75879704692068,63.44865226360385,37.34552244176581,43.989635865983814,52.90382987723552,37.83418359723874,38.02470436076322,71.54433817974835,62.84694097088367,50.480982126840495,49.83073317138223,56.390315066906155,50.346864755054504,24.504004330510924,36.69714508583145,59.60772977198659,49.19638700924858,51.56160168003974,39.04513723523468,40.85750164822385,29.25362420961934,76.47093897092617,68.38590350651383,67.79203438786593,64.71390850828345,59.6683687854311,67.4114848036419,61.961301888054436,33.51416629028583,54.78106056329157,54.889627819357884,48.96967824319348,35.78114232139192,32.60736842425208,60.01690667851258,53.94711937582828,51.84930386592348,48.97734639120536,59.42714516246374,44.93946056787391,61.49107738779682,34.01374414034267,47.77252192201568,44.26556359109051,65.22127428991578,77.45855720320999,45.82833982284653,51.863300608756056,80.99754414941225,49.37297981068031,33.69343204775954,38.36971658797567,51.77849314293857,49.19795745925749,53.35967458661885,60.335094719457594,51.70348637101409,31.47637138923178,39.38757753547152,41.41366339741357,45.589569470417175,44.4304654556399,35.87389812872642,72.0498787186343,61.96911946714407,26.893372611861047,31.345899953845226,43.73351267267145,53.145839488740215,53.87166724660683,44.88826709498156,31.753701922675134,48.13408273163881,52.464264711936984,31.373608115109267,40.27141692845867,31.7825317784701,39.51997116569537,67.7878921360343,78.92295236437816,74.0309012174636,65.38639008578701,92.21336452859589,109.7728701279285,107.53107659544307,66.39351189682904,65.24358655331977,32.53288998959945,27.550070406548702,54.76990491458406,57.86018357131843,48.09691056507773,54.602852689674606,47.19588122057837,67.13623593790221,66.53482944387103,33.30385986853207,33.26828396775023,42.372133512907865,66.08495854054834,57.67780805307397,74.92154908384218,41.986690000995644,44.590167569913476,47.16022886920887,45.200588414374096,46.60546089676962,52.27901063692792,49.461351966480535,51.78722149342865,43.98005197851289,40.30432799751697,49.04976691695062,36.331148806618934,43.309663374624,24.53969135933402,27.104288169074586,56.885596337994556,74.07582840235352,78.27814862714551,79.14225751879826,108.1015015665718,43.715349023349525,53.408845972888805,64.71677908784922,49.77335584422804,57.890062041336265,38.74912555119662,46.22905076977611,85.83864707074834,80.10726795917306,54.0616986465745,28.766773624377347,36.570308859066536,51.15472409133899,28.58234389610763,41.18520020935311,72.04446494903982,40.06668169354554,95.89848369821091,64.21177587821448,93.73649970453445,65.52243288678646,59.33381764568111,55.47990411064442,60.76644678054321,72.3445496217794,56.82904201500726,41.39083345880264,53.3670346912019,48.18725938182507,37.07413555278648,37.625990361572484,66.47259907324293,44.50231176102754,79.103802986038,79.48757795346032,68.76527503151445,64.64792813955621,51.00134864675519,32.62206572837811,35.53824269093919,37.41511431736213,92.82249600905938,102.69528650578496,73.36624854260279,76.92215038594654,76.11780981855286,34.330474767143876,67.46252488329901,68.56036916950173,58.97546248585417,88.92032451248245,58.91482323664096,59.02918570471837,49.13817619373585,36.377017811096486,47.90440051104209,42.68888871743783,54.369323397678734,42.941078150995835,41.49881741910376,40.93196066405582,44.96786273014805,42.92969667800667,84.50402049857144,102.16702566696681,95.8767366151899,44.56067331734636,50.1039119054182,45.10627115068945,44.481390369065664,25.855787794876008,57.890507707691356,85.57242947761361,94.89921075829488,29.76122021897476,45.213144690864546,42.94275246175063,36.97581881153323,39.10457752821665,46.455095919717756,51.2733710414611,50.6493018425674,53.89103318391251,29.37187947740888,45.36171412406101,39.95961722031412,45.07764284643643,39.048966660513365,43.05206189084302,75.85433886432595,67.38325409793276,67.24391899851558,57.29774535067217,57.54239019132719,80.7134320460567,122.5367268139993,85.8279843704441,76.19658718871541,54.43911152012524,45.26656018857942,51.955696326847914,34.92722144946256,36.960085824591964,54.26636936238183,33.197333225992075,41.832784484665616,81.7269254740519,81.96278321118182,105.36831291534948,78.31222014200067,57.21589840725337,53.29589604770597,78.64292123704782,39.99332228186431,55.85983878605045,76.64660923310763,90.63848371685384,84.4284083316223,49.165321052131205,60.28165312774399,72.85761660706676,64.01970564323868,46.4143410685597,52.67104566288095,90.89118256689116,86.38194991312871,131.88827918311955,30.174809656435652,46.0679517521874,54.298586860010154,45.195637058246575,58.95150480244739,31.87659371858617,53.606550242228494,46.38222127266416,43.69326806035965,52.81748066745637,44.23031467199775,63.444859940407056,86.5205003512563,77.80522640718321,67.75783928959258,33.7847802786598,59.31497406438978,79.48225042608203,94.4072143720055,62.60873517389612,69.11246857783001,65.60067284393442,86.03512002687886,78.26050919335276,37.656240136735086,69.83355476229231,66.6874965753674,75.69069559862808,77.04138496552078,71.56190682862912,35.79287886786509,44.257516704363226,37.03452715667437,26.078833323537832,64.27774762906245,71.87788256971707,41.725985187421585,55.43485629373449,41.854247375463785,39.228317322296384,84.94310529658891,90.27245707957546,43.4970005250108,77.34005784831884,53.182144008473045,49.16686303812457,71.19957794151587,55.952050160862704,70.55388246616364,50.47091133878603,72.41442388238715,81.09260977537711,93.91611992267138,78.16336660740784,46.397153156345844,35.17752709434501,80.56110126844472,60.09760628333028,89.79675765756001,85.33065547096203,44.838836426137185,39.70046529540432,42.3219602022095,31.569626215230187,28.38146274614827,45.13178809875943,33.48966529547053,59.83582232731657,58.24716580186748,47.46199398014544,31.50696787758157,44.04809124160433,39.838499948223394,29.904134814862974,38.28875123005046,53.03705388976589,70.27936048348933,85.82672992452814,42.36026995475779,46.44011580449212,41.478263868316056,63.42275531657213,80.28273843439325,50.08858964642033,35.85256559139308,54.15434076495569,48.94557368596238,55.55630550352246,45.74099826768619,44.21035907853144,36.27309213674811,48.28602236822294,80.78181331366149,92.09901246977853,89.99064691801259],\"xaxis\":\"x\",\"yaxis\":\"y\",\"type\":\"histogram\"},{\"alignmentgroup\":\"True\",\"bingroup\":\"x\",\"hovertemplate\":\"label=tackle\\u003cbr\\u003emean=%{x}\\u003cbr\\u003ecount=%{y}\\u003cextra\\u003e\\u003c\\u002fextra\\u003e\",\"legendgroup\":\"tackle\",\"marker\":{\"color\":\"#ab63fa\",\"pattern\":{\"shape\":\"\"}},\"name\":\"tackle\",\"offsetgroup\":\"tackle\",\"orientation\":\"v\",\"showlegend\":true,\"x\":[73.80520488390914,106.75872246871491,75.92257579517015,53.210614068511155,93.87378687848066,59.023245271985566,64.95691007699396,48.945173356898664,46.97435189282,97.89665466758811,92.57419411032379,57.02774590413875,101.91213385167482,72.1103690273132,45.52949508857979,105.03356289094675,31.670861708557744,52.76599084579836,51.66506116895583,81.71498053967778,93.97886478097514,51.33201705570656,129.6173980890403,53.10883701803533,37.32062514823189,41.213406654550184,51.251210327762436,78.68924242395872,38.64500271075423,68.33123427880113,91.97628297082723],\"xaxis\":\"x\",\"yaxis\":\"y\",\"type\":\"histogram\"},{\"alignmentgroup\":\"True\",\"bingroup\":\"x\",\"hovertemplate\":\"label=dribble\\u003cbr\\u003emean=%{x}\\u003cbr\\u003ecount=%{y}\\u003cextra\\u003e\\u003c\\u002fextra\\u003e\",\"legendgroup\":\"dribble\",\"marker\":{\"color\":\"#FFA15A\",\"pattern\":{\"shape\":\"\"}},\"name\":\"dribble\",\"offsetgroup\":\"dribble\",\"orientation\":\"v\",\"showlegend\":true,\"x\":[52.701269785108586,38.67532835083243,95.32657255919717,72.33909583485396,39.76799534084285,39.14719714217638,51.02028513891489,65.37969653983153,81.42596620489027,72.47384648536419,37.50978803416339,38.95818681843517,70.14619337559283,37.408960195795416,67.22444320219552,78.49130607783586,67.74517802058523,62.715028666924084,37.86380064711777,30.186069507754574,37.35336608174358,39.89251482989607,44.30480848992898,28.11627488784119,43.9312545357295,41.73773457709838,44.85130570141569,58.64139334645976,37.00760920140547,46.29176848901784,51.73498975444296,75.86297505152751,42.290911892123155,36.69667165113332,44.185149955530676,58.88655098165189,50.4951826115599,62.945541781399385,66.17197278610176,83.38803577697949,50.73634744129062,39.0375195248039,36.67438705237923,57.529697777690366,44.71716241186592,92.01953190048425,78.6364178720683,59.135472829459474,35.29879785401519,84.24429921725857,60.42420001710446,61.87809447007896,50.40486172603107,61.91588762826416,58.204164343035806,65.09880148318791,45.13918351039913,68.43474610920676,55.854226498201065,79.73884449603418,44.35832140909329,58.688312781641564,46.21339582585592,109.92208262154345,88.92187768049125,48.20728166332686,87.00911937404287,81.47031780783308,53.153912313669125,82.94116314503776,48.418083796661435,65.01788630526252,136.95618685988237,88.72577672245339,72.68513767438343,63.05125110252247,43.797375074785506,45.40685306947963],\"xaxis\":\"x\",\"yaxis\":\"y\",\"type\":\"histogram\"},{\"alignmentgroup\":\"True\",\"bingroup\":\"x\",\"hovertemplate\":\"label=pass\\u003cbr\\u003emean=%{x}\\u003cbr\\u003ecount=%{y}\\u003cextra\\u003e\\u003c\\u002fextra\\u003e\",\"legendgroup\":\"pass\",\"marker\":{\"color\":\"#19d3f3\",\"pattern\":{\"shape\":\"\"}},\"name\":\"pass\",\"offsetgroup\":\"pass\",\"orientation\":\"v\",\"showlegend\":true,\"x\":[55.37450314031808,67.45444729015847,130.9645074738224,69.28197151354544,65.2982228402546,31.971953047940005,104.64990362124269,54.171410269350105,35.96308188379401,45.00281384411446,106.4692510201966,21.7914216299047,89.30405724153812,110.21415743156585,37.24422830911219,72.04317998903893,83.33647635690788,66.4305912038546,92.53150030930121,30.54092973369029,36.248657495444384,38.70217393139912,57.81327878989656,36.395955556548614,40.991916710965654,40.08926492449902,64.82797498512753,79.68998831773482,96.90364712541923,115.01519938585656,73.17204352113163,73.31252103181032],\"xaxis\":\"x\",\"yaxis\":\"y\",\"type\":\"histogram\"},{\"alignmentgroup\":\"True\",\"bingroup\":\"x\",\"hovertemplate\":\"label=cross\\u003cbr\\u003emean=%{x}\\u003cbr\\u003ecount=%{y}\\u003cextra\\u003e\\u003c\\u002fextra\\u003e\",\"legendgroup\":\"cross\",\"marker\":{\"color\":\"#FF6692\",\"pattern\":{\"shape\":\"\"}},\"name\":\"cross\",\"offsetgroup\":\"cross\",\"orientation\":\"v\",\"showlegend\":true,\"x\":[45.44067347438471,42.66530332904189,52.01939646706146,93.89217051873887],\"xaxis\":\"x\",\"yaxis\":\"y\",\"type\":\"histogram\"},{\"alignmentgroup\":\"True\",\"bingroup\":\"x\",\"hovertemplate\":\"label=shot\\u003cbr\\u003emean=%{x}\\u003cbr\\u003ecount=%{y}\\u003cextra\\u003e\\u003c\\u002fextra\\u003e\",\"legendgroup\":\"shot\",\"marker\":{\"color\":\"#B6E880\",\"pattern\":{\"shape\":\"\"}},\"name\":\"shot\",\"offsetgroup\":\"shot\",\"orientation\":\"v\",\"showlegend\":true,\"x\":[65.38568418494042,135.7702362931521,101.81285098764263,202.13040040490168,54.04841507325506,120.52471435670591,59.7152986298485,164.96127622132684,60.95360915894992,133.17263842750899,68.57569742659086,62.109405261418416,102.78497294088946,75.39816657788813,114.9270355533003,62.6032954612356,173.6018987712715,102.77412967984755],\"xaxis\":\"x\",\"yaxis\":\"y\",\"type\":\"histogram\"},{\"alignmentgroup\":\"True\",\"bingroup\":\"x\",\"hovertemplate\":\"label=no action\\u003cbr\\u003emean=%{x}\\u003cbr\\u003ecount=%{y}\\u003cextra\\u003e\\u003c\\u002fextra\\u003e\",\"legendgroup\":\"no action\",\"marker\":{\"color\":\"#FF97FF\",\"pattern\":{\"shape\":\"\"}},\"name\":\"no action\",\"offsetgroup\":\"no action\",\"orientation\":\"v\",\"showlegend\":true,\"x\":[49.32790344450807,27.976547261044853],\"xaxis\":\"x\",\"yaxis\":\"y\",\"type\":\"histogram\"}],                        {\"template\":{\"data\":{\"histogram2dcontour\":[{\"type\":\"histogram2dcontour\",\"colorbar\":{\"outlinewidth\":0,\"ticks\":\"\"},\"colorscale\":[[0.0,\"#0d0887\"],[0.1111111111111111,\"#46039f\"],[0.2222222222222222,\"#7201a8\"],[0.3333333333333333,\"#9c179e\"],[0.4444444444444444,\"#bd3786\"],[0.5555555555555556,\"#d8576b\"],[0.6666666666666666,\"#ed7953\"],[0.7777777777777778,\"#fb9f3a\"],[0.8888888888888888,\"#fdca26\"],[1.0,\"#f0f921\"]]}],\"choropleth\":[{\"type\":\"choropleth\",\"colorbar\":{\"outlinewidth\":0,\"ticks\":\"\"}}],\"histogram2d\":[{\"type\":\"histogram2d\",\"colorbar\":{\"outlinewidth\":0,\"ticks\":\"\"},\"colorscale\":[[0.0,\"#0d0887\"],[0.1111111111111111,\"#46039f\"],[0.2222222222222222,\"#7201a8\"],[0.3333333333333333,\"#9c179e\"],[0.4444444444444444,\"#bd3786\"],[0.5555555555555556,\"#d8576b\"],[0.6666666666666666,\"#ed7953\"],[0.7777777777777778,\"#fb9f3a\"],[0.8888888888888888,\"#fdca26\"],[1.0,\"#f0f921\"]]}],\"heatmap\":[{\"type\":\"heatmap\",\"colorbar\":{\"outlinewidth\":0,\"ticks\":\"\"},\"colorscale\":[[0.0,\"#0d0887\"],[0.1111111111111111,\"#46039f\"],[0.2222222222222222,\"#7201a8\"],[0.3333333333333333,\"#9c179e\"],[0.4444444444444444,\"#bd3786\"],[0.5555555555555556,\"#d8576b\"],[0.6666666666666666,\"#ed7953\"],[0.7777777777777778,\"#fb9f3a\"],[0.8888888888888888,\"#fdca26\"],[1.0,\"#f0f921\"]]}],\"heatmapgl\":[{\"type\":\"heatmapgl\",\"colorbar\":{\"outlinewidth\":0,\"ticks\":\"\"},\"colorscale\":[[0.0,\"#0d0887\"],[0.1111111111111111,\"#46039f\"],[0.2222222222222222,\"#7201a8\"],[0.3333333333333333,\"#9c179e\"],[0.4444444444444444,\"#bd3786\"],[0.5555555555555556,\"#d8576b\"],[0.6666666666666666,\"#ed7953\"],[0.7777777777777778,\"#fb9f3a\"],[0.8888888888888888,\"#fdca26\"],[1.0,\"#f0f921\"]]}],\"contourcarpet\":[{\"type\":\"contourcarpet\",\"colorbar\":{\"outlinewidth\":0,\"ticks\":\"\"}}],\"contour\":[{\"type\":\"contour\",\"colorbar\":{\"outlinewidth\":0,\"ticks\":\"\"},\"colorscale\":[[0.0,\"#0d0887\"],[0.1111111111111111,\"#46039f\"],[0.2222222222222222,\"#7201a8\"],[0.3333333333333333,\"#9c179e\"],[0.4444444444444444,\"#bd3786\"],[0.5555555555555556,\"#d8576b\"],[0.6666666666666666,\"#ed7953\"],[0.7777777777777778,\"#fb9f3a\"],[0.8888888888888888,\"#fdca26\"],[1.0,\"#f0f921\"]]}],\"surface\":[{\"type\":\"surface\",\"colorbar\":{\"outlinewidth\":0,\"ticks\":\"\"},\"colorscale\":[[0.0,\"#0d0887\"],[0.1111111111111111,\"#46039f\"],[0.2222222222222222,\"#7201a8\"],[0.3333333333333333,\"#9c179e\"],[0.4444444444444444,\"#bd3786\"],[0.5555555555555556,\"#d8576b\"],[0.6666666666666666,\"#ed7953\"],[0.7777777777777778,\"#fb9f3a\"],[0.8888888888888888,\"#fdca26\"],[1.0,\"#f0f921\"]]}],\"mesh3d\":[{\"type\":\"mesh3d\",\"colorbar\":{\"outlinewidth\":0,\"ticks\":\"\"}}],\"scatter\":[{\"fillpattern\":{\"fillmode\":\"overlay\",\"size\":10,\"solidity\":0.2},\"type\":\"scatter\"}],\"parcoords\":[{\"type\":\"parcoords\",\"line\":{\"colorbar\":{\"outlinewidth\":0,\"ticks\":\"\"}}}],\"scatterpolargl\":[{\"type\":\"scatterpolargl\",\"marker\":{\"colorbar\":{\"outlinewidth\":0,\"ticks\":\"\"}}}],\"bar\":[{\"error_x\":{\"color\":\"#2a3f5f\"},\"error_y\":{\"color\":\"#2a3f5f\"},\"marker\":{\"line\":{\"color\":\"#E5ECF6\",\"width\":0.5},\"pattern\":{\"fillmode\":\"overlay\",\"size\":10,\"solidity\":0.2}},\"type\":\"bar\"}],\"scattergeo\":[{\"type\":\"scattergeo\",\"marker\":{\"colorbar\":{\"outlinewidth\":0,\"ticks\":\"\"}}}],\"scatterpolar\":[{\"type\":\"scatterpolar\",\"marker\":{\"colorbar\":{\"outlinewidth\":0,\"ticks\":\"\"}}}],\"histogram\":[{\"marker\":{\"pattern\":{\"fillmode\":\"overlay\",\"size\":10,\"solidity\":0.2}},\"type\":\"histogram\"}],\"scattergl\":[{\"type\":\"scattergl\",\"marker\":{\"colorbar\":{\"outlinewidth\":0,\"ticks\":\"\"}}}],\"scatter3d\":[{\"type\":\"scatter3d\",\"line\":{\"colorbar\":{\"outlinewidth\":0,\"ticks\":\"\"}},\"marker\":{\"colorbar\":{\"outlinewidth\":0,\"ticks\":\"\"}}}],\"scattermapbox\":[{\"type\":\"scattermapbox\",\"marker\":{\"colorbar\":{\"outlinewidth\":0,\"ticks\":\"\"}}}],\"scatterternary\":[{\"type\":\"scatterternary\",\"marker\":{\"colorbar\":{\"outlinewidth\":0,\"ticks\":\"\"}}}],\"scattercarpet\":[{\"type\":\"scattercarpet\",\"marker\":{\"colorbar\":{\"outlinewidth\":0,\"ticks\":\"\"}}}],\"carpet\":[{\"aaxis\":{\"endlinecolor\":\"#2a3f5f\",\"gridcolor\":\"white\",\"linecolor\":\"white\",\"minorgridcolor\":\"white\",\"startlinecolor\":\"#2a3f5f\"},\"baxis\":{\"endlinecolor\":\"#2a3f5f\",\"gridcolor\":\"white\",\"linecolor\":\"white\",\"minorgridcolor\":\"white\",\"startlinecolor\":\"#2a3f5f\"},\"type\":\"carpet\"}],\"table\":[{\"cells\":{\"fill\":{\"color\":\"#EBF0F8\"},\"line\":{\"color\":\"white\"}},\"header\":{\"fill\":{\"color\":\"#C8D4E3\"},\"line\":{\"color\":\"white\"}},\"type\":\"table\"}],\"barpolar\":[{\"marker\":{\"line\":{\"color\":\"#E5ECF6\",\"width\":0.5},\"pattern\":{\"fillmode\":\"overlay\",\"size\":10,\"solidity\":0.2}},\"type\":\"barpolar\"}],\"pie\":[{\"automargin\":true,\"type\":\"pie\"}]},\"layout\":{\"autotypenumbers\":\"strict\",\"colorway\":[\"#636efa\",\"#EF553B\",\"#00cc96\",\"#ab63fa\",\"#FFA15A\",\"#19d3f3\",\"#FF6692\",\"#B6E880\",\"#FF97FF\",\"#FECB52\"],\"font\":{\"color\":\"#2a3f5f\"},\"hovermode\":\"closest\",\"hoverlabel\":{\"align\":\"left\"},\"paper_bgcolor\":\"white\",\"plot_bgcolor\":\"#E5ECF6\",\"polar\":{\"bgcolor\":\"#E5ECF6\",\"angularaxis\":{\"gridcolor\":\"white\",\"linecolor\":\"white\",\"ticks\":\"\"},\"radialaxis\":{\"gridcolor\":\"white\",\"linecolor\":\"white\",\"ticks\":\"\"}},\"ternary\":{\"bgcolor\":\"#E5ECF6\",\"aaxis\":{\"gridcolor\":\"white\",\"linecolor\":\"white\",\"ticks\":\"\"},\"baxis\":{\"gridcolor\":\"white\",\"linecolor\":\"white\",\"ticks\":\"\"},\"caxis\":{\"gridcolor\":\"white\",\"linecolor\":\"white\",\"ticks\":\"\"}},\"coloraxis\":{\"colorbar\":{\"outlinewidth\":0,\"ticks\":\"\"}},\"colorscale\":{\"sequential\":[[0.0,\"#0d0887\"],[0.1111111111111111,\"#46039f\"],[0.2222222222222222,\"#7201a8\"],[0.3333333333333333,\"#9c179e\"],[0.4444444444444444,\"#bd3786\"],[0.5555555555555556,\"#d8576b\"],[0.6666666666666666,\"#ed7953\"],[0.7777777777777778,\"#fb9f3a\"],[0.8888888888888888,\"#fdca26\"],[1.0,\"#f0f921\"]],\"sequentialminus\":[[0.0,\"#0d0887\"],[0.1111111111111111,\"#46039f\"],[0.2222222222222222,\"#7201a8\"],[0.3333333333333333,\"#9c179e\"],[0.4444444444444444,\"#bd3786\"],[0.5555555555555556,\"#d8576b\"],[0.6666666666666666,\"#ed7953\"],[0.7777777777777778,\"#fb9f3a\"],[0.8888888888888888,\"#fdca26\"],[1.0,\"#f0f921\"]],\"diverging\":[[0,\"#8e0152\"],[0.1,\"#c51b7d\"],[0.2,\"#de77ae\"],[0.3,\"#f1b6da\"],[0.4,\"#fde0ef\"],[0.5,\"#f7f7f7\"],[0.6,\"#e6f5d0\"],[0.7,\"#b8e186\"],[0.8,\"#7fbc41\"],[0.9,\"#4d9221\"],[1,\"#276419\"]]},\"xaxis\":{\"gridcolor\":\"white\",\"linecolor\":\"white\",\"ticks\":\"\",\"title\":{\"standoff\":15},\"zerolinecolor\":\"white\",\"automargin\":true,\"zerolinewidth\":2},\"yaxis\":{\"gridcolor\":\"white\",\"linecolor\":\"white\",\"ticks\":\"\",\"title\":{\"standoff\":15},\"zerolinecolor\":\"white\",\"automargin\":true,\"zerolinewidth\":2},\"scene\":{\"xaxis\":{\"backgroundcolor\":\"#E5ECF6\",\"gridcolor\":\"white\",\"linecolor\":\"white\",\"showbackground\":true,\"ticks\":\"\",\"zerolinecolor\":\"white\",\"gridwidth\":2},\"yaxis\":{\"backgroundcolor\":\"#E5ECF6\",\"gridcolor\":\"white\",\"linecolor\":\"white\",\"showbackground\":true,\"ticks\":\"\",\"zerolinecolor\":\"white\",\"gridwidth\":2},\"zaxis\":{\"backgroundcolor\":\"#E5ECF6\",\"gridcolor\":\"white\",\"linecolor\":\"white\",\"showbackground\":true,\"ticks\":\"\",\"zerolinecolor\":\"white\",\"gridwidth\":2}},\"shapedefaults\":{\"line\":{\"color\":\"#2a3f5f\"}},\"annotationdefaults\":{\"arrowcolor\":\"#2a3f5f\",\"arrowhead\":0,\"arrowwidth\":1},\"geo\":{\"bgcolor\":\"white\",\"landcolor\":\"#E5ECF6\",\"subunitcolor\":\"white\",\"showland\":true,\"showlakes\":true,\"lakecolor\":\"white\"},\"title\":{\"x\":0.05},\"mapbox\":{\"style\":\"light\"}}},\"xaxis\":{\"anchor\":\"y\",\"domain\":[0.0,1.0],\"title\":{\"text\":\"mean\"}},\"yaxis\":{\"anchor\":\"x\",\"domain\":[0.0,1.0],\"title\":{\"text\":\"count\"}},\"legend\":{\"title\":{\"text\":\"label\"},\"tracegroupgap\":0},\"title\":{\"text\":\"Distrubtion of mean acceleration by action\",\"x\":0.5},\"barmode\":\"relative\"},                        {\"responsive\": true}                    ).then(function(){\n",
              "                            \n",
              "var gd = document.getElementById('94c84750-0fc6-41bc-8f65-4cea7b8aca79');\n",
              "var x = new MutationObserver(function (mutations, observer) {{\n",
              "        var display = window.getComputedStyle(gd).display;\n",
              "        if (!display || display === 'none') {{\n",
              "            console.log([gd, 'removed!']);\n",
              "            Plotly.purge(gd);\n",
              "            observer.disconnect();\n",
              "        }}\n",
              "}});\n",
              "\n",
              "// Listen for the removal of the full notebook cells\n",
              "var notebookContainer = gd.closest('#notebook-container');\n",
              "if (notebookContainer) {{\n",
              "    x.observe(notebookContainer, {childList: true});\n",
              "}}\n",
              "\n",
              "// Listen for the clearing of the current output cell\n",
              "var outputEl = gd.closest('.output');\n",
              "if (outputEl) {{\n",
              "    x.observe(outputEl, {childList: true});\n",
              "}}\n",
              "\n",
              "                        })                };                            </script>        </div>\n",
              "</body>\n",
              "</html>"
            ]
          },
          "metadata": {}
        }
      ]
    },
    {
      "cell_type": "code",
      "source": [
        "plt.figure(figsize=(12, 6))\n",
        "sns.boxplot(x='label', y='gait_mean', data=match_concat)\n",
        "plt.xticks(rotation=45)\n",
        "plt.title('Box plot of mean acceleration by action')\n",
        "plt.xlabel('Action')\n",
        "plt.ylabel('Mean Acceleration')\n",
        "plt.show()"
      ],
      "metadata": {
        "colab": {
          "base_uri": "https://localhost:8080/",
          "height": 606
        },
        "id": "Y9K2wlDddQBW",
        "outputId": "d73fc4ed-cb8b-497a-e07e-beaf506ba6cc"
      },
      "execution_count": null,
      "outputs": [
        {
          "output_type": "display_data",
          "data": {
            "text/plain": [
              "<Figure size 1200x600 with 1 Axes>"
            ],
            "image/png": "[encoded data removed]"
          },
          "metadata": {}
        }
      ]
    },
    {
      "cell_type": "markdown",
      "source": [
        "### The length (duration) of each action"
      ],
      "metadata": {
        "id": "t5ne5gFIfm04"
      }
    },
    {
      "cell_type": "code",
      "source": [
        "fig = px.histogram(match_concat_fig, x=\"lenght\", color=\"label\", title=\"Distrubtion of the length of each action\")\n",
        "fig.update_layout(title_x=0.5)\n",
        "fig.show()"
      ],
      "metadata": {
        "colab": {
          "base_uri": "https://localhost:8080/",
          "height": 542
        },
        "id": "CF6UQo4TqqMu",
        "outputId": "f8b782b1-04ca-4840-aa9f-db2a068db4ae"
      },
      "execution_count": null,
      "outputs": [
        {
          "output_type": "display_data",
          "data": {
            "text/html": [
              "<html>\n",
              "<head><meta charset=\"utf-8\" /></head>\n",
              "<body>\n",
              "    <div>            <script src=\"https://cdnjs.cloudflare.com/ajax/libs/mathjax/2.7.5/MathJax.js?config=TeX-AMS-MML_SVG\"></script><script type=\"text/javascript\">if (window.MathJax && window.MathJax.Hub && window.MathJax.Hub.Config) {window.MathJax.Hub.Config({SVG: {font: \"STIX-Web\"}});}</script>                <script type=\"text/javascript\">window.PlotlyConfig = {MathJaxConfig: 'local'};</script>\n",
              "        <script charset=\"utf-8\" src=\"https://cdn.plot.ly/plotly-2.24.1.min.js\"></script>                <div id=\"56f3f7af-07ab-496f-ab90-4902225a64e8\" class=\"plotly-graph-div\" style=\"height:525px; width:100%;\"></div>            <script type=\"text/javascript\">                                    window.PLOTLYENV=window.PLOTLYENV || {};                                    if (document.getElementById(\"56f3f7af-07ab-496f-ab90-4902225a64e8\")) {                    Plotly.newPlot(                        \"56f3f7af-07ab-496f-ab90-4902225a64e8\",                        [{\"alignmentgroup\":\"True\",\"bingroup\":\"x\",\"hovertemplate\":\"label=walk\\u003cbr\\u003elenght=%{x}\\u003cbr\\u003ecount=%{y}\\u003cextra\\u003e\\u003c\\u002fextra\\u003e\",\"legendgroup\":\"walk\",\"marker\":{\"color\":\"#636efa\",\"pattern\":{\"shape\":\"\"}},\"name\":\"walk\",\"offsetgroup\":\"walk\",\"orientation\":\"v\",\"showlegend\":true,\"x\":[72,54,68,75,56,56,56,50,50,44,38,46,46,44,42,40,64,50,54,60,58,52,70,56,44,30,30,30,36,24,52,62,44,44,62,40,56,54,34,62,46,32,48,50,61,34,62,44,52,44,90,62,49,20,30,56,52,38,24,62,63,54,56,42,46,53,50,46,54,50,54,66,52,50,52,30,78,40,56,68,58,44,22,38,62,34,72,52,70,68,46,60,58,58,56,52,58,38,58,52,60,68,59,64,54,60,46,78,52,54,150,46,76,66,46,58,54,52,52,50,62,26,52,50,64,56,50,66,56,134,20,58,26,56,58,46,58,34,50,56,60,72,56,50,60,54,64,64,70,63,58,70,106,140,72,62,74,50,50,52,50,44,72,54,38,68,50,52,46,50,54,56,79,56,92,48,58,50,58,48,70,56,42,64,42,64,52,62,38,59,58,48,31,96,52,54,54,50,46,50,50,50,50,42,52,56,68,48,62,58,74,75,54,54,48,36,86,64,60,44,179,46,38,68,66,54,70,50,84,20,26,52,44,62,82,56,58,56,62,62,70,70,60,85,48,22,58,63,72,38,46,34,44,44,58,44,48,54,74,62,42,58,42,44,68,52,92,34,64,74,54,62,34,50,48,54,64,18,24,68,56,64,56,52,64,59,66,50,50,52,90,61,72,8,50,36,70,46,44,46,54,30,70,54,44,11,40,72,81,50,44,56,58,42,46,44,48,68,48,32,30,44,40,56,58,44,61,62,44,61,56,52,34,33,26,54,32,70,56,52,84,64,63,42,60,76,70,63,60,50,54,49,50,71,56,50,56,50,58,54,50,64,98,52,54,46,54,32,50,50,52,36,74,53,52,68,30,56,56,68,60,56,58,59,66,34,44,90,53,52,40,60,56,54,44,62,48,55,64,52,50,58,68,55,54,66,66,36,88,102,46,129,118,44,60,64,62,53,56,54,62,54,50,42,56,46,53,62,54,50,52,64,60,66,72],\"xaxis\":\"x\",\"yaxis\":\"y\",\"type\":\"histogram\"},{\"alignmentgroup\":\"True\",\"bingroup\":\"x\",\"hovertemplate\":\"label=rest\\u003cbr\\u003elenght=%{x}\\u003cbr\\u003ecount=%{y}\\u003cextra\\u003e\\u003c\\u002fextra\\u003e\",\"legendgroup\":\"rest\",\"marker\":{\"color\":\"#EF553B\",\"pattern\":{\"shape\":\"\"}},\"name\":\"rest\",\"offsetgroup\":\"rest\",\"orientation\":\"v\",\"showlegend\":true,\"x\":[181,68,36,40,70,74,142,74,69,36,22,86,88,36,26,73,204,70,116,227,210,38,72,98,82,300,44,150,76,723,18,107,136,156,104],\"xaxis\":\"x\",\"yaxis\":\"y\",\"type\":\"histogram\"},{\"alignmentgroup\":\"True\",\"bingroup\":\"x\",\"hovertemplate\":\"label=run\\u003cbr\\u003elenght=%{x}\\u003cbr\\u003ecount=%{y}\\u003cextra\\u003e\\u003c\\u002fextra\\u003e\",\"legendgroup\":\"run\",\"marker\":{\"color\":\"#00cc96\",\"pattern\":{\"shape\":\"\"}},\"name\":\"run\",\"offsetgroup\":\"run\",\"orientation\":\"v\",\"showlegend\":true,\"x\":[58,24,16,22,34,28,30,42,28,30,38,14,34,38,38,20,40,32,28,48,28,34,36,36,50,38,36,38,36,28,32,32,30,40,42,30,36,20,18,22,34,20,24,34,34,52,44,24,26,22,34,14,34,34,36,20,48,32,42,54,38,54,28,44,36,30,36,36,26,46,48,42,38,42,22,18,42,39,66,42,38,38,42,32,28,28,12,30,16,56,48,36,46,22,29,1,36,30,50,58,74,30,26,52,26,38,22,26,46,56,62,36,70,56,26,44,26,34,62,44,20,44,48,36,58,40,42,42,7,72,72,34,60,28,35,94,32,26,32,43,38,40,20,48,50,32,42,40,44,42,26,64,90,46,30,66,80,40,48,40,46,40,28,46,30,38,35,32,52,30,20,34,22,20,40,16,30,62,44,32,28,62,74,23,54,58,28,1,40,50,40,22,28,44,44,60,50,86,44,42,46,44,42,52,44,38,40,32,36,25,26,40,34,26,24,30,30,26,26,28,28,34,50,30,82,30,22,32,78,36,30,40,34,30,34,40,44,32,40,34,34,39,6,26,36,60,34,78,68,76,38,30,34,32,38,44,34,30,16,48,49,32,38,54,66,44,32,32,42,36,42,23,26,28,42,34,38,40,44,82,30,30,48,46,50,32,30,38,26,34,24,30,18,70,38,68,40,36,38,34,38,32,34,40,35,24,40,22,34,34,42,30,48,34,42,29,40,34,40,44,27,26,22,74,54,32,38,34,28,20,39,50,48,38,32,18,26,33,30,26,56,48,42,46,44,40,22,20,25,30,42,38,24,44,30,38,36,42,42,40,33,35,26,40,34,24,37,32,44,48,60,30,26,32,30,26,42,24,40,34,34,26,46,49,86,24,34,28,26,50,73,24,26,24,34,18,42,26,38,31,54,32,19,16,66,48,32,42,36,40,35,38,64,48,46,42,42,56,34,35,36,32,34,28,34,32,30,38,54,44,32,34,70,34,18,42,34,26,32,20,24,32,38,46,40,32,34,32,36,58,30,36,48,29,26,24,34,60,36,38,30,52,40,80,34,38,54,34,34,34,32,40,26,36,36,24,34,28,32,52,20,48,26,28,32,28,37,60,56,44,92,42,34,38,34,34,48,28,22,22,32,36,22,40,56,32,43,30,32,32,38,28,71,30,28,36,10,50,58,30,34,50,40,60,38,40,38,20,38,46,63,60,28,32,30,14,52,48,30,32,32,18,18,22,42,32,28,40,54,28,26,28],\"xaxis\":\"x\",\"yaxis\":\"y\",\"type\":\"histogram\"},{\"alignmentgroup\":\"True\",\"bingroup\":\"x\",\"hovertemplate\":\"label=tackle\\u003cbr\\u003elenght=%{x}\\u003cbr\\u003ecount=%{y}\\u003cextra\\u003e\\u003c\\u002fextra\\u003e\",\"legendgroup\":\"tackle\",\"marker\":{\"color\":\"#ab63fa\",\"pattern\":{\"shape\":\"\"}},\"name\":\"tackle\",\"offsetgroup\":\"tackle\",\"orientation\":\"v\",\"showlegend\":true,\"x\":[28,40,26,32,48,28,44,26,60,40,30,26,36,72,60,52,92,46,34,64,54,24,32,20,50,118,110,38,43,32,28],\"xaxis\":\"x\",\"yaxis\":\"y\",\"type\":\"histogram\"},{\"alignmentgroup\":\"True\",\"bingroup\":\"x\",\"hovertemplate\":\"label=dribble\\u003cbr\\u003elenght=%{x}\\u003cbr\\u003ecount=%{y}\\u003cextra\\u003e\\u003c\\u002fextra\\u003e\",\"legendgroup\":\"dribble\",\"marker\":{\"color\":\"#FFA15A\",\"pattern\":{\"shape\":\"\"}},\"name\":\"dribble\",\"offsetgroup\":\"dribble\",\"orientation\":\"v\",\"showlegend\":true,\"x\":[50,67,26,34,32,34,43,40,32,34,18,36,43,32,40,34,38,60,62,52,62,66,54,29,46,8,30,20,48,60,36,24,58,28,50,38,36,30,21,36,60,100,69,52,34,26,50,48,62,46,30,30,24,36,30,36,24,30,44,18,3,22,18,24,50,46,26,25,26,36,4,34,42,52,94,56,40,28],\"xaxis\":\"x\",\"yaxis\":\"y\",\"type\":\"histogram\"},{\"alignmentgroup\":\"True\",\"bingroup\":\"x\",\"hovertemplate\":\"label=pass\\u003cbr\\u003elenght=%{x}\\u003cbr\\u003ecount=%{y}\\u003cextra\\u003e\\u003c\\u002fextra\\u003e\",\"legendgroup\":\"pass\",\"marker\":{\"color\":\"#19d3f3\",\"pattern\":{\"shape\":\"\"}},\"name\":\"pass\",\"offsetgroup\":\"pass\",\"orientation\":\"v\",\"showlegend\":true,\"x\":[23,40,22,30,34,24,32,98,53,46,26,21,13,46,35,3,54,16,36,23,74,58,92,64,102,31,80,28,30,26,78,28],\"xaxis\":\"x\",\"yaxis\":\"y\",\"type\":\"histogram\"},{\"alignmentgroup\":\"True\",\"bingroup\":\"x\",\"hovertemplate\":\"label=cross\\u003cbr\\u003elenght=%{x}\\u003cbr\\u003ecount=%{y}\\u003cextra\\u003e\\u003c\\u002fextra\\u003e\",\"legendgroup\":\"cross\",\"marker\":{\"color\":\"#FF6692\",\"pattern\":{\"shape\":\"\"}},\"name\":\"cross\",\"offsetgroup\":\"cross\",\"orientation\":\"v\",\"showlegend\":true,\"x\":[42,72,66,30],\"xaxis\":\"x\",\"yaxis\":\"y\",\"type\":\"histogram\"},{\"alignmentgroup\":\"True\",\"bingroup\":\"x\",\"hovertemplate\":\"label=shot\\u003cbr\\u003elenght=%{x}\\u003cbr\\u003ecount=%{y}\\u003cextra\\u003e\\u003c\\u002fextra\\u003e\",\"legendgroup\":\"shot\",\"marker\":{\"color\":\"#B6E880\",\"pattern\":{\"shape\":\"\"}},\"name\":\"shot\",\"offsetgroup\":\"shot\",\"orientation\":\"v\",\"showlegend\":true,\"x\":[4,46,21,19,27,50,36,40,16,36,46,39,58,16,66,6,22,60],\"xaxis\":\"x\",\"yaxis\":\"y\",\"type\":\"histogram\"},{\"alignmentgroup\":\"True\",\"bingroup\":\"x\",\"hovertemplate\":\"label=no action\\u003cbr\\u003elenght=%{x}\\u003cbr\\u003ecount=%{y}\\u003cextra\\u003e\\u003c\\u002fextra\\u003e\",\"legendgroup\":\"no action\",\"marker\":{\"color\":\"#FF97FF\",\"pattern\":{\"shape\":\"\"}},\"name\":\"no action\",\"offsetgroup\":\"no action\",\"orientation\":\"v\",\"showlegend\":true,\"x\":[76,192],\"xaxis\":\"x\",\"yaxis\":\"y\",\"type\":\"histogram\"}],                        {\"template\":{\"data\":{\"histogram2dcontour\":[{\"type\":\"histogram2dcontour\",\"colorbar\":{\"outlinewidth\":0,\"ticks\":\"\"},\"colorscale\":[[0.0,\"#0d0887\"],[0.1111111111111111,\"#46039f\"],[0.2222222222222222,\"#7201a8\"],[0.3333333333333333,\"#9c179e\"],[0.4444444444444444,\"#bd3786\"],[0.5555555555555556,\"#d8576b\"],[0.6666666666666666,\"#ed7953\"],[0.7777777777777778,\"#fb9f3a\"],[0.8888888888888888,\"#fdca26\"],[1.0,\"#f0f921\"]]}],\"choropleth\":[{\"type\":\"choropleth\",\"colorbar\":{\"outlinewidth\":0,\"ticks\":\"\"}}],\"histogram2d\":[{\"type\":\"histogram2d\",\"colorbar\":{\"outlinewidth\":0,\"ticks\":\"\"},\"colorscale\":[[0.0,\"#0d0887\"],[0.1111111111111111,\"#46039f\"],[0.2222222222222222,\"#7201a8\"],[0.3333333333333333,\"#9c179e\"],[0.4444444444444444,\"#bd3786\"],[0.5555555555555556,\"#d8576b\"],[0.6666666666666666,\"#ed7953\"],[0.7777777777777778,\"#fb9f3a\"],[0.8888888888888888,\"#fdca26\"],[1.0,\"#f0f921\"]]}],\"heatmap\":[{\"type\":\"heatmap\",\"colorbar\":{\"outlinewidth\":0,\"ticks\":\"\"},\"colorscale\":[[0.0,\"#0d0887\"],[0.1111111111111111,\"#46039f\"],[0.2222222222222222,\"#7201a8\"],[0.3333333333333333,\"#9c179e\"],[0.4444444444444444,\"#bd3786\"],[0.5555555555555556,\"#d8576b\"],[0.6666666666666666,\"#ed7953\"],[0.7777777777777778,\"#fb9f3a\"],[0.8888888888888888,\"#fdca26\"],[1.0,\"#f0f921\"]]}],\"heatmapgl\":[{\"type\":\"heatmapgl\",\"colorbar\":{\"outlinewidth\":0,\"ticks\":\"\"},\"colorscale\":[[0.0,\"#0d0887\"],[0.1111111111111111,\"#46039f\"],[0.2222222222222222,\"#7201a8\"],[0.3333333333333333,\"#9c179e\"],[0.4444444444444444,\"#bd3786\"],[0.5555555555555556,\"#d8576b\"],[0.6666666666666666,\"#ed7953\"],[0.7777777777777778,\"#fb9f3a\"],[0.8888888888888888,\"#fdca26\"],[1.0,\"#f0f921\"]]}],\"contourcarpet\":[{\"type\":\"contourcarpet\",\"colorbar\":{\"outlinewidth\":0,\"ticks\":\"\"}}],\"contour\":[{\"type\":\"contour\",\"colorbar\":{\"outlinewidth\":0,\"ticks\":\"\"},\"colorscale\":[[0.0,\"#0d0887\"],[0.1111111111111111,\"#46039f\"],[0.2222222222222222,\"#7201a8\"],[0.3333333333333333,\"#9c179e\"],[0.4444444444444444,\"#bd3786\"],[0.5555555555555556,\"#d8576b\"],[0.6666666666666666,\"#ed7953\"],[0.7777777777777778,\"#fb9f3a\"],[0.8888888888888888,\"#fdca26\"],[1.0,\"#f0f921\"]]}],\"surface\":[{\"type\":\"surface\",\"colorbar\":{\"outlinewidth\":0,\"ticks\":\"\"},\"colorscale\":[[0.0,\"#0d0887\"],[0.1111111111111111,\"#46039f\"],[0.2222222222222222,\"#7201a8\"],[0.3333333333333333,\"#9c179e\"],[0.4444444444444444,\"#bd3786\"],[0.5555555555555556,\"#d8576b\"],[0.6666666666666666,\"#ed7953\"],[0.7777777777777778,\"#fb9f3a\"],[0.8888888888888888,\"#fdca26\"],[1.0,\"#f0f921\"]]}],\"mesh3d\":[{\"type\":\"mesh3d\",\"colorbar\":{\"outlinewidth\":0,\"ticks\":\"\"}}],\"scatter\":[{\"fillpattern\":{\"fillmode\":\"overlay\",\"size\":10,\"solidity\":0.2},\"type\":\"scatter\"}],\"parcoords\":[{\"type\":\"parcoords\",\"line\":{\"colorbar\":{\"outlinewidth\":0,\"ticks\":\"\"}}}],\"scatterpolargl\":[{\"type\":\"scatterpolargl\",\"marker\":{\"colorbar\":{\"outlinewidth\":0,\"ticks\":\"\"}}}],\"bar\":[{\"error_x\":{\"color\":\"#2a3f5f\"},\"error_y\":{\"color\":\"#2a3f5f\"},\"marker\":{\"line\":{\"color\":\"#E5ECF6\",\"width\":0.5},\"pattern\":{\"fillmode\":\"overlay\",\"size\":10,\"solidity\":0.2}},\"type\":\"bar\"}],\"scattergeo\":[{\"type\":\"scattergeo\",\"marker\":{\"colorbar\":{\"outlinewidth\":0,\"ticks\":\"\"}}}],\"scatterpolar\":[{\"type\":\"scatterpolar\",\"marker\":{\"colorbar\":{\"outlinewidth\":0,\"ticks\":\"\"}}}],\"histogram\":[{\"marker\":{\"pattern\":{\"fillmode\":\"overlay\",\"size\":10,\"solidity\":0.2}},\"type\":\"histogram\"}],\"scattergl\":[{\"type\":\"scattergl\",\"marker\":{\"colorbar\":{\"outlinewidth\":0,\"ticks\":\"\"}}}],\"scatter3d\":[{\"type\":\"scatter3d\",\"line\":{\"colorbar\":{\"outlinewidth\":0,\"ticks\":\"\"}},\"marker\":{\"colorbar\":{\"outlinewidth\":0,\"ticks\":\"\"}}}],\"scattermapbox\":[{\"type\":\"scattermapbox\",\"marker\":{\"colorbar\":{\"outlinewidth\":0,\"ticks\":\"\"}}}],\"scatterternary\":[{\"type\":\"scatterternary\",\"marker\":{\"colorbar\":{\"outlinewidth\":0,\"ticks\":\"\"}}}],\"scattercarpet\":[{\"type\":\"scattercarpet\",\"marker\":{\"colorbar\":{\"outlinewidth\":0,\"ticks\":\"\"}}}],\"carpet\":[{\"aaxis\":{\"endlinecolor\":\"#2a3f5f\",\"gridcolor\":\"white\",\"linecolor\":\"white\",\"minorgridcolor\":\"white\",\"startlinecolor\":\"#2a3f5f\"},\"baxis\":{\"endlinecolor\":\"#2a3f5f\",\"gridcolor\":\"white\",\"linecolor\":\"white\",\"minorgridcolor\":\"white\",\"startlinecolor\":\"#2a3f5f\"},\"type\":\"carpet\"}],\"table\":[{\"cells\":{\"fill\":{\"color\":\"#EBF0F8\"},\"line\":{\"color\":\"white\"}},\"header\":{\"fill\":{\"color\":\"#C8D4E3\"},\"line\":{\"color\":\"white\"}},\"type\":\"table\"}],\"barpolar\":[{\"marker\":{\"line\":{\"color\":\"#E5ECF6\",\"width\":0.5},\"pattern\":{\"fillmode\":\"overlay\",\"size\":10,\"solidity\":0.2}},\"type\":\"barpolar\"}],\"pie\":[{\"automargin\":true,\"type\":\"pie\"}]},\"layout\":{\"autotypenumbers\":\"strict\",\"colorway\":[\"#636efa\",\"#EF553B\",\"#00cc96\",\"#ab63fa\",\"#FFA15A\",\"#19d3f3\",\"#FF6692\",\"#B6E880\",\"#FF97FF\",\"#FECB52\"],\"font\":{\"color\":\"#2a3f5f\"},\"hovermode\":\"closest\",\"hoverlabel\":{\"align\":\"left\"},\"paper_bgcolor\":\"white\",\"plot_bgcolor\":\"#E5ECF6\",\"polar\":{\"bgcolor\":\"#E5ECF6\",\"angularaxis\":{\"gridcolor\":\"white\",\"linecolor\":\"white\",\"ticks\":\"\"},\"radialaxis\":{\"gridcolor\":\"white\",\"linecolor\":\"white\",\"ticks\":\"\"}},\"ternary\":{\"bgcolor\":\"#E5ECF6\",\"aaxis\":{\"gridcolor\":\"white\",\"linecolor\":\"white\",\"ticks\":\"\"},\"baxis\":{\"gridcolor\":\"white\",\"linecolor\":\"white\",\"ticks\":\"\"},\"caxis\":{\"gridcolor\":\"white\",\"linecolor\":\"white\",\"ticks\":\"\"}},\"coloraxis\":{\"colorbar\":{\"outlinewidth\":0,\"ticks\":\"\"}},\"colorscale\":{\"sequential\":[[0.0,\"#0d0887\"],[0.1111111111111111,\"#46039f\"],[0.2222222222222222,\"#7201a8\"],[0.3333333333333333,\"#9c179e\"],[0.4444444444444444,\"#bd3786\"],[0.5555555555555556,\"#d8576b\"],[0.6666666666666666,\"#ed7953\"],[0.7777777777777778,\"#fb9f3a\"],[0.8888888888888888,\"#fdca26\"],[1.0,\"#f0f921\"]],\"sequentialminus\":[[0.0,\"#0d0887\"],[0.1111111111111111,\"#46039f\"],[0.2222222222222222,\"#7201a8\"],[0.3333333333333333,\"#9c179e\"],[0.4444444444444444,\"#bd3786\"],[0.5555555555555556,\"#d8576b\"],[0.6666666666666666,\"#ed7953\"],[0.7777777777777778,\"#fb9f3a\"],[0.8888888888888888,\"#fdca26\"],[1.0,\"#f0f921\"]],\"diverging\":[[0,\"#8e0152\"],[0.1,\"#c51b7d\"],[0.2,\"#de77ae\"],[0.3,\"#f1b6da\"],[0.4,\"#fde0ef\"],[0.5,\"#f7f7f7\"],[0.6,\"#e6f5d0\"],[0.7,\"#b8e186\"],[0.8,\"#7fbc41\"],[0.9,\"#4d9221\"],[1,\"#276419\"]]},\"xaxis\":{\"gridcolor\":\"white\",\"linecolor\":\"white\",\"ticks\":\"\",\"title\":{\"standoff\":15},\"zerolinecolor\":\"white\",\"automargin\":true,\"zerolinewidth\":2},\"yaxis\":{\"gridcolor\":\"white\",\"linecolor\":\"white\",\"ticks\":\"\",\"title\":{\"standoff\":15},\"zerolinecolor\":\"white\",\"automargin\":true,\"zerolinewidth\":2},\"scene\":{\"xaxis\":{\"backgroundcolor\":\"#E5ECF6\",\"gridcolor\":\"white\",\"linecolor\":\"white\",\"showbackground\":true,\"ticks\":\"\",\"zerolinecolor\":\"white\",\"gridwidth\":2},\"yaxis\":{\"backgroundcolor\":\"#E5ECF6\",\"gridcolor\":\"white\",\"linecolor\":\"white\",\"showbackground\":true,\"ticks\":\"\",\"zerolinecolor\":\"white\",\"gridwidth\":2},\"zaxis\":{\"backgroundcolor\":\"#E5ECF6\",\"gridcolor\":\"white\",\"linecolor\":\"white\",\"showbackground\":true,\"ticks\":\"\",\"zerolinecolor\":\"white\",\"gridwidth\":2}},\"shapedefaults\":{\"line\":{\"color\":\"#2a3f5f\"}},\"annotationdefaults\":{\"arrowcolor\":\"#2a3f5f\",\"arrowhead\":0,\"arrowwidth\":1},\"geo\":{\"bgcolor\":\"white\",\"landcolor\":\"#E5ECF6\",\"subunitcolor\":\"white\",\"showland\":true,\"showlakes\":true,\"lakecolor\":\"white\"},\"title\":{\"x\":0.05},\"mapbox\":{\"style\":\"light\"}}},\"xaxis\":{\"anchor\":\"y\",\"domain\":[0.0,1.0],\"title\":{\"text\":\"lenght\"}},\"yaxis\":{\"anchor\":\"x\",\"domain\":[0.0,1.0],\"title\":{\"text\":\"count\"}},\"legend\":{\"title\":{\"text\":\"label\"},\"tracegroupgap\":0},\"title\":{\"text\":\"Distrubtion of the length of each action\",\"x\":0.5},\"barmode\":\"relative\"},                        {\"responsive\": true}                    ).then(function(){\n",
              "                            \n",
              "var gd = document.getElementById('56f3f7af-07ab-496f-ab90-4902225a64e8');\n",
              "var x = new MutationObserver(function (mutations, observer) {{\n",
              "        var display = window.getComputedStyle(gd).display;\n",
              "        if (!display || display === 'none') {{\n",
              "            console.log([gd, 'removed!']);\n",
              "            Plotly.purge(gd);\n",
              "            observer.disconnect();\n",
              "        }}\n",
              "}});\n",
              "\n",
              "// Listen for the removal of the full notebook cells\n",
              "var notebookContainer = gd.closest('#notebook-container');\n",
              "if (notebookContainer) {{\n",
              "    x.observe(notebookContainer, {childList: true});\n",
              "}}\n",
              "\n",
              "// Listen for the clearing of the current output cell\n",
              "var outputEl = gd.closest('.output');\n",
              "if (outputEl) {{\n",
              "    x.observe(outputEl, {childList: true});\n",
              "}}\n",
              "\n",
              "                        })                };                            </script>        </div>\n",
              "</body>\n",
              "</html>"
            ]
          },
          "metadata": {}
        }
      ]
    },
    {
      "cell_type": "code",
      "source": [
        "plt.figure(figsize=(12, 6))\n",
        "sns.boxplot(x='label', y='gait_duration', data=match_concat)\n",
        "plt.xticks(rotation=45)\n",
        "plt.title('Box plot of gait duration by action')\n",
        "plt.xlabel('Action')\n",
        "plt.ylabel('Gait duration')\n",
        "plt.show()"
      ],
      "metadata": {
        "colab": {
          "base_uri": "https://localhost:8080/",
          "height": 606
        },
        "id": "_k9QAER-eFaf",
        "outputId": "94f7ea49-d401-4b00-f5fa-3cc81ea9e746"
      },
      "execution_count": null,
      "outputs": [
        {
          "output_type": "display_data",
          "data": {
            "text/plain": [
              "<Figure size 1200x600 with 1 Axes>"
            ],
            "image/png": "[encoded data removed]"
          },
          "metadata": {}
        }
      ]
    },
    {
      "cell_type": "markdown",
      "source": [
        "The 'rest' action takes much longer than the other actions, whereas the 'run' action takes less time, which can be justified by the fact that a player can't run for long at high speed."
      ],
      "metadata": {
        "id": "5SABiNz_y8Hp"
      }
    },
    {
      "cell_type": "markdown",
      "source": [
        "# Modelling"
      ],
      "metadata": {
        "id": "hcyxvUT0sA5j"
      }
    },
    {
      "cell_type": "markdown",
      "source": [
        "### Preprocessing"
      ],
      "metadata": {
        "id": "vPgCXVzYzdTV"
      }
    },
    {
      "cell_type": "code",
      "source": [
        "match_concat.describe(percentiles=[.005, .5, .75, .95, .98])"
      ],
      "metadata": {
        "colab": {
          "base_uri": "https://localhost:8080/",
          "height": 363
        },
        "id": "6y94Km2jgE7H",
        "outputId": "5cc21ec8-8a6f-4fbc-c00d-4391684eeb65"
      },
      "execution_count": null,
      "outputs": [
        {
          "output_type": "execute_result",
          "data": {
            "text/plain": [
              "       gait_duration    gait_mean     gait_min     gait_max  gait_median  \\\n",
              "count    1187.000000  1187.000000  1187.000000  1187.000000  1187.000000   \n",
              "mean        0.941078    46.346373    14.069531   159.543627    39.056835   \n",
              "std         0.608432    23.797832     6.949747   135.354562    18.236281   \n",
              "min         0.020000    20.099577     1.674630    22.069263    19.813333   \n",
              "0.5%        0.117200    20.752886     2.963342    24.132508    20.125685   \n",
              "50%         0.880000    39.166649    13.086243   110.724715    33.258858   \n",
              "75%         1.120000    57.413722    16.624149   192.319937    48.782934   \n",
              "95%         1.560000    92.127656    27.779731   489.743240    73.469392   \n",
              "98%         2.040000   109.257965    34.302708   566.523943    85.636106   \n",
              "max        14.460000   202.130400    65.472226   775.479360   165.179490   \n",
              "\n",
              "          gait_std  \n",
              "count  1187.000000  \n",
              "mean     28.856896  \n",
              "std      26.066746  \n",
              "min       0.000000  \n",
              "0.5%      1.220710  \n",
              "50%      20.369153  \n",
              "75%      35.432828  \n",
              "95%      87.427489  \n",
              "98%     112.244759  \n",
              "max     199.964277  "
            ],
            "text/html": [
              "\n",
              "  <div id=\"df-ac6f9f61-6dc8-4885-8fcf-a17ce7d0758d\" class=\"colab-df-container\">\n",
              "    <div>\n",
              "<style scoped>\n",
              "    .dataframe tbody tr th:only-of-type {\n",
              "        vertical-align: middle;\n",
              "    }\n",
              "\n",
              "    .dataframe tbody tr th {\n",
              "        vertical-align: top;\n",
              "    }\n",
              "\n",
              "    .dataframe thead th {\n",
              "        text-align: right;\n",
              "    }\n",
              "</style>\n",
              "<table border=\"1\" class=\"dataframe\">\n",
              "  <thead>\n",
              "    <tr style=\"text-align: right;\">\n",
              "      <th></th>\n",
              "      <th>gait_duration</th>\n",
              "      <th>gait_mean</th>\n",
              "      <th>gait_min</th>\n",
              "      <th>gait_max</th>\n",
              "      <th>gait_median</th>\n",
              "      <th>gait_std</th>\n",
              "    </tr>\n",
              "  </thead>\n",
              "  <tbody>\n",
              "    <tr>\n",
              "      <th>count</th>\n",
              "      <td>1187.000000</td>\n",
              "      <td>1187.000000</td>\n",
              "      <td>1187.000000</td>\n",
              "      <td>1187.000000</td>\n",
              "      <td>1187.000000</td>\n",
              "      <td>1187.000000</td>\n",
              "    </tr>\n",
              "    <tr>\n",
              "      <th>mean</th>\n",
              "      <td>0.941078</td>\n",
              "      <td>46.346373</td>\n",
              "      <td>14.069531</td>\n",
              "      <td>159.543627</td>\n",
              "      <td>39.056835</td>\n",
              "      <td>28.856896</td>\n",
              "    </tr>\n",
              "    <tr>\n",
              "      <th>std</th>\n",
              "      <td>0.608432</td>\n",
              "      <td>23.797832</td>\n",
              "      <td>6.949747</td>\n",
              "      <td>135.354562</td>\n",
              "      <td>18.236281</td>\n",
              "      <td>26.066746</td>\n",
              "    </tr>\n",
              "    <tr>\n",
              "      <th>min</th>\n",
              "      <td>0.020000</td>\n",
              "      <td>20.099577</td>\n",
              "      <td>1.674630</td>\n",
              "      <td>22.069263</td>\n",
              "      <td>19.813333</td>\n",
              "      <td>0.000000</td>\n",
              "    </tr>\n",
              "    <tr>\n",
              "      <th>0.5%</th>\n",
              "      <td>0.117200</td>\n",
              "      <td>20.752886</td>\n",
              "      <td>2.963342</td>\n",
              "      <td>24.132508</td>\n",
              "      <td>20.125685</td>\n",
              "      <td>1.220710</td>\n",
              "    </tr>\n",
              "    <tr>\n",
              "      <th>50%</th>\n",
              "      <td>0.880000</td>\n",
              "      <td>39.166649</td>\n",
              "      <td>13.086243</td>\n",
              "      <td>110.724715</td>\n",
              "      <td>33.258858</td>\n",
              "      <td>20.369153</td>\n",
              "    </tr>\n",
              "    <tr>\n",
              "      <th>75%</th>\n",
              "      <td>1.120000</td>\n",
              "      <td>57.413722</td>\n",
              "      <td>16.624149</td>\n",
              "      <td>192.319937</td>\n",
              "      <td>48.782934</td>\n",
              "      <td>35.432828</td>\n",
              "    </tr>\n",
              "    <tr>\n",
              "      <th>95%</th>\n",
              "      <td>1.560000</td>\n",
              "      <td>92.127656</td>\n",
              "      <td>27.779731</td>\n",
              "      <td>489.743240</td>\n",
              "      <td>73.469392</td>\n",
              "      <td>87.427489</td>\n",
              "    </tr>\n",
              "    <tr>\n",
              "      <th>98%</th>\n",
              "      <td>2.040000</td>\n",
              "      <td>109.257965</td>\n",
              "      <td>34.302708</td>\n",
              "      <td>566.523943</td>\n",
              "      <td>85.636106</td>\n",
              "      <td>112.244759</td>\n",
              "    </tr>\n",
              "    <tr>\n",
              "      <th>max</th>\n",
              "      <td>14.460000</td>\n",
              "      <td>202.130400</td>\n",
              "      <td>65.472226</td>\n",
              "      <td>775.479360</td>\n",
              "      <td>165.179490</td>\n",
              "      <td>199.964277</td>\n",
              "    </tr>\n",
              "  </tbody>\n",
              "</table>\n",
              "</div>\n",
              "    <div class=\"colab-df-buttons\">\n",
              "\n",
              "  <div class=\"colab-df-container\">\n",
              "    <button class=\"colab-df-convert\" onclick=\"convertToInteractive('df-ac6f9f61-6dc8-4885-8fcf-a17ce7d0758d')\"\n",
              "            title=\"Convert this dataframe to an interactive table.\"\n",
              "            style=\"display:none;\">\n",
              "\n",
              "  <svg xmlns=\"http://www.w3.org/2000/svg\" height=\"24px\" viewBox=\"0 -960 960 960\">\n",
              "    <path d=\"M120-120v-720h720v720H120Zm60-500h600v-160H180v160Zm220 220h160v-160H400v160Zm0 220h160v-160H400v160ZM180-400h160v-160H180v160Zm440 0h160v-160H620v160ZM180-180h160v-160H180v160Zm440 0h160v-160H620v160Z\"/>\n",
              "  </svg>\n",
              "    </button>\n",
              "\n",
              "  <style>\n",
              "    .colab-df-container {\n",
              "      display:flex;\n",
              "      gap: 12px;\n",
              "    }\n",
              "\n",
              "    .colab-df-convert {\n",
              "      background-color: #E8F0FE;\n",
              "      border: none;\n",
              "      border-radius: 50%;\n",
              "      cursor: pointer;\n",
              "      display: none;\n",
              "      fill: #1967D2;\n",
              "      height: 32px;\n",
              "      padding: 0 0 0 0;\n",
              "      width: 32px;\n",
              "    }\n",
              "\n",
              "    .colab-df-convert:hover {\n",
              "      background-color: #E2EBFA;\n",
              "      box-shadow: 0px 1px 2px rgba(60, 64, 67, 0.3), 0px 1px 3px 1px rgba(60, 64, 67, 0.15);\n",
              "      fill: #174EA6;\n",
              "    }\n",
              "\n",
              "    .colab-df-buttons div {\n",
              "      margin-bottom: 4px;\n",
              "    }\n",
              "\n",
              "    [theme=dark] .colab-df-convert {\n",
              "      background-color: #3B4455;\n",
              "      fill: #D2E3FC;\n",
              "    }\n",
              "\n",
              "    [theme=dark] .colab-df-convert:hover {\n",
              "      background-color: #434B5C;\n",
              "      box-shadow: 0px 1px 3px 1px rgba(0, 0, 0, 0.15);\n",
              "      filter: drop-shadow(0px 1px 2px rgba(0, 0, 0, 0.3));\n",
              "      fill: #FFFFFF;\n",
              "    }\n",
              "  </style>\n",
              "\n",
              "    <script>\n",
              "      const buttonEl =\n",
              "        document.querySelector('#df-ac6f9f61-6dc8-4885-8fcf-a17ce7d0758d button.colab-df-convert');\n",
              "      buttonEl.style.display =\n",
              "        google.colab.kernel.accessAllowed ? 'block' : 'none';\n",
              "\n",
              "      async function convertToInteractive(key) {\n",
              "        const element = document.querySelector('#df-ac6f9f61-6dc8-4885-8fcf-a17ce7d0758d');\n",
              "        const dataTable =\n",
              "          await google.colab.kernel.invokeFunction('convertToInteractive',\n",
              "                                                    [key], {});\n",
              "        if (!dataTable) return;\n",
              "\n",
              "        const docLinkHtml = 'Like what you see? Visit the ' +\n",
              "          '<a target=\"_blank\" href=https://colab.research.google.com/notebooks/data_table.ipynb>data table notebook</a>'\n",
              "          + ' to learn more about interactive tables.';\n",
              "        element.innerHTML = '';\n",
              "        dataTable['output_type'] = 'display_data';\n",
              "        await google.colab.output.renderOutput(dataTable, element);\n",
              "        const docLink = document.createElement('div');\n",
              "        docLink.innerHTML = docLinkHtml;\n",
              "        element.appendChild(docLink);\n",
              "      }\n",
              "    </script>\n",
              "  </div>\n",
              "\n",
              "\n",
              "<div id=\"df-5873c992-dbcb-4091-a66f-69015a5a8ed5\">\n",
              "  <button class=\"colab-df-quickchart\" onclick=\"quickchart('df-5873c992-dbcb-4091-a66f-69015a5a8ed5')\"\n",
              "            title=\"Suggest charts.\"\n",
              "            style=\"display:none;\">\n",
              "\n",
              "<svg xmlns=\"http://www.w3.org/2000/svg\" height=\"24px\"viewBox=\"0 0 24 24\"\n",
              "     width=\"24px\">\n",
              "    <g>\n",
              "        <path d=\"M19 3H5c-1.1 0-2 .9-2 2v14c0 1.1.9 2 2 2h14c1.1 0 2-.9 2-2V5c0-1.1-.9-2-2-2zM9 17H7v-7h2v7zm4 0h-2V7h2v10zm4 0h-2v-4h2v4z\"/>\n",
              "    </g>\n",
              "</svg>\n",
              "  </button>\n",
              "\n",
              "<style>\n",
              "  .colab-df-quickchart {\n",
              "      --bg-color: #E8F0FE;\n",
              "      --fill-color: #1967D2;\n",
              "      --hover-bg-color: #E2EBFA;\n",
              "      --hover-fill-color: #174EA6;\n",
              "      --disabled-fill-color: #AAA;\n",
              "      --disabled-bg-color: #DDD;\n",
              "  }\n",
              "\n",
              "  [theme=dark] .colab-df-quickchart {\n",
              "      --bg-color: #3B4455;\n",
              "      --fill-color: #D2E3FC;\n",
              "      --hover-bg-color: #434B5C;\n",
              "      --hover-fill-color: #FFFFFF;\n",
              "      --disabled-bg-color: #3B4455;\n",
              "      --disabled-fill-color: #666;\n",
              "  }\n",
              "\n",
              "  .colab-df-quickchart {\n",
              "    background-color: var(--bg-color);\n",
              "    border: none;\n",
              "    border-radius: 50%;\n",
              "    cursor: pointer;\n",
              "    display: none;\n",
              "    fill: var(--fill-color);\n",
              "    height: 32px;\n",
              "    padding: 0;\n",
              "    width: 32px;\n",
              "  }\n",
              "\n",
              "  .colab-df-quickchart:hover {\n",
              "    background-color: var(--hover-bg-color);\n",
              "    box-shadow: 0 1px 2px rgba(60, 64, 67, 0.3), 0 1px 3px 1px rgba(60, 64, 67, 0.15);\n",
              "    fill: var(--button-hover-fill-color);\n",
              "  }\n",
              "\n",
              "  .colab-df-quickchart-complete:disabled,\n",
              "  .colab-df-quickchart-complete:disabled:hover {\n",
              "    background-color: var(--disabled-bg-color);\n",
              "    fill: var(--disabled-fill-color);\n",
              "    box-shadow: none;\n",
              "  }\n",
              "\n",
              "  .colab-df-spinner {\n",
              "    border: 2px solid var(--fill-color);\n",
              "    border-color: transparent;\n",
              "    border-bottom-color: var(--fill-color);\n",
              "    animation:\n",
              "      spin 1s steps(1) infinite;\n",
              "  }\n",
              "\n",
              "  @keyframes spin {\n",
              "    0% {\n",
              "      border-color: transparent;\n",
              "      border-bottom-color: var(--fill-color);\n",
              "      border-left-color: var(--fill-color);\n",
              "    }\n",
              "    20% {\n",
              "      border-color: transparent;\n",
              "      border-left-color: var(--fill-color);\n",
              "      border-top-color: var(--fill-color);\n",
              "    }\n",
              "    30% {\n",
              "      border-color: transparent;\n",
              "      border-left-color: var(--fill-color);\n",
              "      border-top-color: var(--fill-color);\n",
              "      border-right-color: var(--fill-color);\n",
              "    }\n",
              "    40% {\n",
              "      border-color: transparent;\n",
              "      border-right-color: var(--fill-color);\n",
              "      border-top-color: var(--fill-color);\n",
              "    }\n",
              "    60% {\n",
              "      border-color: transparent;\n",
              "      border-right-color: var(--fill-color);\n",
              "    }\n",
              "    80% {\n",
              "      border-color: transparent;\n",
              "      border-right-color: var(--fill-color);\n",
              "      border-bottom-color: var(--fill-color);\n",
              "    }\n",
              "    90% {\n",
              "      border-color: transparent;\n",
              "      border-bottom-color: var(--fill-color);\n",
              "    }\n",
              "  }\n",
              "</style>\n",
              "\n",
              "  <script>\n",
              "    async function quickchart(key) {\n",
              "      const quickchartButtonEl =\n",
              "        document.querySelector('#' + key + ' button');\n",
              "      quickchartButtonEl.disabled = true;  // To prevent multiple clicks.\n",
              "      quickchartButtonEl.classList.add('colab-df-spinner');\n",
              "      try {\n",
              "        const charts = await google.colab.kernel.invokeFunction(\n",
              "            'suggestCharts', [key], {});\n",
              "      } catch (error) {\n",
              "        console.error('Error during call to suggestCharts:', error);\n",
              "      }\n",
              "      quickchartButtonEl.classList.remove('colab-df-spinner');\n",
              "      quickchartButtonEl.classList.add('colab-df-quickchart-complete');\n",
              "    }\n",
              "    (() => {\n",
              "      let quickchartButtonEl =\n",
              "        document.querySelector('#df-5873c992-dbcb-4091-a66f-69015a5a8ed5 button');\n",
              "      quickchartButtonEl.style.display =\n",
              "        google.colab.kernel.accessAllowed ? 'block' : 'none';\n",
              "    })();\n",
              "  </script>\n",
              "</div>\n",
              "    </div>\n",
              "  </div>\n"
            ]
          },
          "metadata": {},
          "execution_count": 14
        }
      ]
    },
    {
      "cell_type": "code",
      "source": [
        "#List of all actions\n",
        "actions = list(np.unique(match_concat.label.values))"
      ],
      "metadata": {
        "id": "cH-ID6jLo8qs"
      },
      "execution_count": null,
      "outputs": []
    },
    {
      "cell_type": "code",
      "source": [
        "#Dictionnary of dataframes of all actions\n",
        "dict_data = {}\n",
        "for action in actions:\n",
        "  index_action = list((match_concat['label'] == action)[match_concat['label'] == action].index)\n",
        "  dict_data[f'data_{action}'] = match_concat.loc[index_action]"
      ],
      "metadata": {
        "id": "ESQpjIGzo5by"
      },
      "execution_count": null,
      "outputs": []
    },
    {
      "cell_type": "code",
      "source": [
        "for action in actions:\n",
        "  print(action, dict_data[f'data_{action}']['gait_duration'].min(), dict_data[f'data_{action}']['gait_duration'].median(), dict_data[f'data_{action}']['gait_duration'].mean(), dict_data[f'data_{action}']['gait_duration'].max())"
      ],
      "metadata": {
        "id": "P-Ssjz_DqL_a",
        "colab": {
          "base_uri": "https://localhost:8080/"
        },
        "outputId": "c7aaf51e-f374-45e3-e394-32579e9d089d"
      },
      "execution_count": null,
      "outputs": [
        {
          "output_type": "stream",
          "name": "stdout",
          "text": [
            "cross 0.6 1.08 1.0499999999999998 1.44\n",
            "dribble 0.06 0.72 0.7851282051282051 2.0\n",
            "no action 1.52 2.6799999999999997 2.6799999999999997 3.84\n",
            "pass 0.06 0.66 0.85375 2.04\n",
            "rest 0.36 1.52 2.3154285714285714 14.46\n",
            "run 0.02 0.7000000000000001 0.7531521739130435 1.8800000000000001\n",
            "shot 0.08 0.72 0.6755555555555555 1.32\n",
            "tackle 0.4 0.8 0.9245161290322581 2.36\n",
            "walk 0.16 1.08 1.106528735632184 3.58\n"
          ]
        }
      ]
    },
    {
      "cell_type": "markdown",
      "source": [
        "To ensure a logical length of the gaits, we have set a minimum and maximum logic for each type of action."
      ],
      "metadata": {
        "id": "D2tVdvB61S8K"
      }
    },
    {
      "cell_type": "code",
      "source": [
        "#Dictionnary of [min, max] length of each action\n",
        "dict_action_length = {}\n",
        "\n",
        "dict_action_length['no action'] = [0.4, 3]\n",
        "dict_action_length['rest'] = [0.4, 3]\n",
        "dict_action_length['cross'] = [0.4, 3]\n",
        "dict_action_length['walk'] = [0.4, 3]\n",
        "\n",
        "dict_action_length['dribble'] = [0.1, 1.4]\n",
        "dict_action_length['shot'] = [0.1, 1.4]\n",
        "\n",
        "dict_action_length['pass'] = [0.1, 2.3]\n",
        "dict_action_length['tackle'] = [0.1, 2.3]\n",
        "dict_action_length['run'] = [0.1, 2.3]\n"
      ],
      "metadata": {
        "id": "AN02ueabzAMK"
      },
      "execution_count": null,
      "outputs": []
    },
    {
      "cell_type": "code",
      "source": [
        "def valid_gait(data_frame, action):\n",
        "  \"\"\"\n",
        "    Filter a DataFrame based on the duration of a specific gait action.\n",
        "\n",
        "    Parameters:\n",
        "    - data_frame (pd.DataFrame): The DataFrame containing gait data.\n",
        "    - action (str): The gait action for which to filter the data.\n",
        "\n",
        "    Returns:\n",
        "    - pd.DataFrame: A filtered DataFrame containing only rows where the gait duration falls within the specified range for the given action.\n",
        "\n",
        "    This function filters the input DataFrame based on the duration of a specific gait action,\n",
        "    ensuring that the gait duration falls within a predefined range for that action (predefined length).\n",
        "    The 'action' parameter specifies which gait action to filter, and the function uses the\n",
        "    'dict_action_length' dictionary to determine the allowable duration range for that action.\n",
        "    \"\"\"\n",
        "  min = dict_action_length[action][0]\n",
        "  max = dict_action_length[action][1]\n",
        "\n",
        "  mask_min = (data_frame.gait_duration > min)\n",
        "  mask_max = (data_frame.gait_duration < max)\n",
        "  mask = np.logical_and(mask_min, mask_max)\n",
        "\n",
        "  v_gait = list(mask[mask].index)\n",
        "\n",
        "  return data_frame.loc[v_gait].reset_index(drop=True)"
      ],
      "metadata": {
        "id": "nhoOgJO-SBlK"
      },
      "execution_count": null,
      "outputs": []
    },
    {
      "cell_type": "markdown",
      "source": [
        "We keep only gaits that respect the [min,max] length fixed above"
      ],
      "metadata": {
        "id": "GbOX-UiL1dwU"
      }
    },
    {
      "cell_type": "code",
      "source": [
        "dict_data_valid = {}\n",
        "for action in actions :\n",
        "  dict_data_valid[f'data_valid_{action}'] = valid_gait(dict_data[f'data_{action}'], action)"
      ],
      "metadata": {
        "id": "aYwxID3Tf75A"
      },
      "execution_count": null,
      "outputs": []
    },
    {
      "cell_type": "markdown",
      "source": [
        "To train our model, we should have the same length for all gaits of each action, so we should impute gaits with a length lower than the maximal length. In order to keep the same distrubtion for all gaits, we use the normal distrubtion of the gait. The numbers generated must be between the min and the max acceleration of the gait."
      ],
      "metadata": {
        "id": "XfdQ_ikT1te6"
      }
    },
    {
      "cell_type": "code",
      "source": [
        "def impute_with_normal_distribution(x, length):\n",
        "    \"\"\"\n",
        "    Impute missing values in a list 'x' using the normal distribution of the list \"x\".\n",
        "\n",
        "    Parameters:\n",
        "    - x (list): The list containing numeric values.\n",
        "    - length (int): The length of \"x\" after the imputation.\n",
        "\n",
        "    Returns:\n",
        "    - list: A new list with the choosen length imputed using random values drawn from the normal distribution of the initial list \"x\".\n",
        "\n",
        "    This function imputes the list 'x' to reach a choosen length : 'length' random values from\n",
        "    a normal distribution with the same mean and standard deviation as in 'x'. Those values are beetween\n",
        "    the min and the max of \"x\"\n",
        "    The imputed values are added to the end of the list 'x'.\n",
        "    \"\"\"\n",
        "\n",
        "    for i in range(length):\n",
        "      bool = True\n",
        "      while bool:\n",
        "          random_value = np.random.normal(np.mean(x), np.std(x))\n",
        "          if np.min(x) <= random_value <= np.max(x):\n",
        "              x.append(random_value)\n",
        "              bool = False\n",
        "\n",
        "    return x"
      ],
      "metadata": {
        "id": "ltHN_ZZXxwMC"
      },
      "execution_count": null,
      "outputs": []
    },
    {
      "cell_type": "code",
      "source": [
        "for action in actions:\n",
        "  dict_data_valid[f'data_valid_{action}']['norm'].apply(lambda x : impute_with_normal_distribution(x, int(dict_action_length[action][1]/0.02) - len(x)))"
      ],
      "metadata": {
        "id": "QUcHwtzM0iTu"
      },
      "execution_count": null,
      "outputs": []
    },
    {
      "cell_type": "markdown",
      "source": [
        "The gaits are transformed into columns so that each column contains an acceleration."
      ],
      "metadata": {
        "id": "afXc3M6U2sPK"
      }
    },
    {
      "cell_type": "code",
      "source": [
        "dict_data_modelling = {}\n",
        "for action in actions :\n",
        "  dict_data_modelling[f'data_modelling_{action}'] = dict_data_valid[f'data_valid_{action}'].copy()\n",
        "  for i in range(int(dict_action_length[action][1]*50)):\n",
        "    dict_data_modelling[f'data_modelling_{action}'][f'element_{i}']= dict_data_modelling[f'data_modelling_{action}']['norm'].apply(lambda x: x[i])\n",
        "  dict_data_modelling[f'data_modelling_{action}'] = dict_data_modelling[f'data_modelling_{action}'].drop(columns = ['norm','gait_duration','gait_min', 'gait_mean', 'gait_max','gait_median','gait_std'])"
      ],
      "metadata": {
        "id": "2qfgRLlxhqUo"
      },
      "execution_count": null,
      "outputs": []
    },
    {
      "cell_type": "markdown",
      "source": [
        "### Model training"
      ],
      "metadata": {
        "id": "HRbhXcBxPOLr"
      }
    },
    {
      "cell_type": "markdown",
      "source": [
        "We have only one row for the action \"no action\", so we don't use it for the model training"
      ],
      "metadata": {
        "id": "k-1oNm7F3HPP"
      }
    },
    {
      "cell_type": "code",
      "source": [
        "actions = ['cross',\n",
        " 'dribble',\n",
        " 'pass',\n",
        " 'rest',\n",
        " 'run',\n",
        " 'shot',\n",
        " 'tackle',\n",
        " 'walk']"
      ],
      "metadata": {
        "id": "VWUKOC0EK4Ld"
      },
      "execution_count": null,
      "outputs": []
    },
    {
      "cell_type": "markdown",
      "source": [
        "We train one CTGAN model for each action, for more details check the pdf."
      ],
      "metadata": {
        "id": "FoUqOdp_3Q9h"
      }
    },
    {
      "cell_type": "code",
      "source": [
        "dict_metadata = {}\n",
        "dict_synthesizer = {}\n",
        "for action in actions :\n",
        "  dict_metadata[f'metadata_{action}'] = SingleTableMetadata()\n",
        "  dict_metadata[f'metadata_{action}'].detect_from_dataframe(data=dict_data_modelling[f'data_modelling_{action}'])\n",
        "\n",
        "  dict_synthesizer[f'synth_{action}'] = CTGANSynthesizer(\n",
        "    dict_metadata[f'metadata_{action}'],\n",
        "    enforce_min_max_values=True,\n",
        "    enforce_rounding=False,\n",
        "    )\n",
        "\n",
        "  dict_synthesizer[f'synth_{action}'].fit(dict_data_modelling[f'data_modelling_{action}'])\n",
        "\n"
      ],
      "metadata": {
        "id": "axzMzFroJbxR"
      },
      "execution_count": null,
      "outputs": []
    },
    {
      "cell_type": "code",
      "source": [
        "for action in actions:\n",
        "\n",
        "  dict_synthesizer[f'synth_{action}'].save(\n",
        "    filepath='/content/drive/MyDrive/footbar/' + f'synth_{action}.pkl'\n",
        ")\n"
      ],
      "metadata": {
        "id": "tfPChNuQNZ2k"
      },
      "execution_count": null,
      "outputs": []
    },
    {
      "cell_type": "code",
      "source": [
        "dict_synthesizer = {}\n",
        "for action in actions:\n",
        "  dict_synthesizer[f'synth_{action}'] = CTGANSynthesizer.load(\n",
        "      filepath='/content/drive/MyDrive/footbar/' + f'synth_{action}.pkl'\n",
        "  )"
      ],
      "metadata": {
        "id": "FOWZfZlkBXF7"
      },
      "execution_count": null,
      "outputs": []
    },
    {
      "cell_type": "markdown",
      "source": [
        "# Match generation"
      ],
      "metadata": {
        "id": "xbXZpdjg3pq2"
      }
    },
    {
      "cell_type": "code",
      "source": [
        "def gen_match(time, style):\n",
        "  \"\"\"\n",
        "    Generate a synthetic football match dataset based on the specified time and playing style.\n",
        "\n",
        "    Parameters:\n",
        "    - time (float): The duration of the football match in minutes.\n",
        "    - style (str): The playing style of the match, which can be 'attacking', 'defending', or 'balanced'.\n",
        "\n",
        "    Returns:\n",
        "    - pd.DataFrame: A synthetic football match dataset with actions. Each row contain an gait of action and the label of this action\n",
        "\n",
        "    This function generates a synthetic football match dataset with actions such as 'walk', 'run', 'rest', 'dribble', 'cross', 'pass', 'shot', and 'tackle'.\n",
        "    The probabilities of these actions occurring are determined by the playing style specified:\n",
        "    - 'attacking': Actions with higher offensive probabilities.\n",
        "    - 'defending': Actions with higher defensive probabilities.\n",
        "    - 'balanced': Actions with balanced probabilities.\n",
        "\n",
        "    The 'time' parameter specifies the duration of the match in minutes, which is converted to seconds internally.\n",
        "\n",
        "    The generated dataset includes action labels and 'norm' columns containing synthetic data for each action.\n",
        "    The data is sampled and shuffled to create a realistic match sequence and is returned as a Pandas DataFrame.\n",
        "    \"\"\"\n",
        "  dict_match = {}\n",
        "  if style == 'attacking':\n",
        "        action_probs = {'walk': 0.2, 'run': 0.3, 'rest': 0.04, 'dribble': 0.15, 'cross': 0.1, 'pass': 0.1, 'shot': 0.1, 'tackle': 0.01}\n",
        "  elif style == 'defending':\n",
        "      action_probs = {'walk': 0.2, 'run': 0.3, 'rest': 0.05, 'dribble': 0.14, 'cross': 0.05, 'pass': 0.05, 'shot':0.01, 'tackle': 0.2}\n",
        "  elif style == 'balanced':\n",
        "      action_probs = {'walk': 0.2, 'run': 0.3, 'rest': 0.05, 'dribble': 0.1, 'cross': 0.15, 'pass': 0.15, 'shot': 0.1, 'tackle':0.1}\n",
        "\n",
        "  time = time*60\n",
        "\n",
        "  action_in_game = []\n",
        "  for action in actions:\n",
        "    dict_match[f'match_{action}'] = dict_synthesizer[f'synth_{action}'].sample(num_rows = int(time*action_probs[action]/dict_action_length[action][1])-1)\n",
        "    if dict_match[f'match_{action}'].shape[0] != 0:\n",
        "        action_in_game.append(action)\n",
        "        dict_match[f'match_{action}']['norm'] = dict_match[f'match_{action}'].drop(columns=['label']).apply(lambda row: row.tolist(), axis=1)\n",
        "\n",
        "  data_match = pd.concat([dict_match[f'match_{action}'] for action in action_in_game], axis = 0)\n",
        "\n",
        "  bool = True\n",
        "  while bool:\n",
        "    real_match = data_match[['label','norm']].sample(frac=1).reset_index(drop=True)\n",
        "    pattern = ['shot','shot','shot']\n",
        "    for i in range(len(list(real_match['label'])) - len(pattern) + 1):\n",
        "        if list(real_match['label'])[i:i+len(pattern)] == pattern:\n",
        "          bool = False\n",
        "\n",
        "  return real_match"
      ],
      "metadata": {
        "id": "CMHaaDKwQl22"
      },
      "execution_count": 49,
      "outputs": []
    },
    {
      "cell_type": "code",
      "source": [
        "match = gen_match(15, 'attacking')"
      ],
      "metadata": {
        "id": "Borijn3AJzb6"
      },
      "execution_count": 50,
      "outputs": []
    },
    {
      "cell_type": "code",
      "source": [
        "match"
      ],
      "metadata": {
        "colab": {
          "base_uri": "https://localhost:8080/",
          "height": 424
        },
        "id": "b3nwTwy3QmcF",
        "outputId": "a67d179e-28d1-4fe2-ea77-8d669f621dee"
      },
      "execution_count": 52,
      "outputs": [
        {
          "output_type": "execute_result",
          "data": {
            "text/plain": [
              "       label                                               norm\n",
              "0        run  [78.68644987219756, 80.07343677974353, 65.9581...\n",
              "1    dribble  [9.884389166881045, 73.63227517393656, 62.4231...\n",
              "2        run  [88.6284773002977, 109.88322517389064, 60.0405...\n",
              "3    dribble  [9.884389166881045, 115.81641753792961, 27.515...\n",
              "4        run  [77.85027429427358, 76.12853436795524, 157.875...\n",
              "..       ...                                                ...\n",
              "408  dribble  [9.884389166881045, 86.54166168889421, 74.7516...\n",
              "409     walk  [22.59198720842708, 54.99342238812733, 21.3426...\n",
              "410     shot  [13.40051035824778, 60.18165079490617, 150.650...\n",
              "411      run  [42.87584078368021, 59.03519942041823, 46.6802...\n",
              "412      run  [41.73971775859007, 96.6477133270762, 20.91827...\n",
              "\n",
              "[413 rows x 2 columns]"
            ],
            "text/html": [
              "\n",
              "  <div id=\"df-e29c1daf-02fb-40d5-83ef-00c9f946935c\" class=\"colab-df-container\">\n",
              "    <div>\n",
              "<style scoped>\n",
              "    .dataframe tbody tr th:only-of-type {\n",
              "        vertical-align: middle;\n",
              "    }\n",
              "\n",
              "    .dataframe tbody tr th {\n",
              "        vertical-align: top;\n",
              "    }\n",
              "\n",
              "    .dataframe thead th {\n",
              "        text-align: right;\n",
              "    }\n",
              "</style>\n",
              "<table border=\"1\" class=\"dataframe\">\n",
              "  <thead>\n",
              "    <tr style=\"text-align: right;\">\n",
              "      <th></th>\n",
              "      <th>label</th>\n",
              "      <th>norm</th>\n",
              "    </tr>\n",
              "  </thead>\n",
              "  <tbody>\n",
              "    <tr>\n",
              "      <th>0</th>\n",
              "      <td>run</td>\n",
              "      <td>[78.68644987219756, 80.07343677974353, 65.9581...</td>\n",
              "    </tr>\n",
              "    <tr>\n",
              "      <th>1</th>\n",
              "      <td>dribble</td>\n",
              "      <td>[9.884389166881045, 73.63227517393656, 62.4231...</td>\n",
              "    </tr>\n",
              "    <tr>\n",
              "      <th>2</th>\n",
              "      <td>run</td>\n",
              "      <td>[88.6284773002977, 109.88322517389064, 60.0405...</td>\n",
              "    </tr>\n",
              "    <tr>\n",
              "      <th>3</th>\n",
              "      <td>dribble</td>\n",
              "      <td>[9.884389166881045, 115.81641753792961, 27.515...</td>\n",
              "    </tr>\n",
              "    <tr>\n",
              "      <th>4</th>\n",
              "      <td>run</td>\n",
              "      <td>[77.85027429427358, 76.12853436795524, 157.875...</td>\n",
              "    </tr>\n",
              "    <tr>\n",
              "      <th>...</th>\n",
              "      <td>...</td>\n",
              "      <td>...</td>\n",
              "    </tr>\n",
              "    <tr>\n",
              "      <th>408</th>\n",
              "      <td>dribble</td>\n",
              "      <td>[9.884389166881045, 86.54166168889421, 74.7516...</td>\n",
              "    </tr>\n",
              "    <tr>\n",
              "      <th>409</th>\n",
              "      <td>walk</td>\n",
              "      <td>[22.59198720842708, 54.99342238812733, 21.3426...</td>\n",
              "    </tr>\n",
              "    <tr>\n",
              "      <th>410</th>\n",
              "      <td>shot</td>\n",
              "      <td>[13.40051035824778, 60.18165079490617, 150.650...</td>\n",
              "    </tr>\n",
              "    <tr>\n",
              "      <th>411</th>\n",
              "      <td>run</td>\n",
              "      <td>[42.87584078368021, 59.03519942041823, 46.6802...</td>\n",
              "    </tr>\n",
              "    <tr>\n",
              "      <th>412</th>\n",
              "      <td>run</td>\n",
              "      <td>[41.73971775859007, 96.6477133270762, 20.91827...</td>\n",
              "    </tr>\n",
              "  </tbody>\n",
              "</table>\n",
              "<p>413 rows × 2 columns</p>\n",
              "</div>\n",
              "    <div class=\"colab-df-buttons\">\n",
              "\n",
              "  <div class=\"colab-df-container\">\n",
              "    <button class=\"colab-df-convert\" onclick=\"convertToInteractive('df-e29c1daf-02fb-40d5-83ef-00c9f946935c')\"\n",
              "            title=\"Convert this dataframe to an interactive table.\"\n",
              "            style=\"display:none;\">\n",
              "\n",
              "  <svg xmlns=\"http://www.w3.org/2000/svg\" height=\"24px\" viewBox=\"0 -960 960 960\">\n",
              "    <path d=\"M120-120v-720h720v720H120Zm60-500h600v-160H180v160Zm220 220h160v-160H400v160Zm0 220h160v-160H400v160ZM180-400h160v-160H180v160Zm440 0h160v-160H620v160ZM180-180h160v-160H180v160Zm440 0h160v-160H620v160Z\"/>\n",
              "  </svg>\n",
              "    </button>\n",
              "\n",
              "  <style>\n",
              "    .colab-df-container {\n",
              "      display:flex;\n",
              "      gap: 12px;\n",
              "    }\n",
              "\n",
              "    .colab-df-convert {\n",
              "      background-color: #E8F0FE;\n",
              "      border: none;\n",
              "      border-radius: 50%;\n",
              "      cursor: pointer;\n",
              "      display: none;\n",
              "      fill: #1967D2;\n",
              "      height: 32px;\n",
              "      padding: 0 0 0 0;\n",
              "      width: 32px;\n",
              "    }\n",
              "\n",
              "    .colab-df-convert:hover {\n",
              "      background-color: #E2EBFA;\n",
              "      box-shadow: 0px 1px 2px rgba(60, 64, 67, 0.3), 0px 1px 3px 1px rgba(60, 64, 67, 0.15);\n",
              "      fill: #174EA6;\n",
              "    }\n",
              "\n",
              "    .colab-df-buttons div {\n",
              "      margin-bottom: 4px;\n",
              "    }\n",
              "\n",
              "    [theme=dark] .colab-df-convert {\n",
              "      background-color: #3B4455;\n",
              "      fill: #D2E3FC;\n",
              "    }\n",
              "\n",
              "    [theme=dark] .colab-df-convert:hover {\n",
              "      background-color: #434B5C;\n",
              "      box-shadow: 0px 1px 3px 1px rgba(0, 0, 0, 0.15);\n",
              "      filter: drop-shadow(0px 1px 2px rgba(0, 0, 0, 0.3));\n",
              "      fill: #FFFFFF;\n",
              "    }\n",
              "  </style>\n",
              "\n",
              "    <script>\n",
              "      const buttonEl =\n",
              "        document.querySelector('#df-e29c1daf-02fb-40d5-83ef-00c9f946935c button.colab-df-convert');\n",
              "      buttonEl.style.display =\n",
              "        google.colab.kernel.accessAllowed ? 'block' : 'none';\n",
              "\n",
              "      async function convertToInteractive(key) {\n",
              "        const element = document.querySelector('#df-e29c1daf-02fb-40d5-83ef-00c9f946935c');\n",
              "        const dataTable =\n",
              "          await google.colab.kernel.invokeFunction('convertToInteractive',\n",
              "                                                    [key], {});\n",
              "        if (!dataTable) return;\n",
              "\n",
              "        const docLinkHtml = 'Like what you see? Visit the ' +\n",
              "          '<a target=\"_blank\" href=https://colab.research.google.com/notebooks/data_table.ipynb>data table notebook</a>'\n",
              "          + ' to learn more about interactive tables.';\n",
              "        element.innerHTML = '';\n",
              "        dataTable['output_type'] = 'display_data';\n",
              "        await google.colab.output.renderOutput(dataTable, element);\n",
              "        const docLink = document.createElement('div');\n",
              "        docLink.innerHTML = docLinkHtml;\n",
              "        element.appendChild(docLink);\n",
              "      }\n",
              "    </script>\n",
              "  </div>\n",
              "\n",
              "\n",
              "<div id=\"df-9910e045-2253-4df8-affd-2d20af0f5df4\">\n",
              "  <button class=\"colab-df-quickchart\" onclick=\"quickchart('df-9910e045-2253-4df8-affd-2d20af0f5df4')\"\n",
              "            title=\"Suggest charts.\"\n",
              "            style=\"display:none;\">\n",
              "\n",
              "<svg xmlns=\"http://www.w3.org/2000/svg\" height=\"24px\"viewBox=\"0 0 24 24\"\n",
              "     width=\"24px\">\n",
              "    <g>\n",
              "        <path d=\"M19 3H5c-1.1 0-2 .9-2 2v14c0 1.1.9 2 2 2h14c1.1 0 2-.9 2-2V5c0-1.1-.9-2-2-2zM9 17H7v-7h2v7zm4 0h-2V7h2v10zm4 0h-2v-4h2v4z\"/>\n",
              "    </g>\n",
              "</svg>\n",
              "  </button>\n",
              "\n",
              "<style>\n",
              "  .colab-df-quickchart {\n",
              "      --bg-color: #E8F0FE;\n",
              "      --fill-color: #1967D2;\n",
              "      --hover-bg-color: #E2EBFA;\n",
              "      --hover-fill-color: #174EA6;\n",
              "      --disabled-fill-color: #AAA;\n",
              "      --disabled-bg-color: #DDD;\n",
              "  }\n",
              "\n",
              "  [theme=dark] .colab-df-quickchart {\n",
              "      --bg-color: #3B4455;\n",
              "      --fill-color: #D2E3FC;\n",
              "      --hover-bg-color: #434B5C;\n",
              "      --hover-fill-color: #FFFFFF;\n",
              "      --disabled-bg-color: #3B4455;\n",
              "      --disabled-fill-color: #666;\n",
              "  }\n",
              "\n",
              "  .colab-df-quickchart {\n",
              "    background-color: var(--bg-color);\n",
              "    border: none;\n",
              "    border-radius: 50%;\n",
              "    cursor: pointer;\n",
              "    display: none;\n",
              "    fill: var(--fill-color);\n",
              "    height: 32px;\n",
              "    padding: 0;\n",
              "    width: 32px;\n",
              "  }\n",
              "\n",
              "  .colab-df-quickchart:hover {\n",
              "    background-color: var(--hover-bg-color);\n",
              "    box-shadow: 0 1px 2px rgba(60, 64, 67, 0.3), 0 1px 3px 1px rgba(60, 64, 67, 0.15);\n",
              "    fill: var(--button-hover-fill-color);\n",
              "  }\n",
              "\n",
              "  .colab-df-quickchart-complete:disabled,\n",
              "  .colab-df-quickchart-complete:disabled:hover {\n",
              "    background-color: var(--disabled-bg-color);\n",
              "    fill: var(--disabled-fill-color);\n",
              "    box-shadow: none;\n",
              "  }\n",
              "\n",
              "  .colab-df-spinner {\n",
              "    border: 2px solid var(--fill-color);\n",
              "    border-color: transparent;\n",
              "    border-bottom-color: var(--fill-color);\n",
              "    animation:\n",
              "      spin 1s steps(1) infinite;\n",
              "  }\n",
              "\n",
              "  @keyframes spin {\n",
              "    0% {\n",
              "      border-color: transparent;\n",
              "      border-bottom-color: var(--fill-color);\n",
              "      border-left-color: var(--fill-color);\n",
              "    }\n",
              "    20% {\n",
              "      border-color: transparent;\n",
              "      border-left-color: var(--fill-color);\n",
              "      border-top-color: var(--fill-color);\n",
              "    }\n",
              "    30% {\n",
              "      border-color: transparent;\n",
              "      border-left-color: var(--fill-color);\n",
              "      border-top-color: var(--fill-color);\n",
              "      border-right-color: var(--fill-color);\n",
              "    }\n",
              "    40% {\n",
              "      border-color: transparent;\n",
              "      border-right-color: var(--fill-color);\n",
              "      border-top-color: var(--fill-color);\n",
              "    }\n",
              "    60% {\n",
              "      border-color: transparent;\n",
              "      border-right-color: var(--fill-color);\n",
              "    }\n",
              "    80% {\n",
              "      border-color: transparent;\n",
              "      border-right-color: var(--fill-color);\n",
              "      border-bottom-color: var(--fill-color);\n",
              "    }\n",
              "    90% {\n",
              "      border-color: transparent;\n",
              "      border-bottom-color: var(--fill-color);\n",
              "    }\n",
              "  }\n",
              "</style>\n",
              "\n",
              "  <script>\n",
              "    async function quickchart(key) {\n",
              "      const quickchartButtonEl =\n",
              "        document.querySelector('#' + key + ' button');\n",
              "      quickchartButtonEl.disabled = true;  // To prevent multiple clicks.\n",
              "      quickchartButtonEl.classList.add('colab-df-spinner');\n",
              "      try {\n",
              "        const charts = await google.colab.kernel.invokeFunction(\n",
              "            'suggestCharts', [key], {});\n",
              "      } catch (error) {\n",
              "        console.error('Error during call to suggestCharts:', error);\n",
              "      }\n",
              "      quickchartButtonEl.classList.remove('colab-df-spinner');\n",
              "      quickchartButtonEl.classList.add('colab-df-quickchart-complete');\n",
              "    }\n",
              "    (() => {\n",
              "      let quickchartButtonEl =\n",
              "        document.querySelector('#df-9910e045-2253-4df8-affd-2d20af0f5df4 button');\n",
              "      quickchartButtonEl.style.display =\n",
              "        google.colab.kernel.accessAllowed ? 'block' : 'none';\n",
              "    })();\n",
              "  </script>\n",
              "</div>\n",
              "    </div>\n",
              "  </div>\n"
            ]
          },
          "metadata": {},
          "execution_count": 52
        }
      ]
    }
  ]
}